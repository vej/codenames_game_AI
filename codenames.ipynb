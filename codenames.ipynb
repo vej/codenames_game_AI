{
 "cells": [
  {
   "cell_type": "markdown",
   "id": "d71efe8f-93b6-4025-920c-2c6f009369bf",
   "metadata": {},
   "source": [
    "# Imports"
   ]
  },
  {
   "cell_type": "code",
   "execution_count": 1,
   "id": "21648384-ce7d-4d0f-addd-717193f87cf8",
   "metadata": {},
   "outputs": [],
   "source": [
    "import numpy as np\n",
    "import pandas as pd\n",
    "import pandas as pd\n",
    "import matplotlib.pyplot as plt\n",
    "import plotly.express as px\n",
    "from itertools import zip_longest\n",
    "from itertools import combinations\n",
    "from IPython.display import HTML\n",
    "from sklearn.decomposition import PCA\n",
    "from sklearn.manifold import TSNE\n",
    "from termcolor import colored\n",
    "from scipy import spatial\n",
    "from sklearn.cluster import DBSCAN"
   ]
  },
  {
   "cell_type": "markdown",
   "id": "e4a280ed-d302-4f20-8cee-84368cbc0fa2",
   "metadata": {},
   "source": [
    "# Load the pretrained word embeddings\n"
   ]
  },
  {
   "cell_type": "code",
   "execution_count": 2,
   "id": "23a3857d-6031-4307-88c5-d5f78d905ed8",
   "metadata": {},
   "outputs": [],
   "source": [
    "embeddings = {}\n",
    "\n",
    "with open(\"words/freq_words.txt\", 'r') as f:\n",
    "    for line in f:\n",
    "        word_info = line.split()\n",
    "        word = word_info[0]\n",
    "        embeddings[word] = np.asarray(word_info[1:], \"float32\")\n",
    "        \n",
    "        "
   ]
  },
  {
   "cell_type": "markdown",
   "id": "c736bfbb-f68c-480b-ac42-5e0d8c2416a6",
   "metadata": {},
   "source": [
    "We can find the difference between any two words by finding the cosine distance between them. \n",
    "\n"
   ]
  },
  {
   "cell_type": "code",
   "execution_count": 3,
   "id": "81f5d498-9e78-491d-97ef-06b597bd706b",
   "metadata": {},
   "outputs": [],
   "source": [
    "def distance(word, reference):\n",
    "    return spatial.distance.cosine(embeddings[word], embeddings[reference])\n",
    "\n",
    "def find_closest_embeddings(embed):\n",
    "    return sorted(embeddings.keys(), key=lambda word: spatial.distance.cosine(embeddings[word], embed))\n"
   ]
  },
  {
   "cell_type": "markdown",
   "id": "2a62757c-fa87-4890-af86-350eaec62700",
   "metadata": {},
   "source": [
    "We can then use this distance to find the closest words to any other word. For instance:"
   ]
  },
  {
   "cell_type": "code",
   "execution_count": 4,
   "id": "e75dde5d-60a2-46bb-b51a-ee1ad96b7161",
   "metadata": {},
   "outputs": [],
   "source": [
    "def distance(word, reference):\n",
    "    return spatial.distance.cosine(embeddings[word], embeddings[reference])\n",
    "\n",
    "def find_closest_embeddings(embed):\n",
    "    return sorted(embeddings.keys(), key=lambda word: spatial.distance.cosine(embeddings[word], embed))\n"
   ]
  },
  {
   "cell_type": "markdown",
   "id": "07d3f8c3-aad9-4107-abbc-7fcc5a3a0923",
   "metadata": {},
   "source": [
    "We can then use this distance to find the closest words to any other word. For instance:"
   ]
  },
  {
   "cell_type": "code",
   "execution_count": 5,
   "id": "40cce629-3ebb-417f-a26b-4de25a5432d1",
   "metadata": {},
   "outputs": [
    {
     "data": {
      "text/plain": [
       "'king: king, queen, prince, kings, henry, kingdom, reign, throne, george, lord, emperor, charles, son, john, duke, david, solomon, father, ii, edward'"
      ]
     },
     "execution_count": 5,
     "metadata": {},
     "output_type": "execute_result"
    }
   ],
   "source": [
    "'king: ' + ', '.join(w for w in find_closest_embeddings(embeddings['king'])[:20])\n"
   ]
  },
  {
   "cell_type": "markdown",
   "id": "3ae44a62-37f2-4142-8819-349863494071",
   "metadata": {},
   "source": [
    "(Side note, you can use this function to do word math, for instance, king - man + woman = queen)"
   ]
  },
  {
   "cell_type": "markdown",
   "id": "952e7a44-0d34-40c6-8335-11234e16fc5f",
   "metadata": {},
   "source": [
    "# Guesser:\n",
    "First, lets have the computer guess which words on the board are the ones being clued. \n"
   ]
  },
  {
   "cell_type": "markdown",
   "id": "e7d9c396-00f3-4845-b9d1-7dfb8b9414ce",
   "metadata": {},
   "source": [
    "### Set up the board:\n",
    "\n",
    "Here in the first cell, write the list of words for each team.\n",
    "\n",
    "$\\color{blue}{\\text{Edit the words to match the board, and add the clue and the number:}}$"
   ]
  },
  {
   "cell_type": "code",
   "execution_count": 6,
   "id": "f505a00c-d78b-466e-98c5-5b7ab66ccfc3",
   "metadata": {},
   "outputs": [],
   "source": [
    "words = ['bikini', 'road', 'sling', 'cat', 'calf', 'stick', 'diamond', 'star', 'spirit','bunk', 'kangaroo', 'hit', 'cast', 'princess', 'death', 'bolt', 'knife', 'bee', 'soldier', 'beach', 'pine', 'bowl', 'antarctica', 'mole']\n",
    "clue = 'harness'\n",
    "clue_num = 2\n"
   ]
  },
  {
   "cell_type": "markdown",
   "id": "a5ba7715-a390-49f3-b74d-de3e7ac056f0",
   "metadata": {},
   "source": [
    "### Find related words:\n",
    "We can then find which words are closest:"
   ]
  },
  {
   "cell_type": "code",
   "execution_count": 7,
   "id": "f587bd33-645b-4e41-91f3-983cf7dd3951",
   "metadata": {},
   "outputs": [
    {
     "data": {
      "text/plain": [
       "['sling', 'bolt']"
      ]
     },
     "execution_count": 7,
     "metadata": {},
     "output_type": "execute_result"
    }
   ],
   "source": [
    "\n",
    "distance_w = {}\n",
    "for w in words:\n",
    "    distance_w[w] = distance(w, clue)\n",
    "\n",
    "sorted_w = sorted(words, key = distance_w.get)\n",
    "sorted_w[:clue_num]"
   ]
  },
  {
   "cell_type": "markdown",
   "id": "707e5c90-bc92-4bc1-ba5d-43e443bf1574",
   "metadata": {},
   "source": [
    "----\n",
    "----\n",
    "# Spymaster\n",
    "The harder task is having the AI assist in clue generation-- the role of the spymaster."
   ]
  },
  {
   "cell_type": "markdown",
   "id": "6f4d6c1a-392f-4528-905c-18a336ff502d",
   "metadata": {},
   "source": [
    "### Set up the board:\n",
    "\n",
    "Here in the first cell, write the list of words for each team.\n",
    "\n",
    "$\\color{blue}{\\text{Edit the words to match the given board}}$"
   ]
  },
  {
   "cell_type": "code",
   "execution_count": 8,
   "id": "4ae6afc2-dc83-458e-9ce1-9e75adb255ed",
   "metadata": {},
   "outputs": [],
   "source": [
    "our_team = ['bolt', 'kangaroo', 'road', 'cat', 'spirit', 'sling', 'star', 'beach', 'diamond']\n",
    "their_team = ['cast', 'bee', 'death', 'bunk' ,'mole', 'bowl', 'knife', 'antarctica']\n",
    "bomb = ['calf']\n",
    "neutral = ['bikini', 'pine', 'hit' ,'princess', 'stick' ,'soldier']\n"
   ]
  },
  {
   "cell_type": "markdown",
   "id": "1fc9c4a0-77a9-43e1-a66a-c5a9078f9f63",
   "metadata": {},
   "source": [
    "We then need to set up the words and labels for the model:"
   ]
  },
  {
   "cell_type": "code",
   "execution_count": 9,
   "id": "2a98815b-f350-49fa-8aea-a3299aea0034",
   "metadata": {},
   "outputs": [],
   "source": [
    "labels = ['our_team']*len(our_team) + ['their_team']*len(their_team) + ['bomb'] + ['neutral']*len(neutral)\n",
    "words = our_team + their_team + bomb + neutral\n"
   ]
  },
  {
   "cell_type": "code",
   "execution_count": 10,
   "id": "d9cf1ba1-f6ca-477b-9640-c9090511ba9e",
   "metadata": {},
   "outputs": [],
   "source": [
    "color_map = {'our_team': 'deeppink', 'their_team':'cornflowerblue', 'bomb':'yellow', 'neutral':'grey'}"
   ]
  },
  {
   "cell_type": "markdown",
   "id": "322b905b-fc2c-4b60-a378-fa21ee0c6647",
   "metadata": {},
   "source": [
    "Next we will need to put the embeddings for our words into a matrix:"
   ]
  },
  {
   "cell_type": "code",
   "execution_count": 11,
   "id": "3b214729-2c92-40ed-9baa-59e7a8b5c527",
   "metadata": {},
   "outputs": [],
   "source": [
    "embedding_matrix = [embeddings[key] for key in words]\n",
    "embedding_matrix = np.array(embedding_matrix)"
   ]
  },
  {
   "cell_type": "code",
   "execution_count": 12,
   "id": "7a20c63a-9b93-4ed0-85e5-c3b9689d9d09",
   "metadata": {},
   "outputs": [
    {
     "name": "stdout",
     "output_type": "stream",
     "text": [
      "\u001b[31mOUR TEAM: \n",
      "bolt, kangaroo, road, cat, spirit, sling, star, beach, diamond\u001b[0m\n",
      "\u001b[34mTHEIR TEAM: \n",
      "cast, bee, death, bunk, mole, bowl, knife, antarctica\u001b[0m\n",
      "\u001b[33mBOMB: \n",
      "calf\u001b[0m\n",
      "\u001b[30mNEUTRAL: \n",
      "bikini, pine, hit, princess, stick, soldier\u001b[0m\n"
     ]
    }
   ],
   "source": [
    "def word_list_str(group):\n",
    "    return(', '.join(w for w in group))\n",
    "\n",
    "print(colored('OUR TEAM: \\n' + word_list_str(our_team), 'red'))\n",
    "print(colored('THEIR TEAM: \\n' + word_list_str(their_team), 'blue'))\n",
    "print(colored('BOMB: \\n' + word_list_str(bomb), 'yellow'))\n",
    "print(colored('NEUTRAL: \\n' + word_list_str(neutral), 'grey'))\n"
   ]
  },
  {
   "cell_type": "markdown",
   "id": "f8820fb9-aec9-4b44-a03d-2b6709d176c8",
   "metadata": {},
   "source": [
    "\n",
    "### Reduce dimensions to visualize codenames board\n",
    "We first want to visualize the words in lower dimensional space so we can decide which of the words we want to clue. This notebook lets you use either t-SNE or PCA, and can reduce to either 2 or 3 dimensions.\n",
    "\n"
   ]
  },
  {
   "cell_type": "code",
   "execution_count": 13,
   "id": "4f901a2a-07ba-4a03-a96b-74eb713dedfe",
   "metadata": {},
   "outputs": [],
   "source": [
    "def TSNE_fit(embedding_matrix, n_comp = 2):\n",
    "    N = embedding_matrix.shape[0]\n",
    "    early_exaggeration = 12\n",
    "    \n",
    "    l_rate = N / early_exaggeration / 4\n",
    "    return TSNE(n_components=n_comp, init='random', perplexity=5, learning_rate = l_rate).fit_transform(embedding_matrix)\n",
    "    "
   ]
  },
  {
   "cell_type": "code",
   "execution_count": 14,
   "id": "8691419b-c379-4cb0-9c4d-6c3ea8f843ff",
   "metadata": {},
   "outputs": [],
   "source": [
    "def PCA_fit(embedding_matrix, n_comp=2):\n",
    "    return PCA(n_components = n_comp).fit_transform(embedding_matrix)\n",
    "    "
   ]
  },
  {
   "cell_type": "code",
   "execution_count": 15,
   "id": "50c00036-c312-4906-9c1a-d990f8f2e0b6",
   "metadata": {},
   "outputs": [],
   "source": [
    "def matrix_to_df(X_embedded, words, labels):\n",
    "    temp_dict = {}\n",
    "    temp_list = []\n",
    "    \n",
    "    \n",
    "    for i, row in enumerate(X_embedded):\n",
    "        temp_dict = {}\n",
    "        temp_dict['word'] = words[i]\n",
    "        temp_dict['label'] = labels[i]\n",
    "        temp_dict['dim1'] = row[0]\n",
    "        temp_dict['dim2'] = row[1]\n",
    "        if len(row) == 3:\n",
    "            temp_dict['dim3'] = row[2]\n",
    "        temp_list.append(temp_dict)\n",
    "        \n",
    "    return pd.DataFrame(temp_list)\n",
    "\n"
   ]
  },
  {
   "cell_type": "markdown",
   "id": "929fee93-fe86-4269-a98b-a054d4c3c908",
   "metadata": {},
   "source": [
    "Additionally, we may want to view the clusters. We do this with DBSCAN, which finds \"core\" samples of high density, and expands the clusters around them to their neighboring points. Depending on the board, you may need to adjust eps (the radius to look for neighbors), and min_samples (the number of neighbors to consider as a core point of a cluster). "
   ]
  },
  {
   "cell_type": "code",
   "execution_count": 128,
   "id": "2ea9b957-f7ca-4e92-b98e-c2cb1bcc64f1",
   "metadata": {},
   "outputs": [],
   "source": [
    "def make_clusters(embedding, df_reduced, eps_val = 1.9, min_samples_val = 2):\n",
    "    clustering = DBSCAN(eps=eps_val, min_samples=min_samples_val).fit(X_embedded_3d)\n",
    "    df_reduced['cluster']  = clustering.labels_\n",
    "    return df_reduced"
   ]
  },
  {
   "cell_type": "markdown",
   "id": "ed068b71-0292-4396-a7fe-5d17ded04c91",
   "metadata": {},
   "source": [
    "Lastly, functions to plot. You may want to just plot the data in reduced dimensions for easy viewing of clusters on your team (i.e., set cluster = False), or you can view it color coded with the clusters that were created with DBSCAN, above (i.e. cluster = True)"
   ]
  },
  {
   "cell_type": "code",
   "execution_count": 136,
   "id": "4b844d76-59db-42bb-bc59-f3bd953872b3",
   "metadata": {},
   "outputs": [],
   "source": [
    "def plot_3d(df_reduced, color_map, cluster = False, png = False):\n",
    "    \n",
    "    if cluster == False:\n",
    "        fig = px.scatter_3d(df_reduced, x = 'dim1', y = 'dim2', z = 'dim3', color = 'label', text = 'word', hover_name = 'word', \n",
    "        color_discrete_map= color_map)\n",
    "    elif cluster == True:\n",
    "        fig = px.scatter_3d(df_reduced_3d, x = 'dim1', y = 'dim2', z = 'dim3', color = 'cluster', symbol = 'label', text = 'word', hover_name = 'word', \n",
    "        symbol_sequence = ['diamond', 'circle', 'cross', 'circle-open', 'square'])\n",
    "        fig.update_coloraxes(showscale=False)\n",
    "        \n",
    "    if png == False:\n",
    "        fig.show()\n",
    "    elif png == True:\n",
    "        fig.show(\"png\")\n",
    "        \n",
    "        "
   ]
  },
  {
   "cell_type": "code",
   "execution_count": 130,
   "id": "a13aa491-91af-40c5-a2f3-977acdd446f8",
   "metadata": {},
   "outputs": [],
   "source": [
    "def plot_2d(df_reduced, color_map, png = False):\n",
    "    fig = px.scatter(df_reduced, x = 'dim1', y = 'dim2', color = 'label', text = 'word', hover_name = 'word', \n",
    "           color_discrete_map= color_map)\n",
    "    if png == False:\n",
    "        fig.show()\n",
    "    elif png == True:\n",
    "        fig.show(\"png\")"
   ]
  },
  {
   "cell_type": "markdown",
   "id": "a136d6a8-b291-4323-8313-2f120cccd2b3",
   "metadata": {},
   "source": [
    "#### Reduce to 2D\n",
    "Let's first reduce to 2 dimensions and plot the results"
   ]
  },
  {
   "cell_type": "code",
   "execution_count": 131,
   "id": "74d79901-763f-48dd-a363-bb2bdc3db747",
   "metadata": {},
   "outputs": [
    {
     "data": {
      "application/vnd.plotly.v1+json": {
       "config": {
        "plotlyServerURL": "https://plot.ly"
       },
       "data": [
        {
         "hovertemplate": "<b>%{hovertext}</b><br><br>label=our_team<br>dim1=%{x}<br>dim2=%{y}<br>word=%{text}<extra></extra>",
         "hovertext": [
          "bolt",
          "kangaroo",
          "road",
          "cat",
          "spirit",
          "sling",
          "star",
          "beach",
          "diamond"
         ],
         "legendgroup": "our_team",
         "marker": {
          "color": "deeppink",
          "symbol": "circle"
         },
         "mode": "markers+text",
         "name": "our_team",
         "orientation": "v",
         "showlegend": true,
         "text": [
          "bolt",
          "kangaroo",
          "road",
          "cat",
          "spirit",
          "sling",
          "star",
          "beach",
          "diamond"
         ],
         "type": "scatter",
         "x": [
          -1.699913501739502,
          -10.18261432647705,
          2.9118738174438477,
          -5.4704670906066895,
          5.878730773925781,
          -3.8090314865112305,
          10.286742210388184,
          8.873517990112305,
          14.935958862304688
         ],
         "xaxis": "x",
         "y": [
          10.025288581848145,
          -5.054439067840576,
          5.448134899139404,
          -1.0587685108184814,
          -7.588206768035889,
          9.893638610839844,
          1.3348110914230347,
          12.150066375732422,
          0.8072729706764221
         ],
         "yaxis": "y"
        },
        {
         "hovertemplate": "<b>%{hovertext}</b><br><br>label=their_team<br>dim1=%{x}<br>dim2=%{y}<br>word=%{text}<extra></extra>",
         "hovertext": [
          "cast",
          "bee",
          "death",
          "bunk",
          "mole",
          "bowl",
          "knife",
          "antarctica"
         ],
         "legendgroup": "their_team",
         "marker": {
          "color": "cornflowerblue",
          "symbol": "circle"
         },
         "mode": "markers+text",
         "name": "their_team",
         "orientation": "v",
         "showlegend": true,
         "text": [
          "cast",
          "bee",
          "death",
          "bunk",
          "mole",
          "bowl",
          "knife",
          "antarctica"
         ],
         "type": "scatter",
         "x": [
          8.752517700195312,
          -7.771614074707031,
          2.8733463287353516,
          -9.545443534851074,
          -12.387054443359375,
          4.079492092132568,
          -0.544547975063324,
          -7.511118412017822
         ],
         "xaxis": "x",
         "y": [
          2.5324900150299072,
          -1.846256136894226,
          -6.629475116729736,
          6.418014049530029,
          -1.8174132108688354,
          -0.4906359314918518,
          -2.254918336868286,
          -8.435043334960938
         ],
         "yaxis": "y"
        },
        {
         "hovertemplate": "<b>%{hovertext}</b><br><br>label=bomb<br>dim1=%{x}<br>dim2=%{y}<br>word=%{text}<extra></extra>",
         "hovertext": [
          "calf"
         ],
         "legendgroup": "bomb",
         "marker": {
          "color": "yellow",
          "symbol": "circle"
         },
         "mode": "markers+text",
         "name": "bomb",
         "orientation": "v",
         "showlegend": true,
         "text": [
          "calf"
         ],
         "type": "scatter",
         "x": [
          -12.037951469421387
         ],
         "xaxis": "x",
         "y": [
          -6.476832866668701
         ],
         "yaxis": "y"
        },
        {
         "hovertemplate": "<b>%{hovertext}</b><br><br>label=neutral<br>dim1=%{x}<br>dim2=%{y}<br>word=%{text}<extra></extra>",
         "hovertext": [
          "bikini",
          "pine",
          "hit",
          "princess",
          "stick",
          "soldier"
         ],
         "legendgroup": "neutral",
         "marker": {
          "color": "grey",
          "symbol": "circle"
         },
         "mode": "markers+text",
         "name": "neutral",
         "orientation": "v",
         "showlegend": true,
         "text": [
          "bikini",
          "pine",
          "hit",
          "princess",
          "stick",
          "soldier"
         ],
         "type": "scatter",
         "x": [
          9.101853370666504,
          -8.056715965270996,
          1.1011605262756348,
          14.114435195922852,
          -0.023038843646645546,
          1.14016592502594
         ],
         "xaxis": "x",
         "y": [
          14.027320861816406,
          4.4697265625,
          2.460195779800415,
          -1.1860308647155762,
          0.5684393048286438,
          -7.504725456237793
         ],
         "yaxis": "y"
        }
       ],
       "layout": {
        "autosize": true,
        "legend": {
         "title": {
          "text": "label"
         },
         "tracegroupgap": 0
        },
        "margin": {
         "t": 60
        },
        "template": {
         "data": {
          "bar": [
           {
            "error_x": {
             "color": "#2a3f5f"
            },
            "error_y": {
             "color": "#2a3f5f"
            },
            "marker": {
             "line": {
              "color": "#E5ECF6",
              "width": 0.5
             },
             "pattern": {
              "fillmode": "overlay",
              "size": 10,
              "solidity": 0.2
             }
            },
            "type": "bar"
           }
          ],
          "barpolar": [
           {
            "marker": {
             "line": {
              "color": "#E5ECF6",
              "width": 0.5
             },
             "pattern": {
              "fillmode": "overlay",
              "size": 10,
              "solidity": 0.2
             }
            },
            "type": "barpolar"
           }
          ],
          "carpet": [
           {
            "aaxis": {
             "endlinecolor": "#2a3f5f",
             "gridcolor": "white",
             "linecolor": "white",
             "minorgridcolor": "white",
             "startlinecolor": "#2a3f5f"
            },
            "baxis": {
             "endlinecolor": "#2a3f5f",
             "gridcolor": "white",
             "linecolor": "white",
             "minorgridcolor": "white",
             "startlinecolor": "#2a3f5f"
            },
            "type": "carpet"
           }
          ],
          "choropleth": [
           {
            "colorbar": {
             "outlinewidth": 0,
             "ticks": ""
            },
            "type": "choropleth"
           }
          ],
          "contour": [
           {
            "colorbar": {
             "outlinewidth": 0,
             "ticks": ""
            },
            "colorscale": [
             [
              0,
              "#0d0887"
             ],
             [
              0.1111111111111111,
              "#46039f"
             ],
             [
              0.2222222222222222,
              "#7201a8"
             ],
             [
              0.3333333333333333,
              "#9c179e"
             ],
             [
              0.4444444444444444,
              "#bd3786"
             ],
             [
              0.5555555555555556,
              "#d8576b"
             ],
             [
              0.6666666666666666,
              "#ed7953"
             ],
             [
              0.7777777777777778,
              "#fb9f3a"
             ],
             [
              0.8888888888888888,
              "#fdca26"
             ],
             [
              1,
              "#f0f921"
             ]
            ],
            "type": "contour"
           }
          ],
          "contourcarpet": [
           {
            "colorbar": {
             "outlinewidth": 0,
             "ticks": ""
            },
            "type": "contourcarpet"
           }
          ],
          "heatmap": [
           {
            "colorbar": {
             "outlinewidth": 0,
             "ticks": ""
            },
            "colorscale": [
             [
              0,
              "#0d0887"
             ],
             [
              0.1111111111111111,
              "#46039f"
             ],
             [
              0.2222222222222222,
              "#7201a8"
             ],
             [
              0.3333333333333333,
              "#9c179e"
             ],
             [
              0.4444444444444444,
              "#bd3786"
             ],
             [
              0.5555555555555556,
              "#d8576b"
             ],
             [
              0.6666666666666666,
              "#ed7953"
             ],
             [
              0.7777777777777778,
              "#fb9f3a"
             ],
             [
              0.8888888888888888,
              "#fdca26"
             ],
             [
              1,
              "#f0f921"
             ]
            ],
            "type": "heatmap"
           }
          ],
          "heatmapgl": [
           {
            "colorbar": {
             "outlinewidth": 0,
             "ticks": ""
            },
            "colorscale": [
             [
              0,
              "#0d0887"
             ],
             [
              0.1111111111111111,
              "#46039f"
             ],
             [
              0.2222222222222222,
              "#7201a8"
             ],
             [
              0.3333333333333333,
              "#9c179e"
             ],
             [
              0.4444444444444444,
              "#bd3786"
             ],
             [
              0.5555555555555556,
              "#d8576b"
             ],
             [
              0.6666666666666666,
              "#ed7953"
             ],
             [
              0.7777777777777778,
              "#fb9f3a"
             ],
             [
              0.8888888888888888,
              "#fdca26"
             ],
             [
              1,
              "#f0f921"
             ]
            ],
            "type": "heatmapgl"
           }
          ],
          "histogram": [
           {
            "marker": {
             "pattern": {
              "fillmode": "overlay",
              "size": 10,
              "solidity": 0.2
             }
            },
            "type": "histogram"
           }
          ],
          "histogram2d": [
           {
            "colorbar": {
             "outlinewidth": 0,
             "ticks": ""
            },
            "colorscale": [
             [
              0,
              "#0d0887"
             ],
             [
              0.1111111111111111,
              "#46039f"
             ],
             [
              0.2222222222222222,
              "#7201a8"
             ],
             [
              0.3333333333333333,
              "#9c179e"
             ],
             [
              0.4444444444444444,
              "#bd3786"
             ],
             [
              0.5555555555555556,
              "#d8576b"
             ],
             [
              0.6666666666666666,
              "#ed7953"
             ],
             [
              0.7777777777777778,
              "#fb9f3a"
             ],
             [
              0.8888888888888888,
              "#fdca26"
             ],
             [
              1,
              "#f0f921"
             ]
            ],
            "type": "histogram2d"
           }
          ],
          "histogram2dcontour": [
           {
            "colorbar": {
             "outlinewidth": 0,
             "ticks": ""
            },
            "colorscale": [
             [
              0,
              "#0d0887"
             ],
             [
              0.1111111111111111,
              "#46039f"
             ],
             [
              0.2222222222222222,
              "#7201a8"
             ],
             [
              0.3333333333333333,
              "#9c179e"
             ],
             [
              0.4444444444444444,
              "#bd3786"
             ],
             [
              0.5555555555555556,
              "#d8576b"
             ],
             [
              0.6666666666666666,
              "#ed7953"
             ],
             [
              0.7777777777777778,
              "#fb9f3a"
             ],
             [
              0.8888888888888888,
              "#fdca26"
             ],
             [
              1,
              "#f0f921"
             ]
            ],
            "type": "histogram2dcontour"
           }
          ],
          "mesh3d": [
           {
            "colorbar": {
             "outlinewidth": 0,
             "ticks": ""
            },
            "type": "mesh3d"
           }
          ],
          "parcoords": [
           {
            "line": {
             "colorbar": {
              "outlinewidth": 0,
              "ticks": ""
             }
            },
            "type": "parcoords"
           }
          ],
          "pie": [
           {
            "automargin": true,
            "type": "pie"
           }
          ],
          "scatter": [
           {
            "fillpattern": {
             "fillmode": "overlay",
             "size": 10,
             "solidity": 0.2
            },
            "type": "scatter"
           }
          ],
          "scatter3d": [
           {
            "line": {
             "colorbar": {
              "outlinewidth": 0,
              "ticks": ""
             }
            },
            "marker": {
             "colorbar": {
              "outlinewidth": 0,
              "ticks": ""
             }
            },
            "type": "scatter3d"
           }
          ],
          "scattercarpet": [
           {
            "marker": {
             "colorbar": {
              "outlinewidth": 0,
              "ticks": ""
             }
            },
            "type": "scattercarpet"
           }
          ],
          "scattergeo": [
           {
            "marker": {
             "colorbar": {
              "outlinewidth": 0,
              "ticks": ""
             }
            },
            "type": "scattergeo"
           }
          ],
          "scattergl": [
           {
            "marker": {
             "colorbar": {
              "outlinewidth": 0,
              "ticks": ""
             }
            },
            "type": "scattergl"
           }
          ],
          "scattermapbox": [
           {
            "marker": {
             "colorbar": {
              "outlinewidth": 0,
              "ticks": ""
             }
            },
            "type": "scattermapbox"
           }
          ],
          "scatterpolar": [
           {
            "marker": {
             "colorbar": {
              "outlinewidth": 0,
              "ticks": ""
             }
            },
            "type": "scatterpolar"
           }
          ],
          "scatterpolargl": [
           {
            "marker": {
             "colorbar": {
              "outlinewidth": 0,
              "ticks": ""
             }
            },
            "type": "scatterpolargl"
           }
          ],
          "scatterternary": [
           {
            "marker": {
             "colorbar": {
              "outlinewidth": 0,
              "ticks": ""
             }
            },
            "type": "scatterternary"
           }
          ],
          "surface": [
           {
            "colorbar": {
             "outlinewidth": 0,
             "ticks": ""
            },
            "colorscale": [
             [
              0,
              "#0d0887"
             ],
             [
              0.1111111111111111,
              "#46039f"
             ],
             [
              0.2222222222222222,
              "#7201a8"
             ],
             [
              0.3333333333333333,
              "#9c179e"
             ],
             [
              0.4444444444444444,
              "#bd3786"
             ],
             [
              0.5555555555555556,
              "#d8576b"
             ],
             [
              0.6666666666666666,
              "#ed7953"
             ],
             [
              0.7777777777777778,
              "#fb9f3a"
             ],
             [
              0.8888888888888888,
              "#fdca26"
             ],
             [
              1,
              "#f0f921"
             ]
            ],
            "type": "surface"
           }
          ],
          "table": [
           {
            "cells": {
             "fill": {
              "color": "#EBF0F8"
             },
             "line": {
              "color": "white"
             }
            },
            "header": {
             "fill": {
              "color": "#C8D4E3"
             },
             "line": {
              "color": "white"
             }
            },
            "type": "table"
           }
          ]
         },
         "layout": {
          "annotationdefaults": {
           "arrowcolor": "#2a3f5f",
           "arrowhead": 0,
           "arrowwidth": 1
          },
          "autotypenumbers": "strict",
          "coloraxis": {
           "colorbar": {
            "outlinewidth": 0,
            "ticks": ""
           }
          },
          "colorscale": {
           "diverging": [
            [
             0,
             "#8e0152"
            ],
            [
             0.1,
             "#c51b7d"
            ],
            [
             0.2,
             "#de77ae"
            ],
            [
             0.3,
             "#f1b6da"
            ],
            [
             0.4,
             "#fde0ef"
            ],
            [
             0.5,
             "#f7f7f7"
            ],
            [
             0.6,
             "#e6f5d0"
            ],
            [
             0.7,
             "#b8e186"
            ],
            [
             0.8,
             "#7fbc41"
            ],
            [
             0.9,
             "#4d9221"
            ],
            [
             1,
             "#276419"
            ]
           ],
           "sequential": [
            [
             0,
             "#0d0887"
            ],
            [
             0.1111111111111111,
             "#46039f"
            ],
            [
             0.2222222222222222,
             "#7201a8"
            ],
            [
             0.3333333333333333,
             "#9c179e"
            ],
            [
             0.4444444444444444,
             "#bd3786"
            ],
            [
             0.5555555555555556,
             "#d8576b"
            ],
            [
             0.6666666666666666,
             "#ed7953"
            ],
            [
             0.7777777777777778,
             "#fb9f3a"
            ],
            [
             0.8888888888888888,
             "#fdca26"
            ],
            [
             1,
             "#f0f921"
            ]
           ],
           "sequentialminus": [
            [
             0,
             "#0d0887"
            ],
            [
             0.1111111111111111,
             "#46039f"
            ],
            [
             0.2222222222222222,
             "#7201a8"
            ],
            [
             0.3333333333333333,
             "#9c179e"
            ],
            [
             0.4444444444444444,
             "#bd3786"
            ],
            [
             0.5555555555555556,
             "#d8576b"
            ],
            [
             0.6666666666666666,
             "#ed7953"
            ],
            [
             0.7777777777777778,
             "#fb9f3a"
            ],
            [
             0.8888888888888888,
             "#fdca26"
            ],
            [
             1,
             "#f0f921"
            ]
           ]
          },
          "colorway": [
           "#636efa",
           "#EF553B",
           "#00cc96",
           "#ab63fa",
           "#FFA15A",
           "#19d3f3",
           "#FF6692",
           "#B6E880",
           "#FF97FF",
           "#FECB52"
          ],
          "font": {
           "color": "#2a3f5f"
          },
          "geo": {
           "bgcolor": "white",
           "lakecolor": "white",
           "landcolor": "#E5ECF6",
           "showlakes": true,
           "showland": true,
           "subunitcolor": "white"
          },
          "hoverlabel": {
           "align": "left"
          },
          "hovermode": "closest",
          "mapbox": {
           "style": "light"
          },
          "paper_bgcolor": "white",
          "plot_bgcolor": "#E5ECF6",
          "polar": {
           "angularaxis": {
            "gridcolor": "white",
            "linecolor": "white",
            "ticks": ""
           },
           "bgcolor": "#E5ECF6",
           "radialaxis": {
            "gridcolor": "white",
            "linecolor": "white",
            "ticks": ""
           }
          },
          "scene": {
           "xaxis": {
            "backgroundcolor": "#E5ECF6",
            "gridcolor": "white",
            "gridwidth": 2,
            "linecolor": "white",
            "showbackground": true,
            "ticks": "",
            "zerolinecolor": "white"
           },
           "yaxis": {
            "backgroundcolor": "#E5ECF6",
            "gridcolor": "white",
            "gridwidth": 2,
            "linecolor": "white",
            "showbackground": true,
            "ticks": "",
            "zerolinecolor": "white"
           },
           "zaxis": {
            "backgroundcolor": "#E5ECF6",
            "gridcolor": "white",
            "gridwidth": 2,
            "linecolor": "white",
            "showbackground": true,
            "ticks": "",
            "zerolinecolor": "white"
           }
          },
          "shapedefaults": {
           "line": {
            "color": "#2a3f5f"
           }
          },
          "ternary": {
           "aaxis": {
            "gridcolor": "white",
            "linecolor": "white",
            "ticks": ""
           },
           "baxis": {
            "gridcolor": "white",
            "linecolor": "white",
            "ticks": ""
           },
           "bgcolor": "#E5ECF6",
           "caxis": {
            "gridcolor": "white",
            "linecolor": "white",
            "ticks": ""
           }
          },
          "title": {
           "x": 0.05
          },
          "xaxis": {
           "automargin": true,
           "gridcolor": "white",
           "linecolor": "white",
           "ticks": "",
           "title": {
            "standoff": 15
           },
           "zerolinecolor": "white",
           "zerolinewidth": 2
          },
          "yaxis": {
           "automargin": true,
           "gridcolor": "white",
           "linecolor": "white",
           "ticks": "",
           "title": {
            "standoff": 15
           },
           "zerolinecolor": "white",
           "zerolinewidth": 2
          }
         }
        },
        "xaxis": {
         "anchor": "y",
         "autorange": true,
         "domain": [
          0,
          1
         ],
         "range": [
          -14.069778739431174,
          16.618683158376488
         ],
         "title": {
          "text": "dim1"
         },
         "type": "linear"
        },
        "yaxis": {
         "anchor": "x",
         "autorange": true,
         "domain": [
          0,
          1
         ],
         "range": [
          -10.174255260958134,
          15.766532787813603
         ],
         "title": {
          "text": "dim2"
         },
         "type": "linear"
        }
       }
      },
      "image/png": "[encoded data removed]",
      "text/html": [
       "<div>                            <div id=\"8bc4f46c-09c8-4966-a6c1-3a9f203a2031\" class=\"plotly-graph-div\" style=\"height:525px; width:100%;\"></div>            <script type=\"text/javascript\">                require([\"plotly\"], function(Plotly) {                    window.PLOTLYENV=window.PLOTLYENV || {};                                    if (document.getElementById(\"8bc4f46c-09c8-4966-a6c1-3a9f203a2031\")) {                    Plotly.newPlot(                        \"8bc4f46c-09c8-4966-a6c1-3a9f203a2031\",                        [{\"hovertemplate\":\"<b>%{hovertext}</b><br><br>label=our_team<br>dim1=%{x}<br>dim2=%{y}<br>word=%{text}<extra></extra>\",\"hovertext\":[\"bolt\",\"kangaroo\",\"road\",\"cat\",\"spirit\",\"sling\",\"star\",\"beach\",\"diamond\"],\"legendgroup\":\"our_team\",\"marker\":{\"color\":\"deeppink\",\"symbol\":\"circle\"},\"mode\":\"markers+text\",\"name\":\"our_team\",\"orientation\":\"v\",\"showlegend\":true,\"text\":[\"bolt\",\"kangaroo\",\"road\",\"cat\",\"spirit\",\"sling\",\"star\",\"beach\",\"diamond\"],\"x\":[-1.699913501739502,-10.18261432647705,2.9118738174438477,-5.4704670906066895,5.878730773925781,-3.8090314865112305,10.286742210388184,8.873517990112305,14.935958862304688],\"xaxis\":\"x\",\"y\":[10.025288581848145,-5.054439067840576,5.448134899139404,-1.0587685108184814,-7.588206768035889,9.893638610839844,1.3348110914230347,12.150066375732422,0.8072729706764221],\"yaxis\":\"y\",\"type\":\"scatter\"},{\"hovertemplate\":\"<b>%{hovertext}</b><br><br>label=their_team<br>dim1=%{x}<br>dim2=%{y}<br>word=%{text}<extra></extra>\",\"hovertext\":[\"cast\",\"bee\",\"death\",\"bunk\",\"mole\",\"bowl\",\"knife\",\"antarctica\"],\"legendgroup\":\"their_team\",\"marker\":{\"color\":\"cornflowerblue\",\"symbol\":\"circle\"},\"mode\":\"markers+text\",\"name\":\"their_team\",\"orientation\":\"v\",\"showlegend\":true,\"text\":[\"cast\",\"bee\",\"death\",\"bunk\",\"mole\",\"bowl\",\"knife\",\"antarctica\"],\"x\":[8.752517700195312,-7.771614074707031,2.8733463287353516,-9.545443534851074,-12.387054443359375,4.079492092132568,-0.544547975063324,-7.511118412017822],\"xaxis\":\"x\",\"y\":[2.5324900150299072,-1.846256136894226,-6.629475116729736,6.418014049530029,-1.8174132108688354,-0.4906359314918518,-2.254918336868286,-8.435043334960938],\"yaxis\":\"y\",\"type\":\"scatter\"},{\"hovertemplate\":\"<b>%{hovertext}</b><br><br>label=bomb<br>dim1=%{x}<br>dim2=%{y}<br>word=%{text}<extra></extra>\",\"hovertext\":[\"calf\"],\"legendgroup\":\"bomb\",\"marker\":{\"color\":\"yellow\",\"symbol\":\"circle\"},\"mode\":\"markers+text\",\"name\":\"bomb\",\"orientation\":\"v\",\"showlegend\":true,\"text\":[\"calf\"],\"x\":[-12.037951469421387],\"xaxis\":\"x\",\"y\":[-6.476832866668701],\"yaxis\":\"y\",\"type\":\"scatter\"},{\"hovertemplate\":\"<b>%{hovertext}</b><br><br>label=neutral<br>dim1=%{x}<br>dim2=%{y}<br>word=%{text}<extra></extra>\",\"hovertext\":[\"bikini\",\"pine\",\"hit\",\"princess\",\"stick\",\"soldier\"],\"legendgroup\":\"neutral\",\"marker\":{\"color\":\"grey\",\"symbol\":\"circle\"},\"mode\":\"markers+text\",\"name\":\"neutral\",\"orientation\":\"v\",\"showlegend\":true,\"text\":[\"bikini\",\"pine\",\"hit\",\"princess\",\"stick\",\"soldier\"],\"x\":[9.101853370666504,-8.056715965270996,1.1011605262756348,14.114435195922852,-0.023038843646645546,1.14016592502594],\"xaxis\":\"x\",\"y\":[14.027320861816406,4.4697265625,2.460195779800415,-1.1860308647155762,0.5684393048286438,-7.504725456237793],\"yaxis\":\"y\",\"type\":\"scatter\"}],                        {\"template\":{\"data\":{\"histogram2dcontour\":[{\"type\":\"histogram2dcontour\",\"colorbar\":{\"outlinewidth\":0,\"ticks\":\"\"},\"colorscale\":[[0.0,\"#0d0887\"],[0.1111111111111111,\"#46039f\"],[0.2222222222222222,\"#7201a8\"],[0.3333333333333333,\"#9c179e\"],[0.4444444444444444,\"#bd3786\"],[0.5555555555555556,\"#d8576b\"],[0.6666666666666666,\"#ed7953\"],[0.7777777777777778,\"#fb9f3a\"],[0.8888888888888888,\"#fdca26\"],[1.0,\"#f0f921\"]]}],\"choropleth\":[{\"type\":\"choropleth\",\"colorbar\":{\"outlinewidth\":0,\"ticks\":\"\"}}],\"histogram2d\":[{\"type\":\"histogram2d\",\"colorbar\":{\"outlinewidth\":0,\"ticks\":\"\"},\"colorscale\":[[0.0,\"#0d0887\"],[0.1111111111111111,\"#46039f\"],[0.2222222222222222,\"#7201a8\"],[0.3333333333333333,\"#9c179e\"],[0.4444444444444444,\"#bd3786\"],[0.5555555555555556,\"#d8576b\"],[0.6666666666666666,\"#ed7953\"],[0.7777777777777778,\"#fb9f3a\"],[0.8888888888888888,\"#fdca26\"],[1.0,\"#f0f921\"]]}],\"heatmap\":[{\"type\":\"heatmap\",\"colorbar\":{\"outlinewidth\":0,\"ticks\":\"\"},\"colorscale\":[[0.0,\"#0d0887\"],[0.1111111111111111,\"#46039f\"],[0.2222222222222222,\"#7201a8\"],[0.3333333333333333,\"#9c179e\"],[0.4444444444444444,\"#bd3786\"],[0.5555555555555556,\"#d8576b\"],[0.6666666666666666,\"#ed7953\"],[0.7777777777777778,\"#fb9f3a\"],[0.8888888888888888,\"#fdca26\"],[1.0,\"#f0f921\"]]}],\"heatmapgl\":[{\"type\":\"heatmapgl\",\"colorbar\":{\"outlinewidth\":0,\"ticks\":\"\"},\"colorscale\":[[0.0,\"#0d0887\"],[0.1111111111111111,\"#46039f\"],[0.2222222222222222,\"#7201a8\"],[0.3333333333333333,\"#9c179e\"],[0.4444444444444444,\"#bd3786\"],[0.5555555555555556,\"#d8576b\"],[0.6666666666666666,\"#ed7953\"],[0.7777777777777778,\"#fb9f3a\"],[0.8888888888888888,\"#fdca26\"],[1.0,\"#f0f921\"]]}],\"contourcarpet\":[{\"type\":\"contourcarpet\",\"colorbar\":{\"outlinewidth\":0,\"ticks\":\"\"}}],\"contour\":[{\"type\":\"contour\",\"colorbar\":{\"outlinewidth\":0,\"ticks\":\"\"},\"colorscale\":[[0.0,\"#0d0887\"],[0.1111111111111111,\"#46039f\"],[0.2222222222222222,\"#7201a8\"],[0.3333333333333333,\"#9c179e\"],[0.4444444444444444,\"#bd3786\"],[0.5555555555555556,\"#d8576b\"],[0.6666666666666666,\"#ed7953\"],[0.7777777777777778,\"#fb9f3a\"],[0.8888888888888888,\"#fdca26\"],[1.0,\"#f0f921\"]]}],\"surface\":[{\"type\":\"surface\",\"colorbar\":{\"outlinewidth\":0,\"ticks\":\"\"},\"colorscale\":[[0.0,\"#0d0887\"],[0.1111111111111111,\"#46039f\"],[0.2222222222222222,\"#7201a8\"],[0.3333333333333333,\"#9c179e\"],[0.4444444444444444,\"#bd3786\"],[0.5555555555555556,\"#d8576b\"],[0.6666666666666666,\"#ed7953\"],[0.7777777777777778,\"#fb9f3a\"],[0.8888888888888888,\"#fdca26\"],[1.0,\"#f0f921\"]]}],\"mesh3d\":[{\"type\":\"mesh3d\",\"colorbar\":{\"outlinewidth\":0,\"ticks\":\"\"}}],\"scatter\":[{\"fillpattern\":{\"fillmode\":\"overlay\",\"size\":10,\"solidity\":0.2},\"type\":\"scatter\"}],\"parcoords\":[{\"type\":\"parcoords\",\"line\":{\"colorbar\":{\"outlinewidth\":0,\"ticks\":\"\"}}}],\"scatterpolargl\":[{\"type\":\"scatterpolargl\",\"marker\":{\"colorbar\":{\"outlinewidth\":0,\"ticks\":\"\"}}}],\"bar\":[{\"error_x\":{\"color\":\"#2a3f5f\"},\"error_y\":{\"color\":\"#2a3f5f\"},\"marker\":{\"line\":{\"color\":\"#E5ECF6\",\"width\":0.5},\"pattern\":{\"fillmode\":\"overlay\",\"size\":10,\"solidity\":0.2}},\"type\":\"bar\"}],\"scattergeo\":[{\"type\":\"scattergeo\",\"marker\":{\"colorbar\":{\"outlinewidth\":0,\"ticks\":\"\"}}}],\"scatterpolar\":[{\"type\":\"scatterpolar\",\"marker\":{\"colorbar\":{\"outlinewidth\":0,\"ticks\":\"\"}}}],\"histogram\":[{\"marker\":{\"pattern\":{\"fillmode\":\"overlay\",\"size\":10,\"solidity\":0.2}},\"type\":\"histogram\"}],\"scattergl\":[{\"type\":\"scattergl\",\"marker\":{\"colorbar\":{\"outlinewidth\":0,\"ticks\":\"\"}}}],\"scatter3d\":[{\"type\":\"scatter3d\",\"line\":{\"colorbar\":{\"outlinewidth\":0,\"ticks\":\"\"}},\"marker\":{\"colorbar\":{\"outlinewidth\":0,\"ticks\":\"\"}}}],\"scattermapbox\":[{\"type\":\"scattermapbox\",\"marker\":{\"colorbar\":{\"outlinewidth\":0,\"ticks\":\"\"}}}],\"scatterternary\":[{\"type\":\"scatterternary\",\"marker\":{\"colorbar\":{\"outlinewidth\":0,\"ticks\":\"\"}}}],\"scattercarpet\":[{\"type\":\"scattercarpet\",\"marker\":{\"colorbar\":{\"outlinewidth\":0,\"ticks\":\"\"}}}],\"carpet\":[{\"aaxis\":{\"endlinecolor\":\"#2a3f5f\",\"gridcolor\":\"white\",\"linecolor\":\"white\",\"minorgridcolor\":\"white\",\"startlinecolor\":\"#2a3f5f\"},\"baxis\":{\"endlinecolor\":\"#2a3f5f\",\"gridcolor\":\"white\",\"linecolor\":\"white\",\"minorgridcolor\":\"white\",\"startlinecolor\":\"#2a3f5f\"},\"type\":\"carpet\"}],\"table\":[{\"cells\":{\"fill\":{\"color\":\"#EBF0F8\"},\"line\":{\"color\":\"white\"}},\"header\":{\"fill\":{\"color\":\"#C8D4E3\"},\"line\":{\"color\":\"white\"}},\"type\":\"table\"}],\"barpolar\":[{\"marker\":{\"line\":{\"color\":\"#E5ECF6\",\"width\":0.5},\"pattern\":{\"fillmode\":\"overlay\",\"size\":10,\"solidity\":0.2}},\"type\":\"barpolar\"}],\"pie\":[{\"automargin\":true,\"type\":\"pie\"}]},\"layout\":{\"autotypenumbers\":\"strict\",\"colorway\":[\"#636efa\",\"#EF553B\",\"#00cc96\",\"#ab63fa\",\"#FFA15A\",\"#19d3f3\",\"#FF6692\",\"#B6E880\",\"#FF97FF\",\"#FECB52\"],\"font\":{\"color\":\"#2a3f5f\"},\"hovermode\":\"closest\",\"hoverlabel\":{\"align\":\"left\"},\"paper_bgcolor\":\"white\",\"plot_bgcolor\":\"#E5ECF6\",\"polar\":{\"bgcolor\":\"#E5ECF6\",\"angularaxis\":{\"gridcolor\":\"white\",\"linecolor\":\"white\",\"ticks\":\"\"},\"radialaxis\":{\"gridcolor\":\"white\",\"linecolor\":\"white\",\"ticks\":\"\"}},\"ternary\":{\"bgcolor\":\"#E5ECF6\",\"aaxis\":{\"gridcolor\":\"white\",\"linecolor\":\"white\",\"ticks\":\"\"},\"baxis\":{\"gridcolor\":\"white\",\"linecolor\":\"white\",\"ticks\":\"\"},\"caxis\":{\"gridcolor\":\"white\",\"linecolor\":\"white\",\"ticks\":\"\"}},\"coloraxis\":{\"colorbar\":{\"outlinewidth\":0,\"ticks\":\"\"}},\"colorscale\":{\"sequential\":[[0.0,\"#0d0887\"],[0.1111111111111111,\"#46039f\"],[0.2222222222222222,\"#7201a8\"],[0.3333333333333333,\"#9c179e\"],[0.4444444444444444,\"#bd3786\"],[0.5555555555555556,\"#d8576b\"],[0.6666666666666666,\"#ed7953\"],[0.7777777777777778,\"#fb9f3a\"],[0.8888888888888888,\"#fdca26\"],[1.0,\"#f0f921\"]],\"sequentialminus\":[[0.0,\"#0d0887\"],[0.1111111111111111,\"#46039f\"],[0.2222222222222222,\"#7201a8\"],[0.3333333333333333,\"#9c179e\"],[0.4444444444444444,\"#bd3786\"],[0.5555555555555556,\"#d8576b\"],[0.6666666666666666,\"#ed7953\"],[0.7777777777777778,\"#fb9f3a\"],[0.8888888888888888,\"#fdca26\"],[1.0,\"#f0f921\"]],\"diverging\":[[0,\"#8e0152\"],[0.1,\"#c51b7d\"],[0.2,\"#de77ae\"],[0.3,\"#f1b6da\"],[0.4,\"#fde0ef\"],[0.5,\"#f7f7f7\"],[0.6,\"#e6f5d0\"],[0.7,\"#b8e186\"],[0.8,\"#7fbc41\"],[0.9,\"#4d9221\"],[1,\"#276419\"]]},\"xaxis\":{\"gridcolor\":\"white\",\"linecolor\":\"white\",\"ticks\":\"\",\"title\":{\"standoff\":15},\"zerolinecolor\":\"white\",\"automargin\":true,\"zerolinewidth\":2},\"yaxis\":{\"gridcolor\":\"white\",\"linecolor\":\"white\",\"ticks\":\"\",\"title\":{\"standoff\":15},\"zerolinecolor\":\"white\",\"automargin\":true,\"zerolinewidth\":2},\"scene\":{\"xaxis\":{\"backgroundcolor\":\"#E5ECF6\",\"gridcolor\":\"white\",\"linecolor\":\"white\",\"showbackground\":true,\"ticks\":\"\",\"zerolinecolor\":\"white\",\"gridwidth\":2},\"yaxis\":{\"backgroundcolor\":\"#E5ECF6\",\"gridcolor\":\"white\",\"linecolor\":\"white\",\"showbackground\":true,\"ticks\":\"\",\"zerolinecolor\":\"white\",\"gridwidth\":2},\"zaxis\":{\"backgroundcolor\":\"#E5ECF6\",\"gridcolor\":\"white\",\"linecolor\":\"white\",\"showbackground\":true,\"ticks\":\"\",\"zerolinecolor\":\"white\",\"gridwidth\":2}},\"shapedefaults\":{\"line\":{\"color\":\"#2a3f5f\"}},\"annotationdefaults\":{\"arrowcolor\":\"#2a3f5f\",\"arrowhead\":0,\"arrowwidth\":1},\"geo\":{\"bgcolor\":\"white\",\"landcolor\":\"#E5ECF6\",\"subunitcolor\":\"white\",\"showland\":true,\"showlakes\":true,\"lakecolor\":\"white\"},\"title\":{\"x\":0.05},\"mapbox\":{\"style\":\"light\"}}},\"xaxis\":{\"anchor\":\"y\",\"domain\":[0.0,1.0],\"title\":{\"text\":\"dim1\"}},\"yaxis\":{\"anchor\":\"x\",\"domain\":[0.0,1.0],\"title\":{\"text\":\"dim2\"}},\"legend\":{\"title\":{\"text\":\"label\"},\"tracegroupgap\":0},\"margin\":{\"t\":60}},                        {\"responsive\": true}                    ).then(function(){\n",
       "                            \n",
       "var gd = document.getElementById('8bc4f46c-09c8-4966-a6c1-3a9f203a2031');\n",
       "var x = new MutationObserver(function (mutations, observer) {{\n",
       "        var display = window.getComputedStyle(gd).display;\n",
       "        if (!display || display === 'none') {{\n",
       "            console.log([gd, 'removed!']);\n",
       "            Plotly.purge(gd);\n",
       "            observer.disconnect();\n",
       "        }}\n",
       "}});\n",
       "\n",
       "// Listen for the removal of the full notebook cells\n",
       "var notebookContainer = gd.closest('#notebook-container');\n",
       "if (notebookContainer) {{\n",
       "    x.observe(notebookContainer, {childList: true});\n",
       "}}\n",
       "\n",
       "// Listen for the clearing of the current output cell\n",
       "var outputEl = gd.closest('.output');\n",
       "if (outputEl) {{\n",
       "    x.observe(outputEl, {childList: true});\n",
       "}}\n",
       "\n",
       "                        })                };                });            </script>        </div>"
      ]
     },
     "metadata": {},
     "output_type": "display_data"
    }
   ],
   "source": [
    "X_embedded_2d = TSNE_fit(embedding_matrix, n_comp = 2)\n",
    "df_reduced_2d = matrix_to_df(X_embedded_2d, words, labels)\n",
    "plot_2d(df_reduced_2d, color_map, png = False)\n"
   ]
  },
  {
   "cell_type": "markdown",
   "id": "6550efac-065d-4c51-bbbc-a7bec3825aea",
   "metadata": {},
   "source": [
    "#### Reduce to 3D\n",
    "Plotting in 3D ends up with better results. We can plot and move around to find a good cluster of \"our team\" words to clue. First we plot without the clustering, if you want to eyeball the clusters:"
   ]
  },
  {
   "cell_type": "code",
   "execution_count": 159,
   "id": "aefcb0bb-8b4a-4639-994b-a5f58a864402",
   "metadata": {},
   "outputs": [
    {
     "data": {
      "image/png": "[encoded data removed]"
     },
     "metadata": {},
     "output_type": "display_data"
    }
   ],
   "source": [
    "X_embedded_3d = TSNE_fit(embedding_matrix, n_comp = 3)\n",
    "df_reduced_3d = matrix_to_df(X_embedded_3d, words, labels)\n",
    "plot_3d(df_reduced_3d, color_map, png = False)"
   ]
  },
  {
   "cell_type": "markdown",
   "id": "c9084dea-6ec4-4997-ba44-b417e721c455",
   "metadata": {},
   "source": [
    "Now we plot the same words in the same space, but where the color indicates the cluster rather than the team"
   ]
  },
  {
   "cell_type": "code",
   "execution_count": 164,
   "id": "96d1e427-1f86-4599-905b-1282d4963746",
   "metadata": {},
   "outputs": [
    {
     "data": {
      "image/png": "[encoded data removed]"
     },
     "metadata": {},
     "output_type": "display_data"
    }
   ],
   "source": [
    "df_reduced_3d = make_clusters(X_embedded_3d, df_reduced_3d, eps_val = 1.9, min_samples_val = 2)\n",
    "plot_3d(df_reduced_3d, color_map, cluster = True, png = False)"
   ]
  },
  {
   "cell_type": "markdown",
   "id": "b929ed59-e01d-4b9f-9fe7-e9c754e2c2f5",
   "metadata": {},
   "source": [
    "### Clue Generation\n",
    "Once you decide which words to clue, we can generate a clue! \n",
    "\n",
    "$\\color{blue}{\\text{Edit the sub_list_our_words to indicate which cluster of words you want to clue}}$"
   ]
  },
  {
   "cell_type": "code",
   "execution_count": 165,
   "id": "bd226955-5111-4080-b2d7-7fffca05f20e",
   "metadata": {},
   "outputs": [],
   "source": [
    "\n",
    "sub_list_our_words = ['sling', 'bolt']\n",
    "others = their_team + bomb + neutral"
   ]
  },
  {
   "cell_type": "markdown",
   "id": "04804980-2062-4273-a076-3ca50892f646",
   "metadata": {},
   "source": [
    "In generating a clue, we want to pick a clue that is close to our words and far away from the other words, to maximize the chance that the teammates would pick our words. \n",
    "\n",
    "A potential algorithm to solve this is provided by https://jsomers.net/glove-codenames/, adapted here. We generate a list of words that minimizes distance to your team's words and maximizes distance to the other words. It does this first by finding the 250 words that maximize the the distance to the bad words, and minimize the distance to the good words. this is insufficient, though, since a candidate clue can score well if it's very close to one or two of your words but far from the other. So, we want to sort the 250 candidate clues according to those that maximize the minimum distance to the good words, and minimize the max distance to the bad words."
   ]
  },
  {
   "cell_type": "code",
   "execution_count": 166,
   "id": "017ec33b-54f7-4042-aeaa-5e0b190c727d",
   "metadata": {},
   "outputs": [],
   "source": [
    "multiplier = 4.0 # multiplier on the subtraction term, because closeness to our words is more important than distance from others. \n",
    "\n",
    "\n",
    "def goodness(word, answers, bad):\n",
    "    if word in answers + bad: return -999\n",
    "    return sum([distance(word, b) for b in bad]) - multiplier * sum([distance(word, a) for a in answers])\n",
    "\n",
    "def minimax(word, answers, bad):\n",
    "    if word in answers + bad: return -999\n",
    "    return min([distance(word, b) for b in bad]) - max([distance(word, a) for a in answers])\n",
    "\n",
    "def candidates(answers, bad, size=100):\n",
    "    best = sorted(embeddings.keys(), key=lambda w: -1 * goodness(w, answers, bad))\n",
    "    res = [(str(i + 1), \"{0:.2f}\".format(minimax(w, answers, bad)), w) for i, w in enumerate(sorted(best[:250], key=lambda w: -1 * minimax(w, answers, bad))[:size])]\n",
    "    return [(\". \".join([c[0], c[2]]) + \" (\" + c[1] + \")\") for c in res]"
   ]
  },
  {
   "cell_type": "code",
   "execution_count": 167,
   "id": "25a41bc1-34b7-4cc8-bdaa-4037a65e396f",
   "metadata": {},
   "outputs": [],
   "source": [
    "candidate_clue_words = candidates(sub_list_our_words, others, size=100)\n"
   ]
  },
  {
   "cell_type": "code",
   "execution_count": 168,
   "id": "9557df70-2143-491d-ab3c-ceeced297dca",
   "metadata": {},
   "outputs": [
    {
     "data": {
      "text/plain": [
       "['1. lug (0.13)',\n",
       " '2. recoil (0.13)',\n",
       " '3. harness (0.12)',\n",
       " '4. coupler (0.12)',\n",
       " '5. handlebar (0.11)',\n",
       " '6. adjuster (0.11)',\n",
       " '7. tether (0.10)',\n",
       " '8. latch (0.10)',\n",
       " '9. fastener (0.10)',\n",
       " '10. absorber (0.10)',\n",
       " '11. attaches (0.10)',\n",
       " '12. fastening (0.10)',\n",
       " '13. mounts (0.09)',\n",
       " '14. lifter (0.09)',\n",
       " '15. winch (0.09)',\n",
       " '16. slings (0.09)',\n",
       " '17. m16 (0.09)',\n",
       " '18. swivel (0.09)',\n",
       " '19. detach (0.09)',\n",
       " '20. 20mm (0.09)']"
      ]
     },
     "execution_count": 168,
     "metadata": {},
     "output_type": "execute_result"
    }
   ],
   "source": [
    "candidate_clue_words[:20]"
   ]
  },
  {
   "cell_type": "markdown",
   "id": "960bfca0-40bb-4e2c-8ad2-dda50b5755b5",
   "metadata": {},
   "source": [
    "### Plot the clue words\n",
    "We can then plot the clues in the same space as before."
   ]
  },
  {
   "cell_type": "code",
   "execution_count": 169,
   "id": "451756a0-ea39-4e4c-ac96-ed353fbf6bf3",
   "metadata": {},
   "outputs": [],
   "source": [
    "potential_clues_list = candidate_clue_words[:10]"
   ]
  },
  {
   "cell_type": "code",
   "execution_count": 144,
   "id": "5a4a0cf7-d83f-4736-aa07-e52ff24780a7",
   "metadata": {},
   "outputs": [],
   "source": [
    "clue_words = [potential_clues_list[i].split(' ')[1] for i, r in enumerate(potential_clues_list)]\n",
    "clue_matrix = [embeddings[word] for word in clue_words]\n",
    "embedding_matrix_with_clue = np.vstack((embedding_matrix, clue_matrix))\n",
    "words_b = words + clue_words\n",
    "\n",
    "labels_b = labels + ['clue']* len(clue_words)\n",
    "color_map['clue'] = 'lightgreen'"
   ]
  },
  {
   "cell_type": "code",
   "execution_count": 172,
   "id": "7fe2ea74-5ee8-49db-9b72-6d136bebbda6",
   "metadata": {},
   "outputs": [
    {
     "data": {
      "image/png": "[encoded data removed]"
     },
     "metadata": {},
     "output_type": "display_data"
    }
   ],
   "source": [
    "X_embedded = TSNE_fit(embedding_matrix_with_clue, n_comp = 3)\n",
    "df_reduced = matrix_to_df(X_embedded, words_b, labels_b)\n",
    "plot_3d(df_reduced, color_map, png = False)"
   ]
  }
 ],
 "metadata": {
  "kernelspec": {
   "display_name": "Python 3 (ipykernel)",
   "language": "python",
   "name": "python3"
  },
  "language_info": {
   "codemirror_mode": {
    "name": "ipython",
    "version": 3
   },
   "file_extension": ".py",
   "mimetype": "text/x-python",
   "name": "python",
   "nbconvert_exporter": "python",
   "pygments_lexer": "ipython3",
   "version": "3.8.10"
  }
 },
 "nbformat": 4,
 "nbformat_minor": 5
}

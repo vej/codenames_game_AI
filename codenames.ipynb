{
 "cells": [
  {
   "cell_type": "markdown",
   "id": "d71efe8f-93b6-4025-920c-2c6f009369bf",
   "metadata": {},
   "source": [
    "# Imports"
   ]
  },
  {
   "cell_type": "code",
   "execution_count": 151,
   "id": "21648384-ce7d-4d0f-addd-717193f87cf8",
   "metadata": {},
   "outputs": [],
   "source": [
    "import numpy as np\n",
    "import pandas as pd\n",
    "import pandas as pd\n",
    "import matplotlib.pyplot as plt\n",
    "import plotly.express as px\n",
    "from itertools import zip_longest\n",
    "from itertools import combinations\n",
    "from IPython.display import HTML\n",
    "from sklearn.decomposition import PCA\n",
    "from sklearn.manifold import TSNE\n",
    "from termcolor import colored\n",
    "from scipy import spatial\n"
   ]
  },
  {
   "cell_type": "markdown",
   "id": "6f4d6c1a-392f-4528-905c-18a336ff502d",
   "metadata": {},
   "source": [
    "# Set up the board:\n",
    "\n",
    "Here in the first cell, write the list of words for each team."
   ]
  },
  {
   "cell_type": "code",
   "execution_count": 152,
   "id": "4ae6afc2-dc83-458e-9ce1-9e75adb255ed",
   "metadata": {},
   "outputs": [],
   "source": [
    "our_team = ['lead', 'chick', 'fighter', 'buck', 'stick', 'pilot', 'witch', 'parachute', 'doctor']\n",
    "their_team = ['degree', 'boom', 'shoe' ,'oil', 'bell', 'worm' ,'wave', 'robot']\n",
    "bomb = ['unicorn']\n",
    "neutral = ['phoenix', 'police', 'tag', 'film', 'buffalo', 'mercury', 'beat']\n"
   ]
  },
  {
   "cell_type": "code",
   "execution_count": 153,
   "id": "2a98815b-f350-49fa-8aea-a3299aea0034",
   "metadata": {},
   "outputs": [],
   "source": [
    "labels = ['our_team']*len(our_team) + ['their_team']*len(their_team) + ['bomb'] + ['neutral']*len(neutral)\n",
    "words = our_team + their_team + bomb + neutral\n"
   ]
  },
  {
   "cell_type": "code",
   "execution_count": 154,
   "id": "d9cf1ba1-f6ca-477b-9640-c9090511ba9e",
   "metadata": {},
   "outputs": [],
   "source": [
    "color_map = {'our_team': 'deeppink', 'their_team':'cornflowerblue', 'bomb':'yellow', 'neutral':'grey'}"
   ]
  },
  {
   "cell_type": "markdown",
   "id": "cb77f0d9-6174-4c2e-adcf-2874cd26133a",
   "metadata": {},
   "source": [
    "# Load the pretrained word embeddings"
   ]
  },
  {
   "cell_type": "code",
   "execution_count": 155,
   "id": "3b214729-2c92-40ed-9baa-59e7a8b5c527",
   "metadata": {},
   "outputs": [],
   "source": [
    "embeddings = {}\n",
    "# with open(\"words/top_50000.txt\", 'r') as f:\n",
    "with open(\"words/freq_words.txt\", 'r') as f:\n",
    "    for line in f:\n",
    "        word_info = line.split()\n",
    "        word = word_info[0]\n",
    "        embeddings[word] = np.asarray(word_info[1:], \"float32\")\n",
    "        \n",
    "        "
   ]
  },
  {
   "cell_type": "markdown",
   "id": "dbd06744-7f86-44ad-8dca-8122d825dee0",
   "metadata": {},
   "source": [
    "We can find the difference between any two words by finding the cosine distance between them. \n",
    "\n"
   ]
  },
  {
   "cell_type": "code",
   "execution_count": 156,
   "id": "c0a8ab6e-e4d1-417b-ba26-affaa4d22888",
   "metadata": {},
   "outputs": [],
   "source": [
    "def distance(word, reference):\n",
    "    return spatial.distance.cosine(embeddings[word], embeddings[reference])\n",
    "\n",
    "def find_closest_embeddings(embed):\n",
    "    return sorted(embeddings.keys(), key=lambda word: spatial.distance.cosine(embeddings[word], embed))\n"
   ]
  },
  {
   "cell_type": "markdown",
   "id": "15726d63-7e66-4be9-9f6e-fc60557603a5",
   "metadata": {},
   "source": [
    "We can then use this distance to find the closest words to any other word. For instance:"
   ]
  },
  {
   "cell_type": "code",
   "execution_count": 157,
   "id": "8e40513a-0328-478a-8629-06034eb9545f",
   "metadata": {},
   "outputs": [
    {
     "data": {
      "text/plain": [
       "'king: king, queen, prince, kings, henry, kingdom, reign, throne, george, lord, emperor, charles, son, john, duke, david, solomon, father, ii, edward'"
      ]
     },
     "execution_count": 157,
     "metadata": {},
     "output_type": "execute_result"
    }
   ],
   "source": [
    "'king: ' + ', '.join(w for w in find_closest_embeddings(embeddings['king'])[:20])\n"
   ]
  },
  {
   "cell_type": "markdown",
   "id": "653e23de-a65b-4841-8b84-123dcadccb57",
   "metadata": {},
   "source": [
    "(Side note, you can use this function to do word math, for instance, king - man + woman = queen:)"
   ]
  },
  {
   "cell_type": "code",
   "execution_count": 158,
   "id": "e63afe09-82bf-4489-8223-81dfb3ade778",
   "metadata": {},
   "outputs": [],
   "source": [
    "\n",
    "#find_closest_embeddings(embeddings['king'] - embeddings['man'] + embeddings['woman'])\n",
    "\n"
   ]
  },
  {
   "cell_type": "markdown",
   "id": "f8820fb9-aec9-4b44-a03d-2b6709d176c8",
   "metadata": {},
   "source": [
    "\n",
    "# Reduce dimensions to visualize codenames board\n",
    "We first want to visualize the words in lower dimensional space so we can decide which of the words we want to clue. There are various methods to do this, like TSNE or PCA. \n",
    "\n",
    "The code here reduces to 2D or 3D, but 3D seems to be better for identifying clusters of words"
   ]
  },
  {
   "cell_type": "code",
   "execution_count": 159,
   "id": "4f901a2a-07ba-4a03-a96b-74eb713dedfe",
   "metadata": {},
   "outputs": [],
   "source": [
    "def TSNE_fit(embedding_matrix, n_comp = 2):\n",
    "    return TSNE(n_components=n_comp, init='random', perplexity=5).fit_transform(embedding_matrix)\n",
    "    "
   ]
  },
  {
   "cell_type": "code",
   "execution_count": 160,
   "id": "8691419b-c379-4cb0-9c4d-6c3ea8f843ff",
   "metadata": {},
   "outputs": [],
   "source": [
    "def PCA_fit(embedding_matrix, n_comp=2):\n",
    "    return PCA(n_components = n_comp).fit_transform(embedding_matrix)\n",
    "    "
   ]
  },
  {
   "cell_type": "code",
   "execution_count": 161,
   "id": "50c00036-c312-4906-9c1a-d990f8f2e0b6",
   "metadata": {},
   "outputs": [],
   "source": [
    "def matrix_to_df(X_embedded, words, labels):\n",
    "    temp_dict = {}\n",
    "    temp_list = []\n",
    "    \n",
    "    \n",
    "    for i, row in enumerate(X_embedded):\n",
    "        temp_dict = {}\n",
    "        temp_dict['word'] = words[i]\n",
    "        temp_dict['label'] = labels[i]\n",
    "        temp_dict['dim1'] = row[0]\n",
    "        temp_dict['dim2'] = row[1]\n",
    "        if len(row) == 3:\n",
    "            temp_dict['dim3'] = row[2]\n",
    "        temp_list.append(temp_dict)\n",
    "        \n",
    "    return pd.DataFrame(temp_list)\n",
    "\n"
   ]
  },
  {
   "cell_type": "code",
   "execution_count": 162,
   "id": "4b844d76-59db-42bb-bc59-f3bd953872b3",
   "metadata": {},
   "outputs": [],
   "source": [
    "def plot_3d(df_reduced, color_map):\n",
    "    fig = px.scatter_3d(df_reduced, x = 'dim1', y = 'dim2', z = 'dim3', color = 'label', text = 'word', hover_name = 'word', \n",
    "    color_discrete_map= color_map)\n",
    "    fig.show()"
   ]
  },
  {
   "cell_type": "code",
   "execution_count": 163,
   "id": "a13aa491-91af-40c5-a2f3-977acdd446f8",
   "metadata": {},
   "outputs": [],
   "source": [
    "def plot_2d(df_reduced, color_map):\n",
    "    fig = px.scatter(df_reduced, x = 'dim1', y = 'dim2', color = 'label', text = 'word', hover_name = 'word', \n",
    "           color_discrete_map= color_map)\n",
    "    fig.show()"
   ]
  },
  {
   "cell_type": "markdown",
   "id": "cd4f4edc-6043-4855-82c1-94872eb7dcd0",
   "metadata": {},
   "source": [
    "We need to turn the embeddings of all the words into a matrix in order to reduce the dimensions"
   ]
  },
  {
   "cell_type": "code",
   "execution_count": 164,
   "id": "00d4444e-1d10-40ce-bb79-b06d9419a5bc",
   "metadata": {},
   "outputs": [],
   "source": [
    "embedding_matrix = [embeddings[key] for key in words]\n",
    "embedding_matrix = np.array(embedding_matrix)"
   ]
  },
  {
   "cell_type": "markdown",
   "id": "a136d6a8-b291-4323-8313-2f120cccd2b3",
   "metadata": {},
   "source": [
    "### Reduce to 2D\n",
    "Let's first use PCA to reduce to 2 dimensions and plot the results"
   ]
  },
  {
   "cell_type": "code",
   "execution_count": 165,
   "id": "74d79901-763f-48dd-a363-bb2bdc3db747",
   "metadata": {},
   "outputs": [
    {
     "data": {
      "application/vnd.plotly.v1+json": {
       "config": {
        "plotlyServerURL": "https://plot.ly"
       },
       "data": [
        {
         "hovertemplate": "<b>%{hovertext}</b><br><br>label=our_team<br>dim1=%{x}<br>dim2=%{y}<br>word=%{text}<extra></extra>",
         "hovertext": [
          "lead",
          "chick",
          "fighter",
          "buck",
          "stick",
          "pilot",
          "witch",
          "parachute",
          "doctor"
         ],
         "legendgroup": "our_team",
         "marker": {
          "color": "deeppink",
          "symbol": "circle"
         },
         "mode": "markers+text",
         "name": "our_team",
         "orientation": "v",
         "showlegend": true,
         "text": [
          "lead",
          "chick",
          "fighter",
          "buck",
          "stick",
          "pilot",
          "witch",
          "parachute",
          "doctor"
         ],
         "type": "scatter",
         "x": [
          1.6355113983154297,
          -1.9748876094818115,
          -2.3617751598358154,
          -0.6723368167877197,
          -0.6639165282249451,
          -0.2532169818878174,
          -0.9388896822929382,
          -1.6955560445785522,
          0.24982839822769165
         ],
         "xaxis": "x",
         "y": [
          1.0432515144348145,
          -0.8184866905212402,
          0.11733926832675934,
          0.40631717443466187,
          -0.623792290687561,
          1.0559020042419434,
          -1.254224181175232,
          -0.4223906695842743,
          1.4967764616012573
         ],
         "yaxis": "y"
        },
        {
         "hovertemplate": "<b>%{hovertext}</b><br><br>label=their_team<br>dim1=%{x}<br>dim2=%{y}<br>word=%{text}<extra></extra>",
         "hovertext": [
          "degree",
          "boom",
          "shoe",
          "oil",
          "bell",
          "worm",
          "wave",
          "robot"
         ],
         "legendgroup": "their_team",
         "marker": {
          "color": "cornflowerblue",
          "symbol": "circle"
         },
         "mode": "markers+text",
         "name": "their_team",
         "orientation": "v",
         "showlegend": true,
         "text": [
          "degree",
          "boom",
          "shoe",
          "oil",
          "bell",
          "worm",
          "wave",
          "robot"
         ],
         "type": "scatter",
         "x": [
          2.6990747451782227,
          -0.5109659433364868,
          -0.6576716899871826,
          4.535335540771484,
          0.29933619499206543,
          -0.34171032905578613,
          -0.4342012405395508,
          -2.3398923873901367
         ],
         "xaxis": "x",
         "y": [
          2.93107533454895,
          -1.2678903341293335,
          -0.4989171624183655,
          -1.9814989566802979,
          -0.02820240519940853,
          -3.4494524002075195,
          -0.16113455593585968,
          -1.1189265251159668
         ],
         "yaxis": "y"
        },
        {
         "hovertemplate": "<b>%{hovertext}</b><br><br>label=bomb<br>dim1=%{x}<br>dim2=%{y}<br>word=%{text}<extra></extra>",
         "hovertext": [
          "unicorn"
         ],
         "legendgroup": "bomb",
         "marker": {
          "color": "yellow",
          "symbol": "circle"
         },
         "mode": "markers+text",
         "name": "bomb",
         "orientation": "v",
         "showlegend": true,
         "text": [
          "unicorn"
         ],
         "type": "scatter",
         "x": [
          -1.8133968114852905
         ],
         "xaxis": "x",
         "y": [
          -1.7186490297317505
         ],
         "yaxis": "y"
        },
        {
         "hovertemplate": "<b>%{hovertext}</b><br><br>label=neutral<br>dim1=%{x}<br>dim2=%{y}<br>word=%{text}<extra></extra>",
         "hovertext": [
          "phoenix",
          "police",
          "tag",
          "film",
          "buffalo",
          "mercury",
          "beat"
         ],
         "legendgroup": "neutral",
         "marker": {
          "color": "grey",
          "symbol": "circle"
         },
         "mode": "markers+text",
         "name": "neutral",
         "orientation": "v",
         "showlegend": true,
         "text": [
          "phoenix",
          "police",
          "tag",
          "film",
          "buffalo",
          "mercury",
          "beat"
         ],
         "type": "scatter",
         "x": [
          0.456309974193573,
          0.34352317452430725,
          -0.8813574910163879,
          0.7800677418708801,
          0.23627997934818268,
          4.950621604919434,
          -0.6461131572723389
         ],
         "xaxis": "x",
         "y": [
          1.3764773607254028,
          3.915431022644043,
          0.05451028048992157,
          2.206477642059326,
          1.1561222076416016,
          -3.134472131729126,
          0.7183567881584167
         ],
         "yaxis": "y"
        }
       ],
       "layout": {
        "autosize": true,
        "legend": {
         "title": {
          "text": "label"
         },
         "tracegroupgap": 0
        },
        "margin": {
         "t": 60
        },
        "template": {
         "data": {
          "bar": [
           {
            "error_x": {
             "color": "#2a3f5f"
            },
            "error_y": {
             "color": "#2a3f5f"
            },
            "marker": {
             "line": {
              "color": "#E5ECF6",
              "width": 0.5
             },
             "pattern": {
              "fillmode": "overlay",
              "size": 10,
              "solidity": 0.2
             }
            },
            "type": "bar"
           }
          ],
          "barpolar": [
           {
            "marker": {
             "line": {
              "color": "#E5ECF6",
              "width": 0.5
             },
             "pattern": {
              "fillmode": "overlay",
              "size": 10,
              "solidity": 0.2
             }
            },
            "type": "barpolar"
           }
          ],
          "carpet": [
           {
            "aaxis": {
             "endlinecolor": "#2a3f5f",
             "gridcolor": "white",
             "linecolor": "white",
             "minorgridcolor": "white",
             "startlinecolor": "#2a3f5f"
            },
            "baxis": {
             "endlinecolor": "#2a3f5f",
             "gridcolor": "white",
             "linecolor": "white",
             "minorgridcolor": "white",
             "startlinecolor": "#2a3f5f"
            },
            "type": "carpet"
           }
          ],
          "choropleth": [
           {
            "colorbar": {
             "outlinewidth": 0,
             "ticks": ""
            },
            "type": "choropleth"
           }
          ],
          "contour": [
           {
            "colorbar": {
             "outlinewidth": 0,
             "ticks": ""
            },
            "colorscale": [
             [
              0,
              "#0d0887"
             ],
             [
              0.1111111111111111,
              "#46039f"
             ],
             [
              0.2222222222222222,
              "#7201a8"
             ],
             [
              0.3333333333333333,
              "#9c179e"
             ],
             [
              0.4444444444444444,
              "#bd3786"
             ],
             [
              0.5555555555555556,
              "#d8576b"
             ],
             [
              0.6666666666666666,
              "#ed7953"
             ],
             [
              0.7777777777777778,
              "#fb9f3a"
             ],
             [
              0.8888888888888888,
              "#fdca26"
             ],
             [
              1,
              "#f0f921"
             ]
            ],
            "type": "contour"
           }
          ],
          "contourcarpet": [
           {
            "colorbar": {
             "outlinewidth": 0,
             "ticks": ""
            },
            "type": "contourcarpet"
           }
          ],
          "heatmap": [
           {
            "colorbar": {
             "outlinewidth": 0,
             "ticks": ""
            },
            "colorscale": [
             [
              0,
              "#0d0887"
             ],
             [
              0.1111111111111111,
              "#46039f"
             ],
             [
              0.2222222222222222,
              "#7201a8"
             ],
             [
              0.3333333333333333,
              "#9c179e"
             ],
             [
              0.4444444444444444,
              "#bd3786"
             ],
             [
              0.5555555555555556,
              "#d8576b"
             ],
             [
              0.6666666666666666,
              "#ed7953"
             ],
             [
              0.7777777777777778,
              "#fb9f3a"
             ],
             [
              0.8888888888888888,
              "#fdca26"
             ],
             [
              1,
              "#f0f921"
             ]
            ],
            "type": "heatmap"
           }
          ],
          "heatmapgl": [
           {
            "colorbar": {
             "outlinewidth": 0,
             "ticks": ""
            },
            "colorscale": [
             [
              0,
              "#0d0887"
             ],
             [
              0.1111111111111111,
              "#46039f"
             ],
             [
              0.2222222222222222,
              "#7201a8"
             ],
             [
              0.3333333333333333,
              "#9c179e"
             ],
             [
              0.4444444444444444,
              "#bd3786"
             ],
             [
              0.5555555555555556,
              "#d8576b"
             ],
             [
              0.6666666666666666,
              "#ed7953"
             ],
             [
              0.7777777777777778,
              "#fb9f3a"
             ],
             [
              0.8888888888888888,
              "#fdca26"
             ],
             [
              1,
              "#f0f921"
             ]
            ],
            "type": "heatmapgl"
           }
          ],
          "histogram": [
           {
            "marker": {
             "pattern": {
              "fillmode": "overlay",
              "size": 10,
              "solidity": 0.2
             }
            },
            "type": "histogram"
           }
          ],
          "histogram2d": [
           {
            "colorbar": {
             "outlinewidth": 0,
             "ticks": ""
            },
            "colorscale": [
             [
              0,
              "#0d0887"
             ],
             [
              0.1111111111111111,
              "#46039f"
             ],
             [
              0.2222222222222222,
              "#7201a8"
             ],
             [
              0.3333333333333333,
              "#9c179e"
             ],
             [
              0.4444444444444444,
              "#bd3786"
             ],
             [
              0.5555555555555556,
              "#d8576b"
             ],
             [
              0.6666666666666666,
              "#ed7953"
             ],
             [
              0.7777777777777778,
              "#fb9f3a"
             ],
             [
              0.8888888888888888,
              "#fdca26"
             ],
             [
              1,
              "#f0f921"
             ]
            ],
            "type": "histogram2d"
           }
          ],
          "histogram2dcontour": [
           {
            "colorbar": {
             "outlinewidth": 0,
             "ticks": ""
            },
            "colorscale": [
             [
              0,
              "#0d0887"
             ],
             [
              0.1111111111111111,
              "#46039f"
             ],
             [
              0.2222222222222222,
              "#7201a8"
             ],
             [
              0.3333333333333333,
              "#9c179e"
             ],
             [
              0.4444444444444444,
              "#bd3786"
             ],
             [
              0.5555555555555556,
              "#d8576b"
             ],
             [
              0.6666666666666666,
              "#ed7953"
             ],
             [
              0.7777777777777778,
              "#fb9f3a"
             ],
             [
              0.8888888888888888,
              "#fdca26"
             ],
             [
              1,
              "#f0f921"
             ]
            ],
            "type": "histogram2dcontour"
           }
          ],
          "mesh3d": [
           {
            "colorbar": {
             "outlinewidth": 0,
             "ticks": ""
            },
            "type": "mesh3d"
           }
          ],
          "parcoords": [
           {
            "line": {
             "colorbar": {
              "outlinewidth": 0,
              "ticks": ""
             }
            },
            "type": "parcoords"
           }
          ],
          "pie": [
           {
            "automargin": true,
            "type": "pie"
           }
          ],
          "scatter": [
           {
            "fillpattern": {
             "fillmode": "overlay",
             "size": 10,
             "solidity": 0.2
            },
            "type": "scatter"
           }
          ],
          "scatter3d": [
           {
            "line": {
             "colorbar": {
              "outlinewidth": 0,
              "ticks": ""
             }
            },
            "marker": {
             "colorbar": {
              "outlinewidth": 0,
              "ticks": ""
             }
            },
            "type": "scatter3d"
           }
          ],
          "scattercarpet": [
           {
            "marker": {
             "colorbar": {
              "outlinewidth": 0,
              "ticks": ""
             }
            },
            "type": "scattercarpet"
           }
          ],
          "scattergeo": [
           {
            "marker": {
             "colorbar": {
              "outlinewidth": 0,
              "ticks": ""
             }
            },
            "type": "scattergeo"
           }
          ],
          "scattergl": [
           {
            "marker": {
             "colorbar": {
              "outlinewidth": 0,
              "ticks": ""
             }
            },
            "type": "scattergl"
           }
          ],
          "scattermapbox": [
           {
            "marker": {
             "colorbar": {
              "outlinewidth": 0,
              "ticks": ""
             }
            },
            "type": "scattermapbox"
           }
          ],
          "scatterpolar": [
           {
            "marker": {
             "colorbar": {
              "outlinewidth": 0,
              "ticks": ""
             }
            },
            "type": "scatterpolar"
           }
          ],
          "scatterpolargl": [
           {
            "marker": {
             "colorbar": {
              "outlinewidth": 0,
              "ticks": ""
             }
            },
            "type": "scatterpolargl"
           }
          ],
          "scatterternary": [
           {
            "marker": {
             "colorbar": {
              "outlinewidth": 0,
              "ticks": ""
             }
            },
            "type": "scatterternary"
           }
          ],
          "surface": [
           {
            "colorbar": {
             "outlinewidth": 0,
             "ticks": ""
            },
            "colorscale": [
             [
              0,
              "#0d0887"
             ],
             [
              0.1111111111111111,
              "#46039f"
             ],
             [
              0.2222222222222222,
              "#7201a8"
             ],
             [
              0.3333333333333333,
              "#9c179e"
             ],
             [
              0.4444444444444444,
              "#bd3786"
             ],
             [
              0.5555555555555556,
              "#d8576b"
             ],
             [
              0.6666666666666666,
              "#ed7953"
             ],
             [
              0.7777777777777778,
              "#fb9f3a"
             ],
             [
              0.8888888888888888,
              "#fdca26"
             ],
             [
              1,
              "#f0f921"
             ]
            ],
            "type": "surface"
           }
          ],
          "table": [
           {
            "cells": {
             "fill": {
              "color": "#EBF0F8"
             },
             "line": {
              "color": "white"
             }
            },
            "header": {
             "fill": {
              "color": "#C8D4E3"
             },
             "line": {
              "color": "white"
             }
            },
            "type": "table"
           }
          ]
         },
         "layout": {
          "annotationdefaults": {
           "arrowcolor": "#2a3f5f",
           "arrowhead": 0,
           "arrowwidth": 1
          },
          "autotypenumbers": "strict",
          "coloraxis": {
           "colorbar": {
            "outlinewidth": 0,
            "ticks": ""
           }
          },
          "colorscale": {
           "diverging": [
            [
             0,
             "#8e0152"
            ],
            [
             0.1,
             "#c51b7d"
            ],
            [
             0.2,
             "#de77ae"
            ],
            [
             0.3,
             "#f1b6da"
            ],
            [
             0.4,
             "#fde0ef"
            ],
            [
             0.5,
             "#f7f7f7"
            ],
            [
             0.6,
             "#e6f5d0"
            ],
            [
             0.7,
             "#b8e186"
            ],
            [
             0.8,
             "#7fbc41"
            ],
            [
             0.9,
             "#4d9221"
            ],
            [
             1,
             "#276419"
            ]
           ],
           "sequential": [
            [
             0,
             "#0d0887"
            ],
            [
             0.1111111111111111,
             "#46039f"
            ],
            [
             0.2222222222222222,
             "#7201a8"
            ],
            [
             0.3333333333333333,
             "#9c179e"
            ],
            [
             0.4444444444444444,
             "#bd3786"
            ],
            [
             0.5555555555555556,
             "#d8576b"
            ],
            [
             0.6666666666666666,
             "#ed7953"
            ],
            [
             0.7777777777777778,
             "#fb9f3a"
            ],
            [
             0.8888888888888888,
             "#fdca26"
            ],
            [
             1,
             "#f0f921"
            ]
           ],
           "sequentialminus": [
            [
             0,
             "#0d0887"
            ],
            [
             0.1111111111111111,
             "#46039f"
            ],
            [
             0.2222222222222222,
             "#7201a8"
            ],
            [
             0.3333333333333333,
             "#9c179e"
            ],
            [
             0.4444444444444444,
             "#bd3786"
            ],
            [
             0.5555555555555556,
             "#d8576b"
            ],
            [
             0.6666666666666666,
             "#ed7953"
            ],
            [
             0.7777777777777778,
             "#fb9f3a"
            ],
            [
             0.8888888888888888,
             "#fdca26"
            ],
            [
             1,
             "#f0f921"
            ]
           ]
          },
          "colorway": [
           "#636efa",
           "#EF553B",
           "#00cc96",
           "#ab63fa",
           "#FFA15A",
           "#19d3f3",
           "#FF6692",
           "#B6E880",
           "#FF97FF",
           "#FECB52"
          ],
          "font": {
           "color": "#2a3f5f"
          },
          "geo": {
           "bgcolor": "white",
           "lakecolor": "white",
           "landcolor": "#E5ECF6",
           "showlakes": true,
           "showland": true,
           "subunitcolor": "white"
          },
          "hoverlabel": {
           "align": "left"
          },
          "hovermode": "closest",
          "mapbox": {
           "style": "light"
          },
          "paper_bgcolor": "white",
          "plot_bgcolor": "#E5ECF6",
          "polar": {
           "angularaxis": {
            "gridcolor": "white",
            "linecolor": "white",
            "ticks": ""
           },
           "bgcolor": "#E5ECF6",
           "radialaxis": {
            "gridcolor": "white",
            "linecolor": "white",
            "ticks": ""
           }
          },
          "scene": {
           "xaxis": {
            "backgroundcolor": "#E5ECF6",
            "gridcolor": "white",
            "gridwidth": 2,
            "linecolor": "white",
            "showbackground": true,
            "ticks": "",
            "zerolinecolor": "white"
           },
           "yaxis": {
            "backgroundcolor": "#E5ECF6",
            "gridcolor": "white",
            "gridwidth": 2,
            "linecolor": "white",
            "showbackground": true,
            "ticks": "",
            "zerolinecolor": "white"
           },
           "zaxis": {
            "backgroundcolor": "#E5ECF6",
            "gridcolor": "white",
            "gridwidth": 2,
            "linecolor": "white",
            "showbackground": true,
            "ticks": "",
            "zerolinecolor": "white"
           }
          },
          "shapedefaults": {
           "line": {
            "color": "#2a3f5f"
           }
          },
          "ternary": {
           "aaxis": {
            "gridcolor": "white",
            "linecolor": "white",
            "ticks": ""
           },
           "baxis": {
            "gridcolor": "white",
            "linecolor": "white",
            "ticks": ""
           },
           "bgcolor": "#E5ECF6",
           "caxis": {
            "gridcolor": "white",
            "linecolor": "white",
            "ticks": ""
           }
          },
          "title": {
           "x": 0.05
          },
          "xaxis": {
           "automargin": true,
           "gridcolor": "white",
           "linecolor": "white",
           "ticks": "",
           "title": {
            "standoff": 15
           },
           "zerolinecolor": "white",
           "zerolinewidth": 2
          },
          "yaxis": {
           "automargin": true,
           "gridcolor": "white",
           "linecolor": "white",
           "ticks": "",
           "title": {
            "standoff": 15
           },
           "zerolinecolor": "white",
           "zerolinewidth": 2
          }
         }
        },
        "xaxis": {
         "anchor": "y",
         "autorange": true,
         "domain": [
          0,
          1
         ],
         "range": [
          -2.8098313085202147,
          5.398677753603833
         ],
         "title": {
          "text": "dim1"
         },
         "type": "linear"
        },
        "yaxis": {
         "anchor": "x",
         "autorange": true,
         "domain": [
          0,
          1
         ],
         "range": [
          -4.019699279404688,
          4.485677901841211
         ],
         "title": {
          "text": "dim2"
         },
         "type": "linear"
        }
       }
      },
      "image/png": "[encoded data removed]",
      "text/html": [
       "<div>                            <div id=\"53bfdfe3-74b6-474a-8bf8-db176bfb83a6\" class=\"plotly-graph-div\" style=\"height:525px; width:100%;\"></div>            <script type=\"text/javascript\">                require([\"plotly\"], function(Plotly) {                    window.PLOTLYENV=window.PLOTLYENV || {};                                    if (document.getElementById(\"53bfdfe3-74b6-474a-8bf8-db176bfb83a6\")) {                    Plotly.newPlot(                        \"53bfdfe3-74b6-474a-8bf8-db176bfb83a6\",                        [{\"hovertemplate\":\"<b>%{hovertext}</b><br><br>label=our_team<br>dim1=%{x}<br>dim2=%{y}<br>word=%{text}<extra></extra>\",\"hovertext\":[\"lead\",\"chick\",\"fighter\",\"buck\",\"stick\",\"pilot\",\"witch\",\"parachute\",\"doctor\"],\"legendgroup\":\"our_team\",\"marker\":{\"color\":\"deeppink\",\"symbol\":\"circle\"},\"mode\":\"markers+text\",\"name\":\"our_team\",\"orientation\":\"v\",\"showlegend\":true,\"text\":[\"lead\",\"chick\",\"fighter\",\"buck\",\"stick\",\"pilot\",\"witch\",\"parachute\",\"doctor\"],\"x\":[1.6355113983154297,-1.9748876094818115,-2.3617751598358154,-0.6723368167877197,-0.6639165282249451,-0.2532169818878174,-0.9388896822929382,-1.6955560445785522,0.24982839822769165],\"xaxis\":\"x\",\"y\":[1.0432515144348145,-0.8184866905212402,0.11733926832675934,0.40631717443466187,-0.623792290687561,1.0559020042419434,-1.254224181175232,-0.4223906695842743,1.4967764616012573],\"yaxis\":\"y\",\"type\":\"scatter\"},{\"hovertemplate\":\"<b>%{hovertext}</b><br><br>label=their_team<br>dim1=%{x}<br>dim2=%{y}<br>word=%{text}<extra></extra>\",\"hovertext\":[\"degree\",\"boom\",\"shoe\",\"oil\",\"bell\",\"worm\",\"wave\",\"robot\"],\"legendgroup\":\"their_team\",\"marker\":{\"color\":\"cornflowerblue\",\"symbol\":\"circle\"},\"mode\":\"markers+text\",\"name\":\"their_team\",\"orientation\":\"v\",\"showlegend\":true,\"text\":[\"degree\",\"boom\",\"shoe\",\"oil\",\"bell\",\"worm\",\"wave\",\"robot\"],\"x\":[2.6990747451782227,-0.5109659433364868,-0.6576716899871826,4.535335540771484,0.29933619499206543,-0.34171032905578613,-0.4342012405395508,-2.3398923873901367],\"xaxis\":\"x\",\"y\":[2.93107533454895,-1.2678903341293335,-0.4989171624183655,-1.9814989566802979,-0.02820240519940853,-3.4494524002075195,-0.16113455593585968,-1.1189265251159668],\"yaxis\":\"y\",\"type\":\"scatter\"},{\"hovertemplate\":\"<b>%{hovertext}</b><br><br>label=bomb<br>dim1=%{x}<br>dim2=%{y}<br>word=%{text}<extra></extra>\",\"hovertext\":[\"unicorn\"],\"legendgroup\":\"bomb\",\"marker\":{\"color\":\"yellow\",\"symbol\":\"circle\"},\"mode\":\"markers+text\",\"name\":\"bomb\",\"orientation\":\"v\",\"showlegend\":true,\"text\":[\"unicorn\"],\"x\":[-1.8133968114852905],\"xaxis\":\"x\",\"y\":[-1.7186490297317505],\"yaxis\":\"y\",\"type\":\"scatter\"},{\"hovertemplate\":\"<b>%{hovertext}</b><br><br>label=neutral<br>dim1=%{x}<br>dim2=%{y}<br>word=%{text}<extra></extra>\",\"hovertext\":[\"phoenix\",\"police\",\"tag\",\"film\",\"buffalo\",\"mercury\",\"beat\"],\"legendgroup\":\"neutral\",\"marker\":{\"color\":\"grey\",\"symbol\":\"circle\"},\"mode\":\"markers+text\",\"name\":\"neutral\",\"orientation\":\"v\",\"showlegend\":true,\"text\":[\"phoenix\",\"police\",\"tag\",\"film\",\"buffalo\",\"mercury\",\"beat\"],\"x\":[0.456309974193573,0.34352317452430725,-0.8813574910163879,0.7800677418708801,0.23627997934818268,4.950621604919434,-0.6461131572723389],\"xaxis\":\"x\",\"y\":[1.3764773607254028,3.915431022644043,0.05451028048992157,2.206477642059326,1.1561222076416016,-3.134472131729126,0.7183567881584167],\"yaxis\":\"y\",\"type\":\"scatter\"}],                        {\"template\":{\"data\":{\"histogram2dcontour\":[{\"type\":\"histogram2dcontour\",\"colorbar\":{\"outlinewidth\":0,\"ticks\":\"\"},\"colorscale\":[[0.0,\"#0d0887\"],[0.1111111111111111,\"#46039f\"],[0.2222222222222222,\"#7201a8\"],[0.3333333333333333,\"#9c179e\"],[0.4444444444444444,\"#bd3786\"],[0.5555555555555556,\"#d8576b\"],[0.6666666666666666,\"#ed7953\"],[0.7777777777777778,\"#fb9f3a\"],[0.8888888888888888,\"#fdca26\"],[1.0,\"#f0f921\"]]}],\"choropleth\":[{\"type\":\"choropleth\",\"colorbar\":{\"outlinewidth\":0,\"ticks\":\"\"}}],\"histogram2d\":[{\"type\":\"histogram2d\",\"colorbar\":{\"outlinewidth\":0,\"ticks\":\"\"},\"colorscale\":[[0.0,\"#0d0887\"],[0.1111111111111111,\"#46039f\"],[0.2222222222222222,\"#7201a8\"],[0.3333333333333333,\"#9c179e\"],[0.4444444444444444,\"#bd3786\"],[0.5555555555555556,\"#d8576b\"],[0.6666666666666666,\"#ed7953\"],[0.7777777777777778,\"#fb9f3a\"],[0.8888888888888888,\"#fdca26\"],[1.0,\"#f0f921\"]]}],\"heatmap\":[{\"type\":\"heatmap\",\"colorbar\":{\"outlinewidth\":0,\"ticks\":\"\"},\"colorscale\":[[0.0,\"#0d0887\"],[0.1111111111111111,\"#46039f\"],[0.2222222222222222,\"#7201a8\"],[0.3333333333333333,\"#9c179e\"],[0.4444444444444444,\"#bd3786\"],[0.5555555555555556,\"#d8576b\"],[0.6666666666666666,\"#ed7953\"],[0.7777777777777778,\"#fb9f3a\"],[0.8888888888888888,\"#fdca26\"],[1.0,\"#f0f921\"]]}],\"heatmapgl\":[{\"type\":\"heatmapgl\",\"colorbar\":{\"outlinewidth\":0,\"ticks\":\"\"},\"colorscale\":[[0.0,\"#0d0887\"],[0.1111111111111111,\"#46039f\"],[0.2222222222222222,\"#7201a8\"],[0.3333333333333333,\"#9c179e\"],[0.4444444444444444,\"#bd3786\"],[0.5555555555555556,\"#d8576b\"],[0.6666666666666666,\"#ed7953\"],[0.7777777777777778,\"#fb9f3a\"],[0.8888888888888888,\"#fdca26\"],[1.0,\"#f0f921\"]]}],\"contourcarpet\":[{\"type\":\"contourcarpet\",\"colorbar\":{\"outlinewidth\":0,\"ticks\":\"\"}}],\"contour\":[{\"type\":\"contour\",\"colorbar\":{\"outlinewidth\":0,\"ticks\":\"\"},\"colorscale\":[[0.0,\"#0d0887\"],[0.1111111111111111,\"#46039f\"],[0.2222222222222222,\"#7201a8\"],[0.3333333333333333,\"#9c179e\"],[0.4444444444444444,\"#bd3786\"],[0.5555555555555556,\"#d8576b\"],[0.6666666666666666,\"#ed7953\"],[0.7777777777777778,\"#fb9f3a\"],[0.8888888888888888,\"#fdca26\"],[1.0,\"#f0f921\"]]}],\"surface\":[{\"type\":\"surface\",\"colorbar\":{\"outlinewidth\":0,\"ticks\":\"\"},\"colorscale\":[[0.0,\"#0d0887\"],[0.1111111111111111,\"#46039f\"],[0.2222222222222222,\"#7201a8\"],[0.3333333333333333,\"#9c179e\"],[0.4444444444444444,\"#bd3786\"],[0.5555555555555556,\"#d8576b\"],[0.6666666666666666,\"#ed7953\"],[0.7777777777777778,\"#fb9f3a\"],[0.8888888888888888,\"#fdca26\"],[1.0,\"#f0f921\"]]}],\"mesh3d\":[{\"type\":\"mesh3d\",\"colorbar\":{\"outlinewidth\":0,\"ticks\":\"\"}}],\"scatter\":[{\"fillpattern\":{\"fillmode\":\"overlay\",\"size\":10,\"solidity\":0.2},\"type\":\"scatter\"}],\"parcoords\":[{\"type\":\"parcoords\",\"line\":{\"colorbar\":{\"outlinewidth\":0,\"ticks\":\"\"}}}],\"scatterpolargl\":[{\"type\":\"scatterpolargl\",\"marker\":{\"colorbar\":{\"outlinewidth\":0,\"ticks\":\"\"}}}],\"bar\":[{\"error_x\":{\"color\":\"#2a3f5f\"},\"error_y\":{\"color\":\"#2a3f5f\"},\"marker\":{\"line\":{\"color\":\"#E5ECF6\",\"width\":0.5},\"pattern\":{\"fillmode\":\"overlay\",\"size\":10,\"solidity\":0.2}},\"type\":\"bar\"}],\"scattergeo\":[{\"type\":\"scattergeo\",\"marker\":{\"colorbar\":{\"outlinewidth\":0,\"ticks\":\"\"}}}],\"scatterpolar\":[{\"type\":\"scatterpolar\",\"marker\":{\"colorbar\":{\"outlinewidth\":0,\"ticks\":\"\"}}}],\"histogram\":[{\"marker\":{\"pattern\":{\"fillmode\":\"overlay\",\"size\":10,\"solidity\":0.2}},\"type\":\"histogram\"}],\"scattergl\":[{\"type\":\"scattergl\",\"marker\":{\"colorbar\":{\"outlinewidth\":0,\"ticks\":\"\"}}}],\"scatter3d\":[{\"type\":\"scatter3d\",\"line\":{\"colorbar\":{\"outlinewidth\":0,\"ticks\":\"\"}},\"marker\":{\"colorbar\":{\"outlinewidth\":0,\"ticks\":\"\"}}}],\"scattermapbox\":[{\"type\":\"scattermapbox\",\"marker\":{\"colorbar\":{\"outlinewidth\":0,\"ticks\":\"\"}}}],\"scatterternary\":[{\"type\":\"scatterternary\",\"marker\":{\"colorbar\":{\"outlinewidth\":0,\"ticks\":\"\"}}}],\"scattercarpet\":[{\"type\":\"scattercarpet\",\"marker\":{\"colorbar\":{\"outlinewidth\":0,\"ticks\":\"\"}}}],\"carpet\":[{\"aaxis\":{\"endlinecolor\":\"#2a3f5f\",\"gridcolor\":\"white\",\"linecolor\":\"white\",\"minorgridcolor\":\"white\",\"startlinecolor\":\"#2a3f5f\"},\"baxis\":{\"endlinecolor\":\"#2a3f5f\",\"gridcolor\":\"white\",\"linecolor\":\"white\",\"minorgridcolor\":\"white\",\"startlinecolor\":\"#2a3f5f\"},\"type\":\"carpet\"}],\"table\":[{\"cells\":{\"fill\":{\"color\":\"#EBF0F8\"},\"line\":{\"color\":\"white\"}},\"header\":{\"fill\":{\"color\":\"#C8D4E3\"},\"line\":{\"color\":\"white\"}},\"type\":\"table\"}],\"barpolar\":[{\"marker\":{\"line\":{\"color\":\"#E5ECF6\",\"width\":0.5},\"pattern\":{\"fillmode\":\"overlay\",\"size\":10,\"solidity\":0.2}},\"type\":\"barpolar\"}],\"pie\":[{\"automargin\":true,\"type\":\"pie\"}]},\"layout\":{\"autotypenumbers\":\"strict\",\"colorway\":[\"#636efa\",\"#EF553B\",\"#00cc96\",\"#ab63fa\",\"#FFA15A\",\"#19d3f3\",\"#FF6692\",\"#B6E880\",\"#FF97FF\",\"#FECB52\"],\"font\":{\"color\":\"#2a3f5f\"},\"hovermode\":\"closest\",\"hoverlabel\":{\"align\":\"left\"},\"paper_bgcolor\":\"white\",\"plot_bgcolor\":\"#E5ECF6\",\"polar\":{\"bgcolor\":\"#E5ECF6\",\"angularaxis\":{\"gridcolor\":\"white\",\"linecolor\":\"white\",\"ticks\":\"\"},\"radialaxis\":{\"gridcolor\":\"white\",\"linecolor\":\"white\",\"ticks\":\"\"}},\"ternary\":{\"bgcolor\":\"#E5ECF6\",\"aaxis\":{\"gridcolor\":\"white\",\"linecolor\":\"white\",\"ticks\":\"\"},\"baxis\":{\"gridcolor\":\"white\",\"linecolor\":\"white\",\"ticks\":\"\"},\"caxis\":{\"gridcolor\":\"white\",\"linecolor\":\"white\",\"ticks\":\"\"}},\"coloraxis\":{\"colorbar\":{\"outlinewidth\":0,\"ticks\":\"\"}},\"colorscale\":{\"sequential\":[[0.0,\"#0d0887\"],[0.1111111111111111,\"#46039f\"],[0.2222222222222222,\"#7201a8\"],[0.3333333333333333,\"#9c179e\"],[0.4444444444444444,\"#bd3786\"],[0.5555555555555556,\"#d8576b\"],[0.6666666666666666,\"#ed7953\"],[0.7777777777777778,\"#fb9f3a\"],[0.8888888888888888,\"#fdca26\"],[1.0,\"#f0f921\"]],\"sequentialminus\":[[0.0,\"#0d0887\"],[0.1111111111111111,\"#46039f\"],[0.2222222222222222,\"#7201a8\"],[0.3333333333333333,\"#9c179e\"],[0.4444444444444444,\"#bd3786\"],[0.5555555555555556,\"#d8576b\"],[0.6666666666666666,\"#ed7953\"],[0.7777777777777778,\"#fb9f3a\"],[0.8888888888888888,\"#fdca26\"],[1.0,\"#f0f921\"]],\"diverging\":[[0,\"#8e0152\"],[0.1,\"#c51b7d\"],[0.2,\"#de77ae\"],[0.3,\"#f1b6da\"],[0.4,\"#fde0ef\"],[0.5,\"#f7f7f7\"],[0.6,\"#e6f5d0\"],[0.7,\"#b8e186\"],[0.8,\"#7fbc41\"],[0.9,\"#4d9221\"],[1,\"#276419\"]]},\"xaxis\":{\"gridcolor\":\"white\",\"linecolor\":\"white\",\"ticks\":\"\",\"title\":{\"standoff\":15},\"zerolinecolor\":\"white\",\"automargin\":true,\"zerolinewidth\":2},\"yaxis\":{\"gridcolor\":\"white\",\"linecolor\":\"white\",\"ticks\":\"\",\"title\":{\"standoff\":15},\"zerolinecolor\":\"white\",\"automargin\":true,\"zerolinewidth\":2},\"scene\":{\"xaxis\":{\"backgroundcolor\":\"#E5ECF6\",\"gridcolor\":\"white\",\"linecolor\":\"white\",\"showbackground\":true,\"ticks\":\"\",\"zerolinecolor\":\"white\",\"gridwidth\":2},\"yaxis\":{\"backgroundcolor\":\"#E5ECF6\",\"gridcolor\":\"white\",\"linecolor\":\"white\",\"showbackground\":true,\"ticks\":\"\",\"zerolinecolor\":\"white\",\"gridwidth\":2},\"zaxis\":{\"backgroundcolor\":\"#E5ECF6\",\"gridcolor\":\"white\",\"linecolor\":\"white\",\"showbackground\":true,\"ticks\":\"\",\"zerolinecolor\":\"white\",\"gridwidth\":2}},\"shapedefaults\":{\"line\":{\"color\":\"#2a3f5f\"}},\"annotationdefaults\":{\"arrowcolor\":\"#2a3f5f\",\"arrowhead\":0,\"arrowwidth\":1},\"geo\":{\"bgcolor\":\"white\",\"landcolor\":\"#E5ECF6\",\"subunitcolor\":\"white\",\"showland\":true,\"showlakes\":true,\"lakecolor\":\"white\"},\"title\":{\"x\":0.05},\"mapbox\":{\"style\":\"light\"}}},\"xaxis\":{\"anchor\":\"y\",\"domain\":[0.0,1.0],\"title\":{\"text\":\"dim1\"}},\"yaxis\":{\"anchor\":\"x\",\"domain\":[0.0,1.0],\"title\":{\"text\":\"dim2\"}},\"legend\":{\"title\":{\"text\":\"label\"},\"tracegroupgap\":0},\"margin\":{\"t\":60}},                        {\"responsive\": true}                    ).then(function(){\n",
       "                            \n",
       "var gd = document.getElementById('53bfdfe3-74b6-474a-8bf8-db176bfb83a6');\n",
       "var x = new MutationObserver(function (mutations, observer) {{\n",
       "        var display = window.getComputedStyle(gd).display;\n",
       "        if (!display || display === 'none') {{\n",
       "            console.log([gd, 'removed!']);\n",
       "            Plotly.purge(gd);\n",
       "            observer.disconnect();\n",
       "        }}\n",
       "}});\n",
       "\n",
       "// Listen for the removal of the full notebook cells\n",
       "var notebookContainer = gd.closest('#notebook-container');\n",
       "if (notebookContainer) {{\n",
       "    x.observe(notebookContainer, {childList: true});\n",
       "}}\n",
       "\n",
       "// Listen for the clearing of the current output cell\n",
       "var outputEl = gd.closest('.output');\n",
       "if (outputEl) {{\n",
       "    x.observe(outputEl, {childList: true});\n",
       "}}\n",
       "\n",
       "                        })                };                });            </script>        </div>"
      ]
     },
     "metadata": {},
     "output_type": "display_data"
    }
   ],
   "source": [
    "X_embedded = PCA_fit(embedding_matrix, n_comp = 2)\n",
    "df_reduced = matrix_to_df(X_embedded, words, labels)\n",
    "plot_2d(df_reduced, color_map)\n"
   ]
  },
  {
   "cell_type": "markdown",
   "id": "6550efac-065d-4c51-bbbc-a7bec3825aea",
   "metadata": {},
   "source": [
    "### Reduce to 3D\n",
    "Plotting in 3D ends up with better results. We can plot and move around to find a good cluster of \"our team\" words to clue."
   ]
  },
  {
   "cell_type": "code",
   "execution_count": 166,
   "id": "aefcb0bb-8b4a-4639-994b-a5f58a864402",
   "metadata": {},
   "outputs": [
    {
     "data": {
      "application/vnd.plotly.v1+json": {
       "config": {
        "plotlyServerURL": "https://plot.ly"
       },
       "data": [
        {
         "hovertemplate": "<b>%{hovertext}</b><br><br>label=our_team<br>dim1=%{x}<br>dim2=%{y}<br>dim3=%{z}<br>word=%{text}<extra></extra>",
         "hovertext": [
          "lead",
          "chick",
          "fighter",
          "buck",
          "stick",
          "pilot",
          "witch",
          "parachute",
          "doctor"
         ],
         "legendgroup": "our_team",
         "marker": {
          "color": "deeppink",
          "symbol": "circle"
         },
         "mode": "markers+text",
         "name": "our_team",
         "scene": "scene",
         "showlegend": true,
         "text": [
          "lead",
          "chick",
          "fighter",
          "buck",
          "stick",
          "pilot",
          "witch",
          "parachute",
          "doctor"
         ],
         "type": "scatter3d",
         "x": [
          1.6355113983154297,
          -1.9748876094818115,
          -2.3617751598358154,
          -0.6723368167877197,
          -0.6639165282249451,
          -0.2532169818878174,
          -0.9388896822929382,
          -1.6955560445785522,
          0.24982839822769165
         ],
         "y": [
          1.0432515144348145,
          -0.8184866905212402,
          0.11733926832675934,
          0.40631717443466187,
          -0.623792290687561,
          1.0559020042419434,
          -1.254224181175232,
          -0.4223906695842743,
          1.4967764616012573
         ],
         "z": [
          0.13070493936538696,
          -1.8216394186019897,
          3.251579761505127,
          -1.4348396062850952,
          -1.4210820198059082,
          3.09555983543396,
          -1.095263123512268,
          1.997496247291565,
          0.007982254028320312
         ]
        },
        {
         "hovertemplate": "<b>%{hovertext}</b><br><br>label=their_team<br>dim1=%{x}<br>dim2=%{y}<br>dim3=%{z}<br>word=%{text}<extra></extra>",
         "hovertext": [
          "degree",
          "boom",
          "shoe",
          "oil",
          "bell",
          "worm",
          "wave",
          "robot"
         ],
         "legendgroup": "their_team",
         "marker": {
          "color": "cornflowerblue",
          "symbol": "circle"
         },
         "mode": "markers+text",
         "name": "their_team",
         "scene": "scene",
         "showlegend": true,
         "text": [
          "degree",
          "boom",
          "shoe",
          "oil",
          "bell",
          "worm",
          "wave",
          "robot"
         ],
         "type": "scatter3d",
         "x": [
          2.6990747451782227,
          -0.5109659433364868,
          -0.6576716899871826,
          4.535335540771484,
          0.29933619499206543,
          -0.34171032905578613,
          -0.4342012405395508,
          -2.3398923873901367
         ],
         "y": [
          2.93107533454895,
          -1.2678903341293335,
          -0.4989171624183655,
          -1.9814989566802979,
          -0.02820240519940853,
          -3.4494524002075195,
          -0.16113455593585968,
          -1.1189265251159668
         ],
         "z": [
          -0.2135763317346573,
          -2.1513524055480957,
          -1.2597448825836182,
          -1.4145545959472656,
          -0.7070003747940063,
          0.1921958327293396,
          -1.0434165000915527,
          1.8810527324676514
         ]
        },
        {
         "hovertemplate": "<b>%{hovertext}</b><br><br>label=bomb<br>dim1=%{x}<br>dim2=%{y}<br>dim3=%{z}<br>word=%{text}<extra></extra>",
         "hovertext": [
          "unicorn"
         ],
         "legendgroup": "bomb",
         "marker": {
          "color": "yellow",
          "symbol": "circle"
         },
         "mode": "markers+text",
         "name": "bomb",
         "scene": "scene",
         "showlegend": true,
         "text": [
          "unicorn"
         ],
         "type": "scatter3d",
         "x": [
          -1.8133968114852905
         ],
         "y": [
          -1.7186490297317505
         ],
         "z": [
          0.8874282836914062
         ]
        },
        {
         "hovertemplate": "<b>%{hovertext}</b><br><br>label=neutral<br>dim1=%{x}<br>dim2=%{y}<br>dim3=%{z}<br>word=%{text}<extra></extra>",
         "hovertext": [
          "phoenix",
          "police",
          "tag",
          "film",
          "buffalo",
          "mercury",
          "beat"
         ],
         "legendgroup": "neutral",
         "marker": {
          "color": "grey",
          "symbol": "circle"
         },
         "mode": "markers+text",
         "name": "neutral",
         "scene": "scene",
         "showlegend": true,
         "text": [
          "phoenix",
          "police",
          "tag",
          "film",
          "buffalo",
          "mercury",
          "beat"
         ],
         "type": "scatter3d",
         "x": [
          0.456309974193573,
          0.34352317452430725,
          -0.8813574910163879,
          0.7800677418708801,
          0.23627997934818268,
          4.950621604919434,
          -0.6461131572723389
         ],
         "y": [
          1.3764773607254028,
          3.915431022644043,
          0.05451028048992157,
          2.206477642059326,
          1.1561222076416016,
          -3.134472131729126,
          0.7183567881584167
         ],
         "z": [
          0.4515559673309326,
          0.6238333582878113,
          -0.5692554116249084,
          0.21294976770877838,
          -0.8594474196434021,
          2.8459067344665527,
          -1.5870766639709473
         ]
        }
       ],
       "layout": {
        "autosize": true,
        "legend": {
         "title": {
          "text": "label"
         },
         "tracegroupgap": 0
        },
        "margin": {
         "t": 60
        },
        "scene": {
         "aspectmode": "auto",
         "aspectratio": {
          "x": 1.10350600604867,
          "y": 1.1114267117092094,
          "z": 0.8153507377162057
         },
         "camera": {
          "center": {
           "x": 0,
           "y": 0,
           "z": 0
          },
          "eye": {
           "x": 1.6616891363674477,
           "y": 1.6616891363674475,
           "z": 1.6616891363674475
          },
          "projection": {
           "type": "perspective"
          },
          "up": {
           "x": 0,
           "y": 0,
           "z": 1
          }
         },
         "domain": {
          "x": [
           0,
           1
          ],
          "y": [
           0,
           1
          ]
         },
         "xaxis": {
          "title": {
           "text": "dim1"
          },
          "type": "linear"
         },
         "yaxis": {
          "title": {
           "text": "dim2"
          },
          "type": "linear"
         },
         "zaxis": {
          "title": {
           "text": "dim3"
          },
          "type": "linear"
         }
        },
        "template": {
         "data": {
          "bar": [
           {
            "error_x": {
             "color": "#2a3f5f"
            },
            "error_y": {
             "color": "#2a3f5f"
            },
            "marker": {
             "line": {
              "color": "#E5ECF6",
              "width": 0.5
             },
             "pattern": {
              "fillmode": "overlay",
              "size": 10,
              "solidity": 0.2
             }
            },
            "type": "bar"
           }
          ],
          "barpolar": [
           {
            "marker": {
             "line": {
              "color": "#E5ECF6",
              "width": 0.5
             },
             "pattern": {
              "fillmode": "overlay",
              "size": 10,
              "solidity": 0.2
             }
            },
            "type": "barpolar"
           }
          ],
          "carpet": [
           {
            "aaxis": {
             "endlinecolor": "#2a3f5f",
             "gridcolor": "white",
             "linecolor": "white",
             "minorgridcolor": "white",
             "startlinecolor": "#2a3f5f"
            },
            "baxis": {
             "endlinecolor": "#2a3f5f",
             "gridcolor": "white",
             "linecolor": "white",
             "minorgridcolor": "white",
             "startlinecolor": "#2a3f5f"
            },
            "type": "carpet"
           }
          ],
          "choropleth": [
           {
            "colorbar": {
             "outlinewidth": 0,
             "ticks": ""
            },
            "type": "choropleth"
           }
          ],
          "contour": [
           {
            "colorbar": {
             "outlinewidth": 0,
             "ticks": ""
            },
            "colorscale": [
             [
              0,
              "#0d0887"
             ],
             [
              0.1111111111111111,
              "#46039f"
             ],
             [
              0.2222222222222222,
              "#7201a8"
             ],
             [
              0.3333333333333333,
              "#9c179e"
             ],
             [
              0.4444444444444444,
              "#bd3786"
             ],
             [
              0.5555555555555556,
              "#d8576b"
             ],
             [
              0.6666666666666666,
              "#ed7953"
             ],
             [
              0.7777777777777778,
              "#fb9f3a"
             ],
             [
              0.8888888888888888,
              "#fdca26"
             ],
             [
              1,
              "#f0f921"
             ]
            ],
            "type": "contour"
           }
          ],
          "contourcarpet": [
           {
            "colorbar": {
             "outlinewidth": 0,
             "ticks": ""
            },
            "type": "contourcarpet"
           }
          ],
          "heatmap": [
           {
            "colorbar": {
             "outlinewidth": 0,
             "ticks": ""
            },
            "colorscale": [
             [
              0,
              "#0d0887"
             ],
             [
              0.1111111111111111,
              "#46039f"
             ],
             [
              0.2222222222222222,
              "#7201a8"
             ],
             [
              0.3333333333333333,
              "#9c179e"
             ],
             [
              0.4444444444444444,
              "#bd3786"
             ],
             [
              0.5555555555555556,
              "#d8576b"
             ],
             [
              0.6666666666666666,
              "#ed7953"
             ],
             [
              0.7777777777777778,
              "#fb9f3a"
             ],
             [
              0.8888888888888888,
              "#fdca26"
             ],
             [
              1,
              "#f0f921"
             ]
            ],
            "type": "heatmap"
           }
          ],
          "heatmapgl": [
           {
            "colorbar": {
             "outlinewidth": 0,
             "ticks": ""
            },
            "colorscale": [
             [
              0,
              "#0d0887"
             ],
             [
              0.1111111111111111,
              "#46039f"
             ],
             [
              0.2222222222222222,
              "#7201a8"
             ],
             [
              0.3333333333333333,
              "#9c179e"
             ],
             [
              0.4444444444444444,
              "#bd3786"
             ],
             [
              0.5555555555555556,
              "#d8576b"
             ],
             [
              0.6666666666666666,
              "#ed7953"
             ],
             [
              0.7777777777777778,
              "#fb9f3a"
             ],
             [
              0.8888888888888888,
              "#fdca26"
             ],
             [
              1,
              "#f0f921"
             ]
            ],
            "type": "heatmapgl"
           }
          ],
          "histogram": [
           {
            "marker": {
             "pattern": {
              "fillmode": "overlay",
              "size": 10,
              "solidity": 0.2
             }
            },
            "type": "histogram"
           }
          ],
          "histogram2d": [
           {
            "colorbar": {
             "outlinewidth": 0,
             "ticks": ""
            },
            "colorscale": [
             [
              0,
              "#0d0887"
             ],
             [
              0.1111111111111111,
              "#46039f"
             ],
             [
              0.2222222222222222,
              "#7201a8"
             ],
             [
              0.3333333333333333,
              "#9c179e"
             ],
             [
              0.4444444444444444,
              "#bd3786"
             ],
             [
              0.5555555555555556,
              "#d8576b"
             ],
             [
              0.6666666666666666,
              "#ed7953"
             ],
             [
              0.7777777777777778,
              "#fb9f3a"
             ],
             [
              0.8888888888888888,
              "#fdca26"
             ],
             [
              1,
              "#f0f921"
             ]
            ],
            "type": "histogram2d"
           }
          ],
          "histogram2dcontour": [
           {
            "colorbar": {
             "outlinewidth": 0,
             "ticks": ""
            },
            "colorscale": [
             [
              0,
              "#0d0887"
             ],
             [
              0.1111111111111111,
              "#46039f"
             ],
             [
              0.2222222222222222,
              "#7201a8"
             ],
             [
              0.3333333333333333,
              "#9c179e"
             ],
             [
              0.4444444444444444,
              "#bd3786"
             ],
             [
              0.5555555555555556,
              "#d8576b"
             ],
             [
              0.6666666666666666,
              "#ed7953"
             ],
             [
              0.7777777777777778,
              "#fb9f3a"
             ],
             [
              0.8888888888888888,
              "#fdca26"
             ],
             [
              1,
              "#f0f921"
             ]
            ],
            "type": "histogram2dcontour"
           }
          ],
          "mesh3d": [
           {
            "colorbar": {
             "outlinewidth": 0,
             "ticks": ""
            },
            "type": "mesh3d"
           }
          ],
          "parcoords": [
           {
            "line": {
             "colorbar": {
              "outlinewidth": 0,
              "ticks": ""
             }
            },
            "type": "parcoords"
           }
          ],
          "pie": [
           {
            "automargin": true,
            "type": "pie"
           }
          ],
          "scatter": [
           {
            "fillpattern": {
             "fillmode": "overlay",
             "size": 10,
             "solidity": 0.2
            },
            "type": "scatter"
           }
          ],
          "scatter3d": [
           {
            "line": {
             "colorbar": {
              "outlinewidth": 0,
              "ticks": ""
             }
            },
            "marker": {
             "colorbar": {
              "outlinewidth": 0,
              "ticks": ""
             }
            },
            "type": "scatter3d"
           }
          ],
          "scattercarpet": [
           {
            "marker": {
             "colorbar": {
              "outlinewidth": 0,
              "ticks": ""
             }
            },
            "type": "scattercarpet"
           }
          ],
          "scattergeo": [
           {
            "marker": {
             "colorbar": {
              "outlinewidth": 0,
              "ticks": ""
             }
            },
            "type": "scattergeo"
           }
          ],
          "scattergl": [
           {
            "marker": {
             "colorbar": {
              "outlinewidth": 0,
              "ticks": ""
             }
            },
            "type": "scattergl"
           }
          ],
          "scattermapbox": [
           {
            "marker": {
             "colorbar": {
              "outlinewidth": 0,
              "ticks": ""
             }
            },
            "type": "scattermapbox"
           }
          ],
          "scatterpolar": [
           {
            "marker": {
             "colorbar": {
              "outlinewidth": 0,
              "ticks": ""
             }
            },
            "type": "scatterpolar"
           }
          ],
          "scatterpolargl": [
           {
            "marker": {
             "colorbar": {
              "outlinewidth": 0,
              "ticks": ""
             }
            },
            "type": "scatterpolargl"
           }
          ],
          "scatterternary": [
           {
            "marker": {
             "colorbar": {
              "outlinewidth": 0,
              "ticks": ""
             }
            },
            "type": "scatterternary"
           }
          ],
          "surface": [
           {
            "colorbar": {
             "outlinewidth": 0,
             "ticks": ""
            },
            "colorscale": [
             [
              0,
              "#0d0887"
             ],
             [
              0.1111111111111111,
              "#46039f"
             ],
             [
              0.2222222222222222,
              "#7201a8"
             ],
             [
              0.3333333333333333,
              "#9c179e"
             ],
             [
              0.4444444444444444,
              "#bd3786"
             ],
             [
              0.5555555555555556,
              "#d8576b"
             ],
             [
              0.6666666666666666,
              "#ed7953"
             ],
             [
              0.7777777777777778,
              "#fb9f3a"
             ],
             [
              0.8888888888888888,
              "#fdca26"
             ],
             [
              1,
              "#f0f921"
             ]
            ],
            "type": "surface"
           }
          ],
          "table": [
           {
            "cells": {
             "fill": {
              "color": "#EBF0F8"
             },
             "line": {
              "color": "white"
             }
            },
            "header": {
             "fill": {
              "color": "#C8D4E3"
             },
             "line": {
              "color": "white"
             }
            },
            "type": "table"
           }
          ]
         },
         "layout": {
          "annotationdefaults": {
           "arrowcolor": "#2a3f5f",
           "arrowhead": 0,
           "arrowwidth": 1
          },
          "autotypenumbers": "strict",
          "coloraxis": {
           "colorbar": {
            "outlinewidth": 0,
            "ticks": ""
           }
          },
          "colorscale": {
           "diverging": [
            [
             0,
             "#8e0152"
            ],
            [
             0.1,
             "#c51b7d"
            ],
            [
             0.2,
             "#de77ae"
            ],
            [
             0.3,
             "#f1b6da"
            ],
            [
             0.4,
             "#fde0ef"
            ],
            [
             0.5,
             "#f7f7f7"
            ],
            [
             0.6,
             "#e6f5d0"
            ],
            [
             0.7,
             "#b8e186"
            ],
            [
             0.8,
             "#7fbc41"
            ],
            [
             0.9,
             "#4d9221"
            ],
            [
             1,
             "#276419"
            ]
           ],
           "sequential": [
            [
             0,
             "#0d0887"
            ],
            [
             0.1111111111111111,
             "#46039f"
            ],
            [
             0.2222222222222222,
             "#7201a8"
            ],
            [
             0.3333333333333333,
             "#9c179e"
            ],
            [
             0.4444444444444444,
             "#bd3786"
            ],
            [
             0.5555555555555556,
             "#d8576b"
            ],
            [
             0.6666666666666666,
             "#ed7953"
            ],
            [
             0.7777777777777778,
             "#fb9f3a"
            ],
            [
             0.8888888888888888,
             "#fdca26"
            ],
            [
             1,
             "#f0f921"
            ]
           ],
           "sequentialminus": [
            [
             0,
             "#0d0887"
            ],
            [
             0.1111111111111111,
             "#46039f"
            ],
            [
             0.2222222222222222,
             "#7201a8"
            ],
            [
             0.3333333333333333,
             "#9c179e"
            ],
            [
             0.4444444444444444,
             "#bd3786"
            ],
            [
             0.5555555555555556,
             "#d8576b"
            ],
            [
             0.6666666666666666,
             "#ed7953"
            ],
            [
             0.7777777777777778,
             "#fb9f3a"
            ],
            [
             0.8888888888888888,
             "#fdca26"
            ],
            [
             1,
             "#f0f921"
            ]
           ]
          },
          "colorway": [
           "#636efa",
           "#EF553B",
           "#00cc96",
           "#ab63fa",
           "#FFA15A",
           "#19d3f3",
           "#FF6692",
           "#B6E880",
           "#FF97FF",
           "#FECB52"
          ],
          "font": {
           "color": "#2a3f5f"
          },
          "geo": {
           "bgcolor": "white",
           "lakecolor": "white",
           "landcolor": "#E5ECF6",
           "showlakes": true,
           "showland": true,
           "subunitcolor": "white"
          },
          "hoverlabel": {
           "align": "left"
          },
          "hovermode": "closest",
          "mapbox": {
           "style": "light"
          },
          "paper_bgcolor": "white",
          "plot_bgcolor": "#E5ECF6",
          "polar": {
           "angularaxis": {
            "gridcolor": "white",
            "linecolor": "white",
            "ticks": ""
           },
           "bgcolor": "#E5ECF6",
           "radialaxis": {
            "gridcolor": "white",
            "linecolor": "white",
            "ticks": ""
           }
          },
          "scene": {
           "xaxis": {
            "backgroundcolor": "#E5ECF6",
            "gridcolor": "white",
            "gridwidth": 2,
            "linecolor": "white",
            "showbackground": true,
            "ticks": "",
            "zerolinecolor": "white"
           },
           "yaxis": {
            "backgroundcolor": "#E5ECF6",
            "gridcolor": "white",
            "gridwidth": 2,
            "linecolor": "white",
            "showbackground": true,
            "ticks": "",
            "zerolinecolor": "white"
           },
           "zaxis": {
            "backgroundcolor": "#E5ECF6",
            "gridcolor": "white",
            "gridwidth": 2,
            "linecolor": "white",
            "showbackground": true,
            "ticks": "",
            "zerolinecolor": "white"
           }
          },
          "shapedefaults": {
           "line": {
            "color": "#2a3f5f"
           }
          },
          "ternary": {
           "aaxis": {
            "gridcolor": "white",
            "linecolor": "white",
            "ticks": ""
           },
           "baxis": {
            "gridcolor": "white",
            "linecolor": "white",
            "ticks": ""
           },
           "bgcolor": "#E5ECF6",
           "caxis": {
            "gridcolor": "white",
            "linecolor": "white",
            "ticks": ""
           }
          },
          "title": {
           "x": 0.05
          },
          "xaxis": {
           "automargin": true,
           "gridcolor": "white",
           "linecolor": "white",
           "ticks": "",
           "title": {
            "standoff": 15
           },
           "zerolinecolor": "white",
           "zerolinewidth": 2
          },
          "yaxis": {
           "automargin": true,
           "gridcolor": "white",
           "linecolor": "white",
           "ticks": "",
           "title": {
            "standoff": 15
           },
           "zerolinecolor": "white",
           "zerolinewidth": 2
          }
         }
        }
       }
      },
      "image/png": "[encoded data removed]",
      "text/html": [
       "<div>                            <div id=\"0acff9fd-1430-4fbd-bce6-b96208fef75a\" class=\"plotly-graph-div\" style=\"height:525px; width:100%;\"></div>            <script type=\"text/javascript\">                require([\"plotly\"], function(Plotly) {                    window.PLOTLYENV=window.PLOTLYENV || {};                                    if (document.getElementById(\"0acff9fd-1430-4fbd-bce6-b96208fef75a\")) {                    Plotly.newPlot(                        \"0acff9fd-1430-4fbd-bce6-b96208fef75a\",                        [{\"hovertemplate\":\"<b>%{hovertext}</b><br><br>label=our_team<br>dim1=%{x}<br>dim2=%{y}<br>dim3=%{z}<br>word=%{text}<extra></extra>\",\"hovertext\":[\"lead\",\"chick\",\"fighter\",\"buck\",\"stick\",\"pilot\",\"witch\",\"parachute\",\"doctor\"],\"legendgroup\":\"our_team\",\"marker\":{\"color\":\"deeppink\",\"symbol\":\"circle\"},\"mode\":\"markers+text\",\"name\":\"our_team\",\"scene\":\"scene\",\"showlegend\":true,\"text\":[\"lead\",\"chick\",\"fighter\",\"buck\",\"stick\",\"pilot\",\"witch\",\"parachute\",\"doctor\"],\"x\":[1.6355113983154297,-1.9748876094818115,-2.3617751598358154,-0.6723368167877197,-0.6639165282249451,-0.2532169818878174,-0.9388896822929382,-1.6955560445785522,0.24982839822769165],\"y\":[1.0432515144348145,-0.8184866905212402,0.11733926832675934,0.40631717443466187,-0.623792290687561,1.0559020042419434,-1.254224181175232,-0.4223906695842743,1.4967764616012573],\"z\":[0.13070493936538696,-1.8216394186019897,3.251579761505127,-1.4348396062850952,-1.4210820198059082,3.09555983543396,-1.095263123512268,1.997496247291565,0.007982254028320312],\"type\":\"scatter3d\"},{\"hovertemplate\":\"<b>%{hovertext}</b><br><br>label=their_team<br>dim1=%{x}<br>dim2=%{y}<br>dim3=%{z}<br>word=%{text}<extra></extra>\",\"hovertext\":[\"degree\",\"boom\",\"shoe\",\"oil\",\"bell\",\"worm\",\"wave\",\"robot\"],\"legendgroup\":\"their_team\",\"marker\":{\"color\":\"cornflowerblue\",\"symbol\":\"circle\"},\"mode\":\"markers+text\",\"name\":\"their_team\",\"scene\":\"scene\",\"showlegend\":true,\"text\":[\"degree\",\"boom\",\"shoe\",\"oil\",\"bell\",\"worm\",\"wave\",\"robot\"],\"x\":[2.6990747451782227,-0.5109659433364868,-0.6576716899871826,4.535335540771484,0.29933619499206543,-0.34171032905578613,-0.4342012405395508,-2.3398923873901367],\"y\":[2.93107533454895,-1.2678903341293335,-0.4989171624183655,-1.9814989566802979,-0.02820240519940853,-3.4494524002075195,-0.16113455593585968,-1.1189265251159668],\"z\":[-0.2135763317346573,-2.1513524055480957,-1.2597448825836182,-1.4145545959472656,-0.7070003747940063,0.1921958327293396,-1.0434165000915527,1.8810527324676514],\"type\":\"scatter3d\"},{\"hovertemplate\":\"<b>%{hovertext}</b><br><br>label=bomb<br>dim1=%{x}<br>dim2=%{y}<br>dim3=%{z}<br>word=%{text}<extra></extra>\",\"hovertext\":[\"unicorn\"],\"legendgroup\":\"bomb\",\"marker\":{\"color\":\"yellow\",\"symbol\":\"circle\"},\"mode\":\"markers+text\",\"name\":\"bomb\",\"scene\":\"scene\",\"showlegend\":true,\"text\":[\"unicorn\"],\"x\":[-1.8133968114852905],\"y\":[-1.7186490297317505],\"z\":[0.8874282836914062],\"type\":\"scatter3d\"},{\"hovertemplate\":\"<b>%{hovertext}</b><br><br>label=neutral<br>dim1=%{x}<br>dim2=%{y}<br>dim3=%{z}<br>word=%{text}<extra></extra>\",\"hovertext\":[\"phoenix\",\"police\",\"tag\",\"film\",\"buffalo\",\"mercury\",\"beat\"],\"legendgroup\":\"neutral\",\"marker\":{\"color\":\"grey\",\"symbol\":\"circle\"},\"mode\":\"markers+text\",\"name\":\"neutral\",\"scene\":\"scene\",\"showlegend\":true,\"text\":[\"phoenix\",\"police\",\"tag\",\"film\",\"buffalo\",\"mercury\",\"beat\"],\"x\":[0.456309974193573,0.34352317452430725,-0.8813574910163879,0.7800677418708801,0.23627997934818268,4.950621604919434,-0.6461131572723389],\"y\":[1.3764773607254028,3.915431022644043,0.05451028048992157,2.206477642059326,1.1561222076416016,-3.134472131729126,0.7183567881584167],\"z\":[0.4515559673309326,0.6238333582878113,-0.5692554116249084,0.21294976770877838,-0.8594474196434021,2.8459067344665527,-1.5870766639709473],\"type\":\"scatter3d\"}],                        {\"template\":{\"data\":{\"histogram2dcontour\":[{\"type\":\"histogram2dcontour\",\"colorbar\":{\"outlinewidth\":0,\"ticks\":\"\"},\"colorscale\":[[0.0,\"#0d0887\"],[0.1111111111111111,\"#46039f\"],[0.2222222222222222,\"#7201a8\"],[0.3333333333333333,\"#9c179e\"],[0.4444444444444444,\"#bd3786\"],[0.5555555555555556,\"#d8576b\"],[0.6666666666666666,\"#ed7953\"],[0.7777777777777778,\"#fb9f3a\"],[0.8888888888888888,\"#fdca26\"],[1.0,\"#f0f921\"]]}],\"choropleth\":[{\"type\":\"choropleth\",\"colorbar\":{\"outlinewidth\":0,\"ticks\":\"\"}}],\"histogram2d\":[{\"type\":\"histogram2d\",\"colorbar\":{\"outlinewidth\":0,\"ticks\":\"\"},\"colorscale\":[[0.0,\"#0d0887\"],[0.1111111111111111,\"#46039f\"],[0.2222222222222222,\"#7201a8\"],[0.3333333333333333,\"#9c179e\"],[0.4444444444444444,\"#bd3786\"],[0.5555555555555556,\"#d8576b\"],[0.6666666666666666,\"#ed7953\"],[0.7777777777777778,\"#fb9f3a\"],[0.8888888888888888,\"#fdca26\"],[1.0,\"#f0f921\"]]}],\"heatmap\":[{\"type\":\"heatmap\",\"colorbar\":{\"outlinewidth\":0,\"ticks\":\"\"},\"colorscale\":[[0.0,\"#0d0887\"],[0.1111111111111111,\"#46039f\"],[0.2222222222222222,\"#7201a8\"],[0.3333333333333333,\"#9c179e\"],[0.4444444444444444,\"#bd3786\"],[0.5555555555555556,\"#d8576b\"],[0.6666666666666666,\"#ed7953\"],[0.7777777777777778,\"#fb9f3a\"],[0.8888888888888888,\"#fdca26\"],[1.0,\"#f0f921\"]]}],\"heatmapgl\":[{\"type\":\"heatmapgl\",\"colorbar\":{\"outlinewidth\":0,\"ticks\":\"\"},\"colorscale\":[[0.0,\"#0d0887\"],[0.1111111111111111,\"#46039f\"],[0.2222222222222222,\"#7201a8\"],[0.3333333333333333,\"#9c179e\"],[0.4444444444444444,\"#bd3786\"],[0.5555555555555556,\"#d8576b\"],[0.6666666666666666,\"#ed7953\"],[0.7777777777777778,\"#fb9f3a\"],[0.8888888888888888,\"#fdca26\"],[1.0,\"#f0f921\"]]}],\"contourcarpet\":[{\"type\":\"contourcarpet\",\"colorbar\":{\"outlinewidth\":0,\"ticks\":\"\"}}],\"contour\":[{\"type\":\"contour\",\"colorbar\":{\"outlinewidth\":0,\"ticks\":\"\"},\"colorscale\":[[0.0,\"#0d0887\"],[0.1111111111111111,\"#46039f\"],[0.2222222222222222,\"#7201a8\"],[0.3333333333333333,\"#9c179e\"],[0.4444444444444444,\"#bd3786\"],[0.5555555555555556,\"#d8576b\"],[0.6666666666666666,\"#ed7953\"],[0.7777777777777778,\"#fb9f3a\"],[0.8888888888888888,\"#fdca26\"],[1.0,\"#f0f921\"]]}],\"surface\":[{\"type\":\"surface\",\"colorbar\":{\"outlinewidth\":0,\"ticks\":\"\"},\"colorscale\":[[0.0,\"#0d0887\"],[0.1111111111111111,\"#46039f\"],[0.2222222222222222,\"#7201a8\"],[0.3333333333333333,\"#9c179e\"],[0.4444444444444444,\"#bd3786\"],[0.5555555555555556,\"#d8576b\"],[0.6666666666666666,\"#ed7953\"],[0.7777777777777778,\"#fb9f3a\"],[0.8888888888888888,\"#fdca26\"],[1.0,\"#f0f921\"]]}],\"mesh3d\":[{\"type\":\"mesh3d\",\"colorbar\":{\"outlinewidth\":0,\"ticks\":\"\"}}],\"scatter\":[{\"fillpattern\":{\"fillmode\":\"overlay\",\"size\":10,\"solidity\":0.2},\"type\":\"scatter\"}],\"parcoords\":[{\"type\":\"parcoords\",\"line\":{\"colorbar\":{\"outlinewidth\":0,\"ticks\":\"\"}}}],\"scatterpolargl\":[{\"type\":\"scatterpolargl\",\"marker\":{\"colorbar\":{\"outlinewidth\":0,\"ticks\":\"\"}}}],\"bar\":[{\"error_x\":{\"color\":\"#2a3f5f\"},\"error_y\":{\"color\":\"#2a3f5f\"},\"marker\":{\"line\":{\"color\":\"#E5ECF6\",\"width\":0.5},\"pattern\":{\"fillmode\":\"overlay\",\"size\":10,\"solidity\":0.2}},\"type\":\"bar\"}],\"scattergeo\":[{\"type\":\"scattergeo\",\"marker\":{\"colorbar\":{\"outlinewidth\":0,\"ticks\":\"\"}}}],\"scatterpolar\":[{\"type\":\"scatterpolar\",\"marker\":{\"colorbar\":{\"outlinewidth\":0,\"ticks\":\"\"}}}],\"histogram\":[{\"marker\":{\"pattern\":{\"fillmode\":\"overlay\",\"size\":10,\"solidity\":0.2}},\"type\":\"histogram\"}],\"scattergl\":[{\"type\":\"scattergl\",\"marker\":{\"colorbar\":{\"outlinewidth\":0,\"ticks\":\"\"}}}],\"scatter3d\":[{\"type\":\"scatter3d\",\"line\":{\"colorbar\":{\"outlinewidth\":0,\"ticks\":\"\"}},\"marker\":{\"colorbar\":{\"outlinewidth\":0,\"ticks\":\"\"}}}],\"scattermapbox\":[{\"type\":\"scattermapbox\",\"marker\":{\"colorbar\":{\"outlinewidth\":0,\"ticks\":\"\"}}}],\"scatterternary\":[{\"type\":\"scatterternary\",\"marker\":{\"colorbar\":{\"outlinewidth\":0,\"ticks\":\"\"}}}],\"scattercarpet\":[{\"type\":\"scattercarpet\",\"marker\":{\"colorbar\":{\"outlinewidth\":0,\"ticks\":\"\"}}}],\"carpet\":[{\"aaxis\":{\"endlinecolor\":\"#2a3f5f\",\"gridcolor\":\"white\",\"linecolor\":\"white\",\"minorgridcolor\":\"white\",\"startlinecolor\":\"#2a3f5f\"},\"baxis\":{\"endlinecolor\":\"#2a3f5f\",\"gridcolor\":\"white\",\"linecolor\":\"white\",\"minorgridcolor\":\"white\",\"startlinecolor\":\"#2a3f5f\"},\"type\":\"carpet\"}],\"table\":[{\"cells\":{\"fill\":{\"color\":\"#EBF0F8\"},\"line\":{\"color\":\"white\"}},\"header\":{\"fill\":{\"color\":\"#C8D4E3\"},\"line\":{\"color\":\"white\"}},\"type\":\"table\"}],\"barpolar\":[{\"marker\":{\"line\":{\"color\":\"#E5ECF6\",\"width\":0.5},\"pattern\":{\"fillmode\":\"overlay\",\"size\":10,\"solidity\":0.2}},\"type\":\"barpolar\"}],\"pie\":[{\"automargin\":true,\"type\":\"pie\"}]},\"layout\":{\"autotypenumbers\":\"strict\",\"colorway\":[\"#636efa\",\"#EF553B\",\"#00cc96\",\"#ab63fa\",\"#FFA15A\",\"#19d3f3\",\"#FF6692\",\"#B6E880\",\"#FF97FF\",\"#FECB52\"],\"font\":{\"color\":\"#2a3f5f\"},\"hovermode\":\"closest\",\"hoverlabel\":{\"align\":\"left\"},\"paper_bgcolor\":\"white\",\"plot_bgcolor\":\"#E5ECF6\",\"polar\":{\"bgcolor\":\"#E5ECF6\",\"angularaxis\":{\"gridcolor\":\"white\",\"linecolor\":\"white\",\"ticks\":\"\"},\"radialaxis\":{\"gridcolor\":\"white\",\"linecolor\":\"white\",\"ticks\":\"\"}},\"ternary\":{\"bgcolor\":\"#E5ECF6\",\"aaxis\":{\"gridcolor\":\"white\",\"linecolor\":\"white\",\"ticks\":\"\"},\"baxis\":{\"gridcolor\":\"white\",\"linecolor\":\"white\",\"ticks\":\"\"},\"caxis\":{\"gridcolor\":\"white\",\"linecolor\":\"white\",\"ticks\":\"\"}},\"coloraxis\":{\"colorbar\":{\"outlinewidth\":0,\"ticks\":\"\"}},\"colorscale\":{\"sequential\":[[0.0,\"#0d0887\"],[0.1111111111111111,\"#46039f\"],[0.2222222222222222,\"#7201a8\"],[0.3333333333333333,\"#9c179e\"],[0.4444444444444444,\"#bd3786\"],[0.5555555555555556,\"#d8576b\"],[0.6666666666666666,\"#ed7953\"],[0.7777777777777778,\"#fb9f3a\"],[0.8888888888888888,\"#fdca26\"],[1.0,\"#f0f921\"]],\"sequentialminus\":[[0.0,\"#0d0887\"],[0.1111111111111111,\"#46039f\"],[0.2222222222222222,\"#7201a8\"],[0.3333333333333333,\"#9c179e\"],[0.4444444444444444,\"#bd3786\"],[0.5555555555555556,\"#d8576b\"],[0.6666666666666666,\"#ed7953\"],[0.7777777777777778,\"#fb9f3a\"],[0.8888888888888888,\"#fdca26\"],[1.0,\"#f0f921\"]],\"diverging\":[[0,\"#8e0152\"],[0.1,\"#c51b7d\"],[0.2,\"#de77ae\"],[0.3,\"#f1b6da\"],[0.4,\"#fde0ef\"],[0.5,\"#f7f7f7\"],[0.6,\"#e6f5d0\"],[0.7,\"#b8e186\"],[0.8,\"#7fbc41\"],[0.9,\"#4d9221\"],[1,\"#276419\"]]},\"xaxis\":{\"gridcolor\":\"white\",\"linecolor\":\"white\",\"ticks\":\"\",\"title\":{\"standoff\":15},\"zerolinecolor\":\"white\",\"automargin\":true,\"zerolinewidth\":2},\"yaxis\":{\"gridcolor\":\"white\",\"linecolor\":\"white\",\"ticks\":\"\",\"title\":{\"standoff\":15},\"zerolinecolor\":\"white\",\"automargin\":true,\"zerolinewidth\":2},\"scene\":{\"xaxis\":{\"backgroundcolor\":\"#E5ECF6\",\"gridcolor\":\"white\",\"linecolor\":\"white\",\"showbackground\":true,\"ticks\":\"\",\"zerolinecolor\":\"white\",\"gridwidth\":2},\"yaxis\":{\"backgroundcolor\":\"#E5ECF6\",\"gridcolor\":\"white\",\"linecolor\":\"white\",\"showbackground\":true,\"ticks\":\"\",\"zerolinecolor\":\"white\",\"gridwidth\":2},\"zaxis\":{\"backgroundcolor\":\"#E5ECF6\",\"gridcolor\":\"white\",\"linecolor\":\"white\",\"showbackground\":true,\"ticks\":\"\",\"zerolinecolor\":\"white\",\"gridwidth\":2}},\"shapedefaults\":{\"line\":{\"color\":\"#2a3f5f\"}},\"annotationdefaults\":{\"arrowcolor\":\"#2a3f5f\",\"arrowhead\":0,\"arrowwidth\":1},\"geo\":{\"bgcolor\":\"white\",\"landcolor\":\"#E5ECF6\",\"subunitcolor\":\"white\",\"showland\":true,\"showlakes\":true,\"lakecolor\":\"white\"},\"title\":{\"x\":0.05},\"mapbox\":{\"style\":\"light\"}}},\"scene\":{\"domain\":{\"x\":[0.0,1.0],\"y\":[0.0,1.0]},\"xaxis\":{\"title\":{\"text\":\"dim1\"}},\"yaxis\":{\"title\":{\"text\":\"dim2\"}},\"zaxis\":{\"title\":{\"text\":\"dim3\"}}},\"legend\":{\"title\":{\"text\":\"label\"},\"tracegroupgap\":0},\"margin\":{\"t\":60}},                        {\"responsive\": true}                    ).then(function(){\n",
       "                            \n",
       "var gd = document.getElementById('0acff9fd-1430-4fbd-bce6-b96208fef75a');\n",
       "var x = new MutationObserver(function (mutations, observer) {{\n",
       "        var display = window.getComputedStyle(gd).display;\n",
       "        if (!display || display === 'none') {{\n",
       "            console.log([gd, 'removed!']);\n",
       "            Plotly.purge(gd);\n",
       "            observer.disconnect();\n",
       "        }}\n",
       "}});\n",
       "\n",
       "// Listen for the removal of the full notebook cells\n",
       "var notebookContainer = gd.closest('#notebook-container');\n",
       "if (notebookContainer) {{\n",
       "    x.observe(notebookContainer, {childList: true});\n",
       "}}\n",
       "\n",
       "// Listen for the clearing of the current output cell\n",
       "var outputEl = gd.closest('.output');\n",
       "if (outputEl) {{\n",
       "    x.observe(outputEl, {childList: true});\n",
       "}}\n",
       "\n",
       "                        })                };                });            </script>        </div>"
      ]
     },
     "metadata": {},
     "output_type": "display_data"
    }
   ],
   "source": [
    "X_embedded = PCA_fit(embedding_matrix, n_comp = 3)\n",
    "df_reduced = matrix_to_df(X_embedded, words, labels)\n",
    "plot_3d(df_reduced, color_map)"
   ]
  },
  {
   "cell_type": "code",
   "execution_count": 167,
   "id": "987cce86-f726-4857-8519-0c645e183aa8",
   "metadata": {},
   "outputs": [
    {
     "name": "stdout",
     "output_type": "stream",
     "text": [
      "\u001b[31mOUR TEAM: \n",
      "lead, chick, fighter, buck, stick, pilot, witch, parachute, doctor\u001b[0m\n",
      "\u001b[34mTHEIR TEAM: \n",
      "degree, boom, shoe, oil, bell, worm, wave, robot\u001b[0m\n",
      "\u001b[33mBOMB: \n",
      "unicorn\u001b[0m\n",
      "\u001b[30mNEUTRAL: \n",
      "phoenix, police, tag, film, buffalo, mercury, beat\u001b[0m\n"
     ]
    }
   ],
   "source": [
    "def word_list_str(group):\n",
    "    return(', '.join(w for w in group))\n",
    "\n",
    "print(colored('OUR TEAM: \\n' + word_list_str(our_team), 'red'))\n",
    "print(colored('THEIR TEAM: \\n' + word_list_str(their_team), 'blue'))\n",
    "print(colored('BOMB: \\n' + word_list_str(bomb), 'yellow'))\n",
    "print(colored('NEUTRAL: \\n' + word_list_str(neutral), 'grey'))\n",
    "\n"
   ]
  },
  {
   "cell_type": "markdown",
   "id": "b929ed59-e01d-4b9f-9fe7-e9c754e2c2f5",
   "metadata": {},
   "source": [
    "# Clue Generation\n",
    "Once you decide which words to clue, we can generate a clue! \n",
    "\n",
    "Edit the code below with the specific words to clue from \"our team\""
   ]
  },
  {
   "cell_type": "code",
   "execution_count": 175,
   "id": "bd226955-5111-4080-b2d7-7fffca05f20e",
   "metadata": {},
   "outputs": [],
   "source": [
    "################### MAKE A CHOICE OF WHICH OF YOUR WORDS TO CLUE\n",
    "sub_list_our_words = ['fighter', 'pilot', 'parachute']\n",
    "others = their_team + bomb + neutral"
   ]
  },
  {
   "cell_type": "markdown",
   "id": "04804980-2062-4273-a076-3ca50892f646",
   "metadata": {},
   "source": [
    "In generating a clue, we want to pick a clue that is close to our words and far away from the other words, to maximize the chance that the teammates would pick our words. \n",
    "\n",
    "A potential algorithm to solve this is provided by https://jsomers.net/glove-codenames/, adapted here. The idea is that for a given clue, we can calculate the sum of its distances from the other words, and subtract the distance from the good words. We want to maximize this value. \n",
    "\n",
    "For the subtraction term, we multiply it by a constant number, to indicate that closeness to our words is more important than distance from other words. \n"
   ]
  },
  {
   "cell_type": "code",
   "execution_count": 176,
   "id": "017ec33b-54f7-4042-aeaa-5e0b190c727d",
   "metadata": {},
   "outputs": [],
   "source": [
    "multiplier = 4.0\n",
    "\n",
    "def goodness(word, answers, bad):\n",
    "    if word in answers + bad: return -999\n",
    "    return sum([distance(word, b) for b in bad]) - multiplier * sum([distance(word, a) for a in answers])\n",
    "\n",
    "def minimax(word, answers, bad):\n",
    "    if word in answers + bad: return -999\n",
    "    return min([distance(word, b) for b in bad]) - max([distance(word, a) for a in answers])\n",
    "\n",
    "def candidates(answers, bad, size=100):\n",
    "    best = sorted(embeddings.keys(), key=lambda w: -1 * goodness(w, answers, bad))\n",
    "    res = [(str(i + 1), \"{0:.2f}\".format(minimax(w, answers, bad)), w) for i, w in enumerate(sorted(best[:250], key=lambda w: -1 * minimax(w, answers, bad))[:size])]\n",
    "    return [(\". \".join([c[0], c[2]]) + \" (\" + c[1] + \")\") for c in res]"
   ]
  },
  {
   "cell_type": "code",
   "execution_count": 177,
   "id": "25a41bc1-34b7-4cc8-bdaa-4037a65e396f",
   "metadata": {},
   "outputs": [],
   "source": [
    "candidate_clue_words = candidates(sub_list_our_words, others, size=100)\n"
   ]
  },
  {
   "cell_type": "code",
   "execution_count": 178,
   "id": "9557df70-2143-491d-ab3c-ceeced297dca",
   "metadata": {},
   "outputs": [
    {
     "data": {
      "text/plain": [
       "['1. squadron (0.12)',\n",
       " '2. 747 (0.11)',\n",
       " '3. maneuvers (0.10)',\n",
       " '4. aircraft (0.10)',\n",
       " '5. ww2 (0.10)',\n",
       " '6. raf (0.09)',\n",
       " '7. usaf (0.09)',\n",
       " '8. cockpit (0.09)',\n",
       " '9. 737 (0.09)',\n",
       " '10. flown (0.09)',\n",
       " '11. wwi (0.08)',\n",
       " '12. airborne (0.07)',\n",
       " '13. helicopter (0.07)',\n",
       " '14. 767 (0.07)',\n",
       " '15. airfield (0.07)',\n",
       " '16. normandy (0.07)',\n",
       " '17. pilots (0.05)',\n",
       " '18. takeoff (0.05)',\n",
       " '19. qantas (0.05)',\n",
       " '20. airplane (0.05)',\n",
       " '21. airplanes (0.05)',\n",
       " '22. reconnaissance (0.05)',\n",
       " '23. hangar (0.05)',\n",
       " '24. spitfire (0.05)',\n",
       " '25. heli (0.04)',\n",
       " '26. usmc (0.04)',\n",
       " '27. cessna (0.04)',\n",
       " '28. ryanair (0.04)',\n",
       " '29. 787 (0.04)',\n",
       " '30. fuselage (0.04)',\n",
       " '31. gunner (0.04)',\n",
       " '32. flew (0.03)',\n",
       " '33. missile (0.03)',\n",
       " '34. lufthansa (0.03)',\n",
       " '35. amphibious (0.03)',\n",
       " '36. d-day (0.03)',\n",
       " '37. wwii (0.03)',\n",
       " '38. avionics (0.03)',\n",
       " '39. 1:48 (0.02)',\n",
       " '40. munitions (0.02)',\n",
       " '41. maneuver (0.02)',\n",
       " '42. 757 (0.02)',\n",
       " '43. tactical (0.02)',\n",
       " '44. diver (0.02)',\n",
       " '45. aviation (0.02)',\n",
       " '46. fibrosis (0.01)',\n",
       " '47. seaman (0.01)',\n",
       " '48. landing (0.01)',\n",
       " '49. stunt (0.01)',\n",
       " '50. combat (0.01)',\n",
       " '51. landings (0.01)',\n",
       " '52. glider (0.01)',\n",
       " '53. airbus (0.00)',\n",
       " '54. climber (0.00)',\n",
       " '55. -18 (0.00)',\n",
       " '56. boeing (0.00)',\n",
       " '57. kites (-0.00)',\n",
       " '58. concorde (-0.00)',\n",
       " '59. aboard (-0.00)',\n",
       " '60. planes (-0.00)',\n",
       " '61. atc (-0.00)',\n",
       " '62. valor (-0.01)',\n",
       " '63. perished (-0.01)',\n",
       " '64. fliers (-0.01)',\n",
       " '65. maneuvering (-0.01)',\n",
       " '66. gallant (-0.01)',\n",
       " '67. recon (-0.01)',\n",
       " '68. bomber (-0.01)',\n",
       " '69. ensign (-0.01)',\n",
       " '70. faa (-0.01)',\n",
       " '71. helicopters (-0.01)',\n",
       " '72. inf (-0.01)',\n",
       " '73. okinawa (-0.01)',\n",
       " '74. iberia (-0.01)',\n",
       " '75. aeronautics (-0.02)',\n",
       " '76. cadet (-0.02)',\n",
       " '77. aviator (-0.02)',\n",
       " '78. mig (-0.02)',\n",
       " '79. troop (-0.02)',\n",
       " '80. submarine (-0.02)',\n",
       " '81. deploying (-0.02)',\n",
       " '82. stryker (-0.02)',\n",
       " '83. checklists (-0.02)',\n",
       " '84. logistical (-0.02)',\n",
       " '85. manned (-0.02)',\n",
       " '86. cathay (-0.03)',\n",
       " '87. flight (-0.03)',\n",
       " '88. platoon (-0.03)',\n",
       " '89. basing (-0.03)',\n",
       " '90. casualty (-0.03)',\n",
       " '91. disse (-0.03)',\n",
       " '92. heroism (-0.03)',\n",
       " '93. deployments (-0.03)',\n",
       " '94. ejection (-0.04)',\n",
       " '95. commando (-0.04)',\n",
       " '96. deploy (-0.04)',\n",
       " '97. airspace (-0.04)',\n",
       " '98. ako (-0.04)',\n",
       " '99. flier (-0.04)',\n",
       " '100. bombers (-0.04)']"
      ]
     },
     "execution_count": 178,
     "metadata": {},
     "output_type": "execute_result"
    }
   ],
   "source": [
    "candidate_clue_words"
   ]
  },
  {
   "cell_type": "markdown",
   "id": "960bfca0-40bb-4e2c-8ad2-dda50b5755b5",
   "metadata": {},
   "source": [
    "# Plot the clue words\n",
    "We can then plot the clues in the same space as before."
   ]
  },
  {
   "cell_type": "code",
   "execution_count": 180,
   "id": "451756a0-ea39-4e4c-ac96-ed353fbf6bf3",
   "metadata": {},
   "outputs": [],
   "source": [
    "potential_clues_list = candidate_clue_words[:10]"
   ]
  },
  {
   "cell_type": "code",
   "execution_count": 181,
   "id": "5a4a0cf7-d83f-4736-aa07-e52ff24780a7",
   "metadata": {},
   "outputs": [],
   "source": [
    "clue_words = [potential_clues_list[i].split(' ')[1] for i, r in enumerate(potential_clues_list)]\n",
    "clue_matrix = [embeddings[word] for word in clue_words]\n",
    "embedding_matrix_with_clue = np.vstack((embedding_matrix, clue_matrix))\n",
    "words_b = words + clue_words\n",
    "\n",
    "labels_b = labels + ['clue']* len(clue_words)\n",
    "color_map['clue'] = 'lightgreen'"
   ]
  },
  {
   "cell_type": "code",
   "execution_count": 182,
   "id": "7fe2ea74-5ee8-49db-9b72-6d136bebbda6",
   "metadata": {},
   "outputs": [
    {
     "data": {
      "application/vnd.plotly.v1+json": {
       "config": {
        "plotlyServerURL": "https://plot.ly"
       },
       "data": [
        {
         "hovertemplate": "<b>%{hovertext}</b><br><br>label=our_team<br>dim1=%{x}<br>dim2=%{y}<br>dim3=%{z}<br>word=%{text}<extra></extra>",
         "hovertext": [
          "lead",
          "chick",
          "fighter",
          "buck",
          "stick",
          "pilot",
          "witch",
          "parachute",
          "doctor"
         ],
         "legendgroup": "our_team",
         "marker": {
          "color": "deeppink",
          "symbol": "circle"
         },
         "mode": "markers+text",
         "name": "our_team",
         "scene": "scene",
         "showlegend": true,
         "text": [
          "lead",
          "chick",
          "fighter",
          "buck",
          "stick",
          "pilot",
          "witch",
          "parachute",
          "doctor"
         ],
         "type": "scatter3d",
         "x": [
          -2.0087714195251465,
          -2.0601494312286377,
          1.9295787811279297,
          -1.239565134048462,
          -2.0971202850341797,
          1.5022358894348145,
          -2.214745283126831,
          1.9556657075881958,
          -2.0681591033935547
         ],
         "y": [
          1.5376538038253784,
          -2.416200637817383,
          -1.3285655975341797,
          -0.8994040489196777,
          -0.9552536010742188,
          0.677094042301178,
          -1.5417248010635376,
          -0.9643025994300842,
          -0.1988345980644226
         ],
         "z": [
          1.0040923357009888,
          -0.7083775997161865,
          0.6579961180686951,
          0.341155469417572,
          -0.4489617347717285,
          0.9224165678024292,
          -0.795527458190918,
          -0.34818553924560547,
          1.0700726509094238
         ]
        },
        {
         "hovertemplate": "<b>%{hovertext}</b><br><br>label=their_team<br>dim1=%{x}<br>dim2=%{y}<br>dim3=%{z}<br>word=%{text}<extra></extra>",
         "hovertext": [
          "degree",
          "boom",
          "shoe",
          "oil",
          "bell",
          "worm",
          "wave",
          "robot"
         ],
         "legendgroup": "their_team",
         "marker": {
          "color": "cornflowerblue",
          "symbol": "circle"
         },
         "mode": "markers+text",
         "name": "their_team",
         "scene": "scene",
         "showlegend": true,
         "text": [
          "degree",
          "boom",
          "shoe",
          "oil",
          "bell",
          "worm",
          "wave",
          "robot"
         ],
         "type": "scatter3d",
         "x": [
          -1.76384699344635,
          -1.5654826164245605,
          -1.5198945999145508,
          -2.278801918029785,
          -1.6673097610473633,
          -2.0035057067871094,
          -1.4368802309036255,
          -1.0467320680618286
         ],
         "y": [
          2.4695253372192383,
          -0.598389208316803,
          -0.8283476233482361,
          4.345724105834961,
          0.16158384084701538,
          -0.5535047054290771,
          -0.5314803123474121,
          -2.0631232261657715
         ],
         "z": [
          2.169149398803711,
          -1.5748450756072998,
          -0.5849605202674866,
          -1.075309157371521,
          0.234829381108284,
          -2.845385789871216,
          -0.2872258424758911,
          -0.9615587592124939
         ]
        },
        {
         "hovertemplate": "<b>%{hovertext}</b><br><br>label=bomb<br>dim1=%{x}<br>dim2=%{y}<br>dim3=%{z}<br>word=%{text}<extra></extra>",
         "hovertext": [
          "unicorn"
         ],
         "legendgroup": "bomb",
         "marker": {
          "color": "yellow",
          "symbol": "circle"
         },
         "mode": "markers+text",
         "name": "bomb",
         "scene": "scene",
         "showlegend": true,
         "text": [
          "unicorn"
         ],
         "type": "scatter3d",
         "x": [
          -0.8647674918174744
         ],
         "y": [
          -1.8295329809188843
         ],
         "z": [
          -1.445326566696167
         ]
        },
        {
         "hovertemplate": "<b>%{hovertext}</b><br><br>label=neutral<br>dim1=%{x}<br>dim2=%{y}<br>dim3=%{z}<br>word=%{text}<extra></extra>",
         "hovertext": [
          "phoenix",
          "police",
          "tag",
          "film",
          "buffalo",
          "mercury",
          "beat"
         ],
         "legendgroup": "neutral",
         "marker": {
          "color": "grey",
          "symbol": "circle"
         },
         "mode": "markers+text",
         "name": "neutral",
         "scene": "scene",
         "showlegend": true,
         "text": [
          "phoenix",
          "police",
          "tag",
          "film",
          "buffalo",
          "mercury",
          "beat"
         ],
         "type": "scatter3d",
         "x": [
          -1.1697551012039185,
          -0.8974171876907349,
          -1.488884687423706,
          -2.064765453338623,
          -1.371558666229248,
          -1.3361284732818604,
          -2.3456027507781982
         ],
         "y": [
          0.4611113667488098,
          0.24041183292865753,
          -0.996173083782196,
          0.537243664264679,
          0.04337098449468613,
          5.091099262237549,
          -1.0703439712524414
         ],
         "z": [
          0.9589636325836182,
          4.121079921722412,
          0.178028866648674,
          1.6846567392349243,
          1.024698257446289,
          -2.26216459274292,
          0.83522629737854
         ]
        },
        {
         "hovertemplate": "<b>%{hovertext}</b><br><br>label=clue<br>dim1=%{x}<br>dim2=%{y}<br>dim3=%{z}<br>word=%{text}<extra></extra>",
         "hovertext": [
          "squadron",
          "747",
          "maneuvers",
          "aircraft",
          "ww2",
          "raf",
          "usaf",
          "cockpit",
          "737",
          "flown"
         ],
         "legendgroup": "clue",
         "marker": {
          "color": "lightgreen",
          "symbol": "circle"
         },
         "mode": "markers+text",
         "name": "clue",
         "scene": "scene",
         "showlegend": true,
         "text": [
          "squadron",
          "747",
          "maneuvers",
          "aircraft",
          "ww2",
          "raf",
          "usaf",
          "cockpit",
          "737",
          "flown"
         ],
         "type": "scatter3d",
         "x": [
          4.052943229675293,
          3.064049482345581,
          1.6822541952133179,
          4.015418529510498,
          2.4980809688568115,
          3.8496222496032715,
          3.4936530590057373,
          2.3427865505218506,
          3.248910903930664,
          2.8746414184570312
         ],
         "y": [
          0.00906914472579956,
          0.07247494906187057,
          -0.5398116707801819,
          1.7014966011047363,
          -0.47284576296806335,
          -0.24499554932117462,
          0.1685342937707901,
          0.28997501730918884,
          0.19350826740264893,
          0.032959748059511185
         ],
         "z": [
          1.2007476091384888,
          -2.752183675765991,
          -0.004935726057738066,
          -0.4301905035972595,
          1.2724473476409912,
          1.9468940496444702,
          1.4766021966934204,
          -1.8815416097640991,
          -2.453792095184326,
          -0.2385852038860321
         ]
        }
       ],
       "layout": {
        "autosize": true,
        "legend": {
         "title": {
          "text": "label"
         },
         "tracegroupgap": 0
        },
        "margin": {
         "t": 60
        },
        "scene": {
         "aspectmode": "auto",
         "aspectratio": {
          "x": 0.9216275326827212,
          "y": 1.0813291496432278,
          "z": 1.003429001668246
         },
         "camera": {
          "center": {
           "x": 0,
           "y": 0,
           "z": 0
          },
          "eye": {
           "x": 0.8327093670353215,
           "y": 0.8327093670353213,
           "z": 0.8327093670353213
          },
          "projection": {
           "type": "perspective"
          },
          "up": {
           "x": 0,
           "y": 0,
           "z": 1
          }
         },
         "domain": {
          "x": [
           0,
           1
          ],
          "y": [
           0,
           1
          ]
         },
         "xaxis": {
          "title": {
           "text": "dim1"
          },
          "type": "linear"
         },
         "yaxis": {
          "title": {
           "text": "dim2"
          },
          "type": "linear"
         },
         "zaxis": {
          "title": {
           "text": "dim3"
          },
          "type": "linear"
         }
        },
        "template": {
         "data": {
          "bar": [
           {
            "error_x": {
             "color": "#2a3f5f"
            },
            "error_y": {
             "color": "#2a3f5f"
            },
            "marker": {
             "line": {
              "color": "#E5ECF6",
              "width": 0.5
             },
             "pattern": {
              "fillmode": "overlay",
              "size": 10,
              "solidity": 0.2
             }
            },
            "type": "bar"
           }
          ],
          "barpolar": [
           {
            "marker": {
             "line": {
              "color": "#E5ECF6",
              "width": 0.5
             },
             "pattern": {
              "fillmode": "overlay",
              "size": 10,
              "solidity": 0.2
             }
            },
            "type": "barpolar"
           }
          ],
          "carpet": [
           {
            "aaxis": {
             "endlinecolor": "#2a3f5f",
             "gridcolor": "white",
             "linecolor": "white",
             "minorgridcolor": "white",
             "startlinecolor": "#2a3f5f"
            },
            "baxis": {
             "endlinecolor": "#2a3f5f",
             "gridcolor": "white",
             "linecolor": "white",
             "minorgridcolor": "white",
             "startlinecolor": "#2a3f5f"
            },
            "type": "carpet"
           }
          ],
          "choropleth": [
           {
            "colorbar": {
             "outlinewidth": 0,
             "ticks": ""
            },
            "type": "choropleth"
           }
          ],
          "contour": [
           {
            "colorbar": {
             "outlinewidth": 0,
             "ticks": ""
            },
            "colorscale": [
             [
              0,
              "#0d0887"
             ],
             [
              0.1111111111111111,
              "#46039f"
             ],
             [
              0.2222222222222222,
              "#7201a8"
             ],
             [
              0.3333333333333333,
              "#9c179e"
             ],
             [
              0.4444444444444444,
              "#bd3786"
             ],
             [
              0.5555555555555556,
              "#d8576b"
             ],
             [
              0.6666666666666666,
              "#ed7953"
             ],
             [
              0.7777777777777778,
              "#fb9f3a"
             ],
             [
              0.8888888888888888,
              "#fdca26"
             ],
             [
              1,
              "#f0f921"
             ]
            ],
            "type": "contour"
           }
          ],
          "contourcarpet": [
           {
            "colorbar": {
             "outlinewidth": 0,
             "ticks": ""
            },
            "type": "contourcarpet"
           }
          ],
          "heatmap": [
           {
            "colorbar": {
             "outlinewidth": 0,
             "ticks": ""
            },
            "colorscale": [
             [
              0,
              "#0d0887"
             ],
             [
              0.1111111111111111,
              "#46039f"
             ],
             [
              0.2222222222222222,
              "#7201a8"
             ],
             [
              0.3333333333333333,
              "#9c179e"
             ],
             [
              0.4444444444444444,
              "#bd3786"
             ],
             [
              0.5555555555555556,
              "#d8576b"
             ],
             [
              0.6666666666666666,
              "#ed7953"
             ],
             [
              0.7777777777777778,
              "#fb9f3a"
             ],
             [
              0.8888888888888888,
              "#fdca26"
             ],
             [
              1,
              "#f0f921"
             ]
            ],
            "type": "heatmap"
           }
          ],
          "heatmapgl": [
           {
            "colorbar": {
             "outlinewidth": 0,
             "ticks": ""
            },
            "colorscale": [
             [
              0,
              "#0d0887"
             ],
             [
              0.1111111111111111,
              "#46039f"
             ],
             [
              0.2222222222222222,
              "#7201a8"
             ],
             [
              0.3333333333333333,
              "#9c179e"
             ],
             [
              0.4444444444444444,
              "#bd3786"
             ],
             [
              0.5555555555555556,
              "#d8576b"
             ],
             [
              0.6666666666666666,
              "#ed7953"
             ],
             [
              0.7777777777777778,
              "#fb9f3a"
             ],
             [
              0.8888888888888888,
              "#fdca26"
             ],
             [
              1,
              "#f0f921"
             ]
            ],
            "type": "heatmapgl"
           }
          ],
          "histogram": [
           {
            "marker": {
             "pattern": {
              "fillmode": "overlay",
              "size": 10,
              "solidity": 0.2
             }
            },
            "type": "histogram"
           }
          ],
          "histogram2d": [
           {
            "colorbar": {
             "outlinewidth": 0,
             "ticks": ""
            },
            "colorscale": [
             [
              0,
              "#0d0887"
             ],
             [
              0.1111111111111111,
              "#46039f"
             ],
             [
              0.2222222222222222,
              "#7201a8"
             ],
             [
              0.3333333333333333,
              "#9c179e"
             ],
             [
              0.4444444444444444,
              "#bd3786"
             ],
             [
              0.5555555555555556,
              "#d8576b"
             ],
             [
              0.6666666666666666,
              "#ed7953"
             ],
             [
              0.7777777777777778,
              "#fb9f3a"
             ],
             [
              0.8888888888888888,
              "#fdca26"
             ],
             [
              1,
              "#f0f921"
             ]
            ],
            "type": "histogram2d"
           }
          ],
          "histogram2dcontour": [
           {
            "colorbar": {
             "outlinewidth": 0,
             "ticks": ""
            },
            "colorscale": [
             [
              0,
              "#0d0887"
             ],
             [
              0.1111111111111111,
              "#46039f"
             ],
             [
              0.2222222222222222,
              "#7201a8"
             ],
             [
              0.3333333333333333,
              "#9c179e"
             ],
             [
              0.4444444444444444,
              "#bd3786"
             ],
             [
              0.5555555555555556,
              "#d8576b"
             ],
             [
              0.6666666666666666,
              "#ed7953"
             ],
             [
              0.7777777777777778,
              "#fb9f3a"
             ],
             [
              0.8888888888888888,
              "#fdca26"
             ],
             [
              1,
              "#f0f921"
             ]
            ],
            "type": "histogram2dcontour"
           }
          ],
          "mesh3d": [
           {
            "colorbar": {
             "outlinewidth": 0,
             "ticks": ""
            },
            "type": "mesh3d"
           }
          ],
          "parcoords": [
           {
            "line": {
             "colorbar": {
              "outlinewidth": 0,
              "ticks": ""
             }
            },
            "type": "parcoords"
           }
          ],
          "pie": [
           {
            "automargin": true,
            "type": "pie"
           }
          ],
          "scatter": [
           {
            "fillpattern": {
             "fillmode": "overlay",
             "size": 10,
             "solidity": 0.2
            },
            "type": "scatter"
           }
          ],
          "scatter3d": [
           {
            "line": {
             "colorbar": {
              "outlinewidth": 0,
              "ticks": ""
             }
            },
            "marker": {
             "colorbar": {
              "outlinewidth": 0,
              "ticks": ""
             }
            },
            "type": "scatter3d"
           }
          ],
          "scattercarpet": [
           {
            "marker": {
             "colorbar": {
              "outlinewidth": 0,
              "ticks": ""
             }
            },
            "type": "scattercarpet"
           }
          ],
          "scattergeo": [
           {
            "marker": {
             "colorbar": {
              "outlinewidth": 0,
              "ticks": ""
             }
            },
            "type": "scattergeo"
           }
          ],
          "scattergl": [
           {
            "marker": {
             "colorbar": {
              "outlinewidth": 0,
              "ticks": ""
             }
            },
            "type": "scattergl"
           }
          ],
          "scattermapbox": [
           {
            "marker": {
             "colorbar": {
              "outlinewidth": 0,
              "ticks": ""
             }
            },
            "type": "scattermapbox"
           }
          ],
          "scatterpolar": [
           {
            "marker": {
             "colorbar": {
              "outlinewidth": 0,
              "ticks": ""
             }
            },
            "type": "scatterpolar"
           }
          ],
          "scatterpolargl": [
           {
            "marker": {
             "colorbar": {
              "outlinewidth": 0,
              "ticks": ""
             }
            },
            "type": "scatterpolargl"
           }
          ],
          "scatterternary": [
           {
            "marker": {
             "colorbar": {
              "outlinewidth": 0,
              "ticks": ""
             }
            },
            "type": "scatterternary"
           }
          ],
          "surface": [
           {
            "colorbar": {
             "outlinewidth": 0,
             "ticks": ""
            },
            "colorscale": [
             [
              0,
              "#0d0887"
             ],
             [
              0.1111111111111111,
              "#46039f"
             ],
             [
              0.2222222222222222,
              "#7201a8"
             ],
             [
              0.3333333333333333,
              "#9c179e"
             ],
             [
              0.4444444444444444,
              "#bd3786"
             ],
             [
              0.5555555555555556,
              "#d8576b"
             ],
             [
              0.6666666666666666,
              "#ed7953"
             ],
             [
              0.7777777777777778,
              "#fb9f3a"
             ],
             [
              0.8888888888888888,
              "#fdca26"
             ],
             [
              1,
              "#f0f921"
             ]
            ],
            "type": "surface"
           }
          ],
          "table": [
           {
            "cells": {
             "fill": {
              "color": "#EBF0F8"
             },
             "line": {
              "color": "white"
             }
            },
            "header": {
             "fill": {
              "color": "#C8D4E3"
             },
             "line": {
              "color": "white"
             }
            },
            "type": "table"
           }
          ]
         },
         "layout": {
          "annotationdefaults": {
           "arrowcolor": "#2a3f5f",
           "arrowhead": 0,
           "arrowwidth": 1
          },
          "autotypenumbers": "strict",
          "coloraxis": {
           "colorbar": {
            "outlinewidth": 0,
            "ticks": ""
           }
          },
          "colorscale": {
           "diverging": [
            [
             0,
             "#8e0152"
            ],
            [
             0.1,
             "#c51b7d"
            ],
            [
             0.2,
             "#de77ae"
            ],
            [
             0.3,
             "#f1b6da"
            ],
            [
             0.4,
             "#fde0ef"
            ],
            [
             0.5,
             "#f7f7f7"
            ],
            [
             0.6,
             "#e6f5d0"
            ],
            [
             0.7,
             "#b8e186"
            ],
            [
             0.8,
             "#7fbc41"
            ],
            [
             0.9,
             "#4d9221"
            ],
            [
             1,
             "#276419"
            ]
           ],
           "sequential": [
            [
             0,
             "#0d0887"
            ],
            [
             0.1111111111111111,
             "#46039f"
            ],
            [
             0.2222222222222222,
             "#7201a8"
            ],
            [
             0.3333333333333333,
             "#9c179e"
            ],
            [
             0.4444444444444444,
             "#bd3786"
            ],
            [
             0.5555555555555556,
             "#d8576b"
            ],
            [
             0.6666666666666666,
             "#ed7953"
            ],
            [
             0.7777777777777778,
             "#fb9f3a"
            ],
            [
             0.8888888888888888,
             "#fdca26"
            ],
            [
             1,
             "#f0f921"
            ]
           ],
           "sequentialminus": [
            [
             0,
             "#0d0887"
            ],
            [
             0.1111111111111111,
             "#46039f"
            ],
            [
             0.2222222222222222,
             "#7201a8"
            ],
            [
             0.3333333333333333,
             "#9c179e"
            ],
            [
             0.4444444444444444,
             "#bd3786"
            ],
            [
             0.5555555555555556,
             "#d8576b"
            ],
            [
             0.6666666666666666,
             "#ed7953"
            ],
            [
             0.7777777777777778,
             "#fb9f3a"
            ],
            [
             0.8888888888888888,
             "#fdca26"
            ],
            [
             1,
             "#f0f921"
            ]
           ]
          },
          "colorway": [
           "#636efa",
           "#EF553B",
           "#00cc96",
           "#ab63fa",
           "#FFA15A",
           "#19d3f3",
           "#FF6692",
           "#B6E880",
           "#FF97FF",
           "#FECB52"
          ],
          "font": {
           "color": "#2a3f5f"
          },
          "geo": {
           "bgcolor": "white",
           "lakecolor": "white",
           "landcolor": "#E5ECF6",
           "showlakes": true,
           "showland": true,
           "subunitcolor": "white"
          },
          "hoverlabel": {
           "align": "left"
          },
          "hovermode": "closest",
          "mapbox": {
           "style": "light"
          },
          "paper_bgcolor": "white",
          "plot_bgcolor": "#E5ECF6",
          "polar": {
           "angularaxis": {
            "gridcolor": "white",
            "linecolor": "white",
            "ticks": ""
           },
           "bgcolor": "#E5ECF6",
           "radialaxis": {
            "gridcolor": "white",
            "linecolor": "white",
            "ticks": ""
           }
          },
          "scene": {
           "xaxis": {
            "backgroundcolor": "#E5ECF6",
            "gridcolor": "white",
            "gridwidth": 2,
            "linecolor": "white",
            "showbackground": true,
            "ticks": "",
            "zerolinecolor": "white"
           },
           "yaxis": {
            "backgroundcolor": "#E5ECF6",
            "gridcolor": "white",
            "gridwidth": 2,
            "linecolor": "white",
            "showbackground": true,
            "ticks": "",
            "zerolinecolor": "white"
           },
           "zaxis": {
            "backgroundcolor": "#E5ECF6",
            "gridcolor": "white",
            "gridwidth": 2,
            "linecolor": "white",
            "showbackground": true,
            "ticks": "",
            "zerolinecolor": "white"
           }
          },
          "shapedefaults": {
           "line": {
            "color": "#2a3f5f"
           }
          },
          "ternary": {
           "aaxis": {
            "gridcolor": "white",
            "linecolor": "white",
            "ticks": ""
           },
           "baxis": {
            "gridcolor": "white",
            "linecolor": "white",
            "ticks": ""
           },
           "bgcolor": "#E5ECF6",
           "caxis": {
            "gridcolor": "white",
            "linecolor": "white",
            "ticks": ""
           }
          },
          "title": {
           "x": 0.05
          },
          "xaxis": {
           "automargin": true,
           "gridcolor": "white",
           "linecolor": "white",
           "ticks": "",
           "title": {
            "standoff": 15
           },
           "zerolinecolor": "white",
           "zerolinewidth": 2
          },
          "yaxis": {
           "automargin": true,
           "gridcolor": "white",
           "linecolor": "white",
           "ticks": "",
           "title": {
            "standoff": 15
           },
           "zerolinecolor": "white",
           "zerolinewidth": 2
          }
         }
        }
       }
      },
      "image/png": "[encoded data removed]",
      "text/html": [
       "<div>                            <div id=\"82a34b80-d01d-4794-b1d6-f2800242ee03\" class=\"plotly-graph-div\" style=\"height:525px; width:100%;\"></div>            <script type=\"text/javascript\">                require([\"plotly\"], function(Plotly) {                    window.PLOTLYENV=window.PLOTLYENV || {};                                    if (document.getElementById(\"82a34b80-d01d-4794-b1d6-f2800242ee03\")) {                    Plotly.newPlot(                        \"82a34b80-d01d-4794-b1d6-f2800242ee03\",                        [{\"hovertemplate\":\"<b>%{hovertext}</b><br><br>label=our_team<br>dim1=%{x}<br>dim2=%{y}<br>dim3=%{z}<br>word=%{text}<extra></extra>\",\"hovertext\":[\"lead\",\"chick\",\"fighter\",\"buck\",\"stick\",\"pilot\",\"witch\",\"parachute\",\"doctor\"],\"legendgroup\":\"our_team\",\"marker\":{\"color\":\"deeppink\",\"symbol\":\"circle\"},\"mode\":\"markers+text\",\"name\":\"our_team\",\"scene\":\"scene\",\"showlegend\":true,\"text\":[\"lead\",\"chick\",\"fighter\",\"buck\",\"stick\",\"pilot\",\"witch\",\"parachute\",\"doctor\"],\"x\":[-2.0087714195251465,-2.0601494312286377,1.9295787811279297,-1.239565134048462,-2.0971202850341797,1.5022358894348145,-2.214745283126831,1.9556657075881958,-2.0681591033935547],\"y\":[1.5376538038253784,-2.416200637817383,-1.3285655975341797,-0.8994040489196777,-0.9552536010742188,0.677094042301178,-1.5417248010635376,-0.9643025994300842,-0.1988345980644226],\"z\":[1.0040923357009888,-0.7083775997161865,0.6579961180686951,0.341155469417572,-0.4489617347717285,0.9224165678024292,-0.795527458190918,-0.34818553924560547,1.0700726509094238],\"type\":\"scatter3d\"},{\"hovertemplate\":\"<b>%{hovertext}</b><br><br>label=their_team<br>dim1=%{x}<br>dim2=%{y}<br>dim3=%{z}<br>word=%{text}<extra></extra>\",\"hovertext\":[\"degree\",\"boom\",\"shoe\",\"oil\",\"bell\",\"worm\",\"wave\",\"robot\"],\"legendgroup\":\"their_team\",\"marker\":{\"color\":\"cornflowerblue\",\"symbol\":\"circle\"},\"mode\":\"markers+text\",\"name\":\"their_team\",\"scene\":\"scene\",\"showlegend\":true,\"text\":[\"degree\",\"boom\",\"shoe\",\"oil\",\"bell\",\"worm\",\"wave\",\"robot\"],\"x\":[-1.76384699344635,-1.5654826164245605,-1.5198945999145508,-2.278801918029785,-1.6673097610473633,-2.0035057067871094,-1.4368802309036255,-1.0467320680618286],\"y\":[2.4695253372192383,-0.598389208316803,-0.8283476233482361,4.345724105834961,0.16158384084701538,-0.5535047054290771,-0.5314803123474121,-2.0631232261657715],\"z\":[2.169149398803711,-1.5748450756072998,-0.5849605202674866,-1.075309157371521,0.234829381108284,-2.845385789871216,-0.2872258424758911,-0.9615587592124939],\"type\":\"scatter3d\"},{\"hovertemplate\":\"<b>%{hovertext}</b><br><br>label=bomb<br>dim1=%{x}<br>dim2=%{y}<br>dim3=%{z}<br>word=%{text}<extra></extra>\",\"hovertext\":[\"unicorn\"],\"legendgroup\":\"bomb\",\"marker\":{\"color\":\"yellow\",\"symbol\":\"circle\"},\"mode\":\"markers+text\",\"name\":\"bomb\",\"scene\":\"scene\",\"showlegend\":true,\"text\":[\"unicorn\"],\"x\":[-0.8647674918174744],\"y\":[-1.8295329809188843],\"z\":[-1.445326566696167],\"type\":\"scatter3d\"},{\"hovertemplate\":\"<b>%{hovertext}</b><br><br>label=neutral<br>dim1=%{x}<br>dim2=%{y}<br>dim3=%{z}<br>word=%{text}<extra></extra>\",\"hovertext\":[\"phoenix\",\"police\",\"tag\",\"film\",\"buffalo\",\"mercury\",\"beat\"],\"legendgroup\":\"neutral\",\"marker\":{\"color\":\"grey\",\"symbol\":\"circle\"},\"mode\":\"markers+text\",\"name\":\"neutral\",\"scene\":\"scene\",\"showlegend\":true,\"text\":[\"phoenix\",\"police\",\"tag\",\"film\",\"buffalo\",\"mercury\",\"beat\"],\"x\":[-1.1697551012039185,-0.8974171876907349,-1.488884687423706,-2.064765453338623,-1.371558666229248,-1.3361284732818604,-2.3456027507781982],\"y\":[0.4611113667488098,0.24041183292865753,-0.996173083782196,0.537243664264679,0.04337098449468613,5.091099262237549,-1.0703439712524414],\"z\":[0.9589636325836182,4.121079921722412,0.178028866648674,1.6846567392349243,1.024698257446289,-2.26216459274292,0.83522629737854],\"type\":\"scatter3d\"},{\"hovertemplate\":\"<b>%{hovertext}</b><br><br>label=clue<br>dim1=%{x}<br>dim2=%{y}<br>dim3=%{z}<br>word=%{text}<extra></extra>\",\"hovertext\":[\"squadron\",\"747\",\"maneuvers\",\"aircraft\",\"ww2\",\"raf\",\"usaf\",\"cockpit\",\"737\",\"flown\"],\"legendgroup\":\"clue\",\"marker\":{\"color\":\"lightgreen\",\"symbol\":\"circle\"},\"mode\":\"markers+text\",\"name\":\"clue\",\"scene\":\"scene\",\"showlegend\":true,\"text\":[\"squadron\",\"747\",\"maneuvers\",\"aircraft\",\"ww2\",\"raf\",\"usaf\",\"cockpit\",\"737\",\"flown\"],\"x\":[4.052943229675293,3.064049482345581,1.6822541952133179,4.015418529510498,2.4980809688568115,3.8496222496032715,3.4936530590057373,2.3427865505218506,3.248910903930664,2.8746414184570312],\"y\":[0.00906914472579956,0.07247494906187057,-0.5398116707801819,1.7014966011047363,-0.47284576296806335,-0.24499554932117462,0.1685342937707901,0.28997501730918884,0.19350826740264893,0.032959748059511185],\"z\":[1.2007476091384888,-2.752183675765991,-0.004935726057738066,-0.4301905035972595,1.2724473476409912,1.9468940496444702,1.4766021966934204,-1.8815416097640991,-2.453792095184326,-0.2385852038860321],\"type\":\"scatter3d\"}],                        {\"template\":{\"data\":{\"histogram2dcontour\":[{\"type\":\"histogram2dcontour\",\"colorbar\":{\"outlinewidth\":0,\"ticks\":\"\"},\"colorscale\":[[0.0,\"#0d0887\"],[0.1111111111111111,\"#46039f\"],[0.2222222222222222,\"#7201a8\"],[0.3333333333333333,\"#9c179e\"],[0.4444444444444444,\"#bd3786\"],[0.5555555555555556,\"#d8576b\"],[0.6666666666666666,\"#ed7953\"],[0.7777777777777778,\"#fb9f3a\"],[0.8888888888888888,\"#fdca26\"],[1.0,\"#f0f921\"]]}],\"choropleth\":[{\"type\":\"choropleth\",\"colorbar\":{\"outlinewidth\":0,\"ticks\":\"\"}}],\"histogram2d\":[{\"type\":\"histogram2d\",\"colorbar\":{\"outlinewidth\":0,\"ticks\":\"\"},\"colorscale\":[[0.0,\"#0d0887\"],[0.1111111111111111,\"#46039f\"],[0.2222222222222222,\"#7201a8\"],[0.3333333333333333,\"#9c179e\"],[0.4444444444444444,\"#bd3786\"],[0.5555555555555556,\"#d8576b\"],[0.6666666666666666,\"#ed7953\"],[0.7777777777777778,\"#fb9f3a\"],[0.8888888888888888,\"#fdca26\"],[1.0,\"#f0f921\"]]}],\"heatmap\":[{\"type\":\"heatmap\",\"colorbar\":{\"outlinewidth\":0,\"ticks\":\"\"},\"colorscale\":[[0.0,\"#0d0887\"],[0.1111111111111111,\"#46039f\"],[0.2222222222222222,\"#7201a8\"],[0.3333333333333333,\"#9c179e\"],[0.4444444444444444,\"#bd3786\"],[0.5555555555555556,\"#d8576b\"],[0.6666666666666666,\"#ed7953\"],[0.7777777777777778,\"#fb9f3a\"],[0.8888888888888888,\"#fdca26\"],[1.0,\"#f0f921\"]]}],\"heatmapgl\":[{\"type\":\"heatmapgl\",\"colorbar\":{\"outlinewidth\":0,\"ticks\":\"\"},\"colorscale\":[[0.0,\"#0d0887\"],[0.1111111111111111,\"#46039f\"],[0.2222222222222222,\"#7201a8\"],[0.3333333333333333,\"#9c179e\"],[0.4444444444444444,\"#bd3786\"],[0.5555555555555556,\"#d8576b\"],[0.6666666666666666,\"#ed7953\"],[0.7777777777777778,\"#fb9f3a\"],[0.8888888888888888,\"#fdca26\"],[1.0,\"#f0f921\"]]}],\"contourcarpet\":[{\"type\":\"contourcarpet\",\"colorbar\":{\"outlinewidth\":0,\"ticks\":\"\"}}],\"contour\":[{\"type\":\"contour\",\"colorbar\":{\"outlinewidth\":0,\"ticks\":\"\"},\"colorscale\":[[0.0,\"#0d0887\"],[0.1111111111111111,\"#46039f\"],[0.2222222222222222,\"#7201a8\"],[0.3333333333333333,\"#9c179e\"],[0.4444444444444444,\"#bd3786\"],[0.5555555555555556,\"#d8576b\"],[0.6666666666666666,\"#ed7953\"],[0.7777777777777778,\"#fb9f3a\"],[0.8888888888888888,\"#fdca26\"],[1.0,\"#f0f921\"]]}],\"surface\":[{\"type\":\"surface\",\"colorbar\":{\"outlinewidth\":0,\"ticks\":\"\"},\"colorscale\":[[0.0,\"#0d0887\"],[0.1111111111111111,\"#46039f\"],[0.2222222222222222,\"#7201a8\"],[0.3333333333333333,\"#9c179e\"],[0.4444444444444444,\"#bd3786\"],[0.5555555555555556,\"#d8576b\"],[0.6666666666666666,\"#ed7953\"],[0.7777777777777778,\"#fb9f3a\"],[0.8888888888888888,\"#fdca26\"],[1.0,\"#f0f921\"]]}],\"mesh3d\":[{\"type\":\"mesh3d\",\"colorbar\":{\"outlinewidth\":0,\"ticks\":\"\"}}],\"scatter\":[{\"fillpattern\":{\"fillmode\":\"overlay\",\"size\":10,\"solidity\":0.2},\"type\":\"scatter\"}],\"parcoords\":[{\"type\":\"parcoords\",\"line\":{\"colorbar\":{\"outlinewidth\":0,\"ticks\":\"\"}}}],\"scatterpolargl\":[{\"type\":\"scatterpolargl\",\"marker\":{\"colorbar\":{\"outlinewidth\":0,\"ticks\":\"\"}}}],\"bar\":[{\"error_x\":{\"color\":\"#2a3f5f\"},\"error_y\":{\"color\":\"#2a3f5f\"},\"marker\":{\"line\":{\"color\":\"#E5ECF6\",\"width\":0.5},\"pattern\":{\"fillmode\":\"overlay\",\"size\":10,\"solidity\":0.2}},\"type\":\"bar\"}],\"scattergeo\":[{\"type\":\"scattergeo\",\"marker\":{\"colorbar\":{\"outlinewidth\":0,\"ticks\":\"\"}}}],\"scatterpolar\":[{\"type\":\"scatterpolar\",\"marker\":{\"colorbar\":{\"outlinewidth\":0,\"ticks\":\"\"}}}],\"histogram\":[{\"marker\":{\"pattern\":{\"fillmode\":\"overlay\",\"size\":10,\"solidity\":0.2}},\"type\":\"histogram\"}],\"scattergl\":[{\"type\":\"scattergl\",\"marker\":{\"colorbar\":{\"outlinewidth\":0,\"ticks\":\"\"}}}],\"scatter3d\":[{\"type\":\"scatter3d\",\"line\":{\"colorbar\":{\"outlinewidth\":0,\"ticks\":\"\"}},\"marker\":{\"colorbar\":{\"outlinewidth\":0,\"ticks\":\"\"}}}],\"scattermapbox\":[{\"type\":\"scattermapbox\",\"marker\":{\"colorbar\":{\"outlinewidth\":0,\"ticks\":\"\"}}}],\"scatterternary\":[{\"type\":\"scatterternary\",\"marker\":{\"colorbar\":{\"outlinewidth\":0,\"ticks\":\"\"}}}],\"scattercarpet\":[{\"type\":\"scattercarpet\",\"marker\":{\"colorbar\":{\"outlinewidth\":0,\"ticks\":\"\"}}}],\"carpet\":[{\"aaxis\":{\"endlinecolor\":\"#2a3f5f\",\"gridcolor\":\"white\",\"linecolor\":\"white\",\"minorgridcolor\":\"white\",\"startlinecolor\":\"#2a3f5f\"},\"baxis\":{\"endlinecolor\":\"#2a3f5f\",\"gridcolor\":\"white\",\"linecolor\":\"white\",\"minorgridcolor\":\"white\",\"startlinecolor\":\"#2a3f5f\"},\"type\":\"carpet\"}],\"table\":[{\"cells\":{\"fill\":{\"color\":\"#EBF0F8\"},\"line\":{\"color\":\"white\"}},\"header\":{\"fill\":{\"color\":\"#C8D4E3\"},\"line\":{\"color\":\"white\"}},\"type\":\"table\"}],\"barpolar\":[{\"marker\":{\"line\":{\"color\":\"#E5ECF6\",\"width\":0.5},\"pattern\":{\"fillmode\":\"overlay\",\"size\":10,\"solidity\":0.2}},\"type\":\"barpolar\"}],\"pie\":[{\"automargin\":true,\"type\":\"pie\"}]},\"layout\":{\"autotypenumbers\":\"strict\",\"colorway\":[\"#636efa\",\"#EF553B\",\"#00cc96\",\"#ab63fa\",\"#FFA15A\",\"#19d3f3\",\"#FF6692\",\"#B6E880\",\"#FF97FF\",\"#FECB52\"],\"font\":{\"color\":\"#2a3f5f\"},\"hovermode\":\"closest\",\"hoverlabel\":{\"align\":\"left\"},\"paper_bgcolor\":\"white\",\"plot_bgcolor\":\"#E5ECF6\",\"polar\":{\"bgcolor\":\"#E5ECF6\",\"angularaxis\":{\"gridcolor\":\"white\",\"linecolor\":\"white\",\"ticks\":\"\"},\"radialaxis\":{\"gridcolor\":\"white\",\"linecolor\":\"white\",\"ticks\":\"\"}},\"ternary\":{\"bgcolor\":\"#E5ECF6\",\"aaxis\":{\"gridcolor\":\"white\",\"linecolor\":\"white\",\"ticks\":\"\"},\"baxis\":{\"gridcolor\":\"white\",\"linecolor\":\"white\",\"ticks\":\"\"},\"caxis\":{\"gridcolor\":\"white\",\"linecolor\":\"white\",\"ticks\":\"\"}},\"coloraxis\":{\"colorbar\":{\"outlinewidth\":0,\"ticks\":\"\"}},\"colorscale\":{\"sequential\":[[0.0,\"#0d0887\"],[0.1111111111111111,\"#46039f\"],[0.2222222222222222,\"#7201a8\"],[0.3333333333333333,\"#9c179e\"],[0.4444444444444444,\"#bd3786\"],[0.5555555555555556,\"#d8576b\"],[0.6666666666666666,\"#ed7953\"],[0.7777777777777778,\"#fb9f3a\"],[0.8888888888888888,\"#fdca26\"],[1.0,\"#f0f921\"]],\"sequentialminus\":[[0.0,\"#0d0887\"],[0.1111111111111111,\"#46039f\"],[0.2222222222222222,\"#7201a8\"],[0.3333333333333333,\"#9c179e\"],[0.4444444444444444,\"#bd3786\"],[0.5555555555555556,\"#d8576b\"],[0.6666666666666666,\"#ed7953\"],[0.7777777777777778,\"#fb9f3a\"],[0.8888888888888888,\"#fdca26\"],[1.0,\"#f0f921\"]],\"diverging\":[[0,\"#8e0152\"],[0.1,\"#c51b7d\"],[0.2,\"#de77ae\"],[0.3,\"#f1b6da\"],[0.4,\"#fde0ef\"],[0.5,\"#f7f7f7\"],[0.6,\"#e6f5d0\"],[0.7,\"#b8e186\"],[0.8,\"#7fbc41\"],[0.9,\"#4d9221\"],[1,\"#276419\"]]},\"xaxis\":{\"gridcolor\":\"white\",\"linecolor\":\"white\",\"ticks\":\"\",\"title\":{\"standoff\":15},\"zerolinecolor\":\"white\",\"automargin\":true,\"zerolinewidth\":2},\"yaxis\":{\"gridcolor\":\"white\",\"linecolor\":\"white\",\"ticks\":\"\",\"title\":{\"standoff\":15},\"zerolinecolor\":\"white\",\"automargin\":true,\"zerolinewidth\":2},\"scene\":{\"xaxis\":{\"backgroundcolor\":\"#E5ECF6\",\"gridcolor\":\"white\",\"linecolor\":\"white\",\"showbackground\":true,\"ticks\":\"\",\"zerolinecolor\":\"white\",\"gridwidth\":2},\"yaxis\":{\"backgroundcolor\":\"#E5ECF6\",\"gridcolor\":\"white\",\"linecolor\":\"white\",\"showbackground\":true,\"ticks\":\"\",\"zerolinecolor\":\"white\",\"gridwidth\":2},\"zaxis\":{\"backgroundcolor\":\"#E5ECF6\",\"gridcolor\":\"white\",\"linecolor\":\"white\",\"showbackground\":true,\"ticks\":\"\",\"zerolinecolor\":\"white\",\"gridwidth\":2}},\"shapedefaults\":{\"line\":{\"color\":\"#2a3f5f\"}},\"annotationdefaults\":{\"arrowcolor\":\"#2a3f5f\",\"arrowhead\":0,\"arrowwidth\":1},\"geo\":{\"bgcolor\":\"white\",\"landcolor\":\"#E5ECF6\",\"subunitcolor\":\"white\",\"showland\":true,\"showlakes\":true,\"lakecolor\":\"white\"},\"title\":{\"x\":0.05},\"mapbox\":{\"style\":\"light\"}}},\"scene\":{\"domain\":{\"x\":[0.0,1.0],\"y\":[0.0,1.0]},\"xaxis\":{\"title\":{\"text\":\"dim1\"}},\"yaxis\":{\"title\":{\"text\":\"dim2\"}},\"zaxis\":{\"title\":{\"text\":\"dim3\"}}},\"legend\":{\"title\":{\"text\":\"label\"},\"tracegroupgap\":0},\"margin\":{\"t\":60}},                        {\"responsive\": true}                    ).then(function(){\n",
       "                            \n",
       "var gd = document.getElementById('82a34b80-d01d-4794-b1d6-f2800242ee03');\n",
       "var x = new MutationObserver(function (mutations, observer) {{\n",
       "        var display = window.getComputedStyle(gd).display;\n",
       "        if (!display || display === 'none') {{\n",
       "            console.log([gd, 'removed!']);\n",
       "            Plotly.purge(gd);\n",
       "            observer.disconnect();\n",
       "        }}\n",
       "}});\n",
       "\n",
       "// Listen for the removal of the full notebook cells\n",
       "var notebookContainer = gd.closest('#notebook-container');\n",
       "if (notebookContainer) {{\n",
       "    x.observe(notebookContainer, {childList: true});\n",
       "}}\n",
       "\n",
       "// Listen for the clearing of the current output cell\n",
       "var outputEl = gd.closest('.output');\n",
       "if (outputEl) {{\n",
       "    x.observe(outputEl, {childList: true});\n",
       "}}\n",
       "\n",
       "                        })                };                });            </script>        </div>"
      ]
     },
     "metadata": {},
     "output_type": "display_data"
    }
   ],
   "source": [
    "X_embedded = PCA_fit(embedding_matrix_with_clue, n_comp = 3)\n",
    "df_reduced = matrix_to_df(X_embedded, words_b, labels_b)\n",
    "plot_3d(df_reduced, color_map)"
   ]
  },
  {
   "cell_type": "code",
   "execution_count": 179,
   "id": "282fa151-4d19-4dc9-ae40-cceca40138b0",
   "metadata": {},
   "outputs": [
    {
     "data": {
      "text/plain": [
       "<matplotlib.collections.PathCollection at 0x1356316a0>"
      ]
     },
     "execution_count": 179,
     "metadata": {},
     "output_type": "execute_result"
    },
    {
     "data": {
      "image/png": "[encoded data removed]",
      "text/plain": [
       "<Figure size 640x480 with 1 Axes>"
      ]
     },
     "metadata": {},
     "output_type": "display_data"
    }
   ],
   "source": [
    "plt.scatter(x = [1,1,0], y = [0,0,1])\n"
   ]
  },
  {
   "cell_type": "code",
   "execution_count": null,
   "id": "964caa86-37cd-43cf-8dc5-27509570daaa",
   "metadata": {},
   "outputs": [],
   "source": []
  },
  {
   "cell_type": "code",
   "execution_count": null,
   "id": "9e82e9e0-ee78-412d-82bd-5d6df3353432",
   "metadata": {},
   "outputs": [],
   "source": []
  }
 ],
 "metadata": {
  "kernelspec": {
   "display_name": "Python 3 (ipykernel)",
   "language": "python",
   "name": "python3"
  },
  "language_info": {
   "codemirror_mode": {
    "name": "ipython",
    "version": 3
   },
   "file_extension": ".py",
   "mimetype": "text/x-python",
   "name": "python",
   "nbconvert_exporter": "python",
   "pygments_lexer": "ipython3",
   "version": "3.8.10"
  }
 },
 "nbformat": 4,
 "nbformat_minor": 5
}

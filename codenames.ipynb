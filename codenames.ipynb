{
 "cells": [
  {
   "cell_type": "code",
   "execution_count": 19,
   "id": "21648384-ce7d-4d0f-addd-717193f87cf8",
   "metadata": {},
   "outputs": [],
   "source": [
    "import numpy as np\n",
    "import pandas as pd\n",
    "import pandas as pd\n",
    "import matplotlib.pyplot as plt\n",
    "import plotly.express as px\n",
    "from itertools import zip_longest\n",
    "from itertools import combinations\n",
    "from IPython.display import HTML\n",
    "from sklearn.decomposition import PCA\n",
    "from sklearn.manifold import TSNE\n",
    "from termcolor import colored\n",
    "from scipy import spatial\n"
   ]
  },
  {
   "cell_type": "markdown",
   "id": "6f4d6c1a-392f-4528-905c-18a336ff502d",
   "metadata": {},
   "source": [
    "# Set up the board:"
   ]
  },
  {
   "cell_type": "code",
   "execution_count": 2,
   "id": "4ae6afc2-dc83-458e-9ce1-9e75adb255ed",
   "metadata": {},
   "outputs": [],
   "source": [
    "our_team = [\"moon\", \"card\", \"eye\", \"berry\", \"battery\", \"embassy\", \"bridge\", \"cycle\", \"water\"]\n",
    "their_team = ['dice', 'change', 'spell', 'moscow', 'rose', 'penguin', 'microscope', 'bell']\n",
    "bomb = ['giant']\n",
    "neutral = ['phoenix', 'police', 'tag', 'film', 'doctor', 'mercury', 'beat']"
   ]
  },
  {
   "cell_type": "code",
   "execution_count": 3,
   "id": "2a98815b-f350-49fa-8aea-a3299aea0034",
   "metadata": {},
   "outputs": [],
   "source": [
    "labels = ['our_team']*len(our_team) + ['their_team']*len(their_team) + ['bomb'] + ['neutral']*len(neutral)\n",
    "words = our_team + their_team + bomb + neutral\n"
   ]
  },
  {
   "cell_type": "code",
   "execution_count": 4,
   "id": "d9cf1ba1-f6ca-477b-9640-c9090511ba9e",
   "metadata": {},
   "outputs": [],
   "source": [
    "color_map = {'our_team': 'deeppink', 'their_team':'cornflowerblue', 'bomb':'yellow', 'neutral':'grey'}"
   ]
  },
  {
   "cell_type": "markdown",
   "id": "cb77f0d9-6174-4c2e-adcf-2874cd26133a",
   "metadata": {},
   "source": [
    "# Load the pretrained word embeddings"
   ]
  },
  {
   "cell_type": "code",
   "execution_count": 38,
   "id": "3b214729-2c92-40ed-9baa-59e7a8b5c527",
   "metadata": {},
   "outputs": [],
   "source": [
    "embeddings = {}\n",
    "with open(\"./top_50000.txt\", 'r') as f:\n",
    "    for line in f:\n",
    "        word_info = line.split()\n",
    "        word = word_info[0]\n",
    "        embeddings[word] = np.asarray(word_info[1:], \"float32\")\n",
    "        \n",
    "        "
   ]
  },
  {
   "cell_type": "code",
   "execution_count": 32,
   "id": "c0a8ab6e-e4d1-417b-ba26-affaa4d22888",
   "metadata": {},
   "outputs": [],
   "source": [
    "def distance(word, reference):\n",
    "    return spatial.distance.cosine(embeddings[word], embeddings[reference])\n",
    "\n",
    "def find_closest_embeddings(embed):\n",
    "    return sorted(embeddings.keys(), key=lambda word: spatial.distance.cosine(embeddings[word], embed))\n"
   ]
  },
  {
   "cell_type": "code",
   "execution_count": 33,
   "id": "8e40513a-0328-478a-8629-06034eb9545f",
   "metadata": {},
   "outputs": [
    {
     "data": {
      "text/plain": [
       "'king: king, queen, prince, kings, henry, kingdom, reign, throne, george, lord, emperor, charles, son, john, duke, david, solomon, father, ii, edward'"
      ]
     },
     "execution_count": 33,
     "metadata": {},
     "output_type": "execute_result"
    }
   ],
   "source": [
    "'king: ' + ', '.join(w for w in find_closest_embeddings(embeddings['king'])[:20])\n"
   ]
  },
  {
   "cell_type": "code",
   "execution_count": null,
   "id": "e63afe09-82bf-4489-8223-81dfb3ade778",
   "metadata": {},
   "outputs": [],
   "source": [
    "# Just with these embeddings, you can do math. For instance, \n",
    "\n",
    "# find_closest_embeddings(embeddings['king'] - embeddings['man'] + embeddings['woman'])\n",
    "\n"
   ]
  },
  {
   "cell_type": "markdown",
   "id": "f8820fb9-aec9-4b44-a03d-2b6709d176c8",
   "metadata": {},
   "source": [
    "\n",
    "## Reduce dimensions to visualize codenames board\n"
   ]
  },
  {
   "cell_type": "code",
   "execution_count": 10,
   "id": "4f901a2a-07ba-4a03-a96b-74eb713dedfe",
   "metadata": {},
   "outputs": [],
   "source": [
    "def TSNE_fit(embedding_matrix, n_comp = 2):\n",
    "    return TSNE(n_components=n_comp, init='random', perplexity=5).fit_transform(embedding_matrix)\n",
    "    "
   ]
  },
  {
   "cell_type": "code",
   "execution_count": 11,
   "id": "8691419b-c379-4cb0-9c4d-6c3ea8f843ff",
   "metadata": {},
   "outputs": [],
   "source": [
    "def PCA_fit(embedding_matrix, n_comp=2):\n",
    "    return PCA(n_components = n_comp).fit_transform(embedding_matrix)\n",
    "    "
   ]
  },
  {
   "cell_type": "code",
   "execution_count": 12,
   "id": "50c00036-c312-4906-9c1a-d990f8f2e0b6",
   "metadata": {},
   "outputs": [],
   "source": [
    "def matrix_to_df(X_embedded, words, labels):\n",
    "    temp_dict = {}\n",
    "    temp_list = []\n",
    "    \n",
    "    \n",
    "    for i, row in enumerate(X_embedded):\n",
    "        temp_dict = {}\n",
    "        temp_dict['word'] = words[i]\n",
    "        temp_dict['label'] = labels[i]\n",
    "        temp_dict['dim1'] = row[0]\n",
    "        temp_dict['dim2'] = row[1]\n",
    "        if len(row) == 3:\n",
    "            temp_dict['dim3'] = row[2]\n",
    "        temp_list.append(temp_dict)\n",
    "        \n",
    "    return pd.DataFrame(temp_list)\n",
    "\n"
   ]
  },
  {
   "cell_type": "code",
   "execution_count": 50,
   "id": "4b844d76-59db-42bb-bc59-f3bd953872b3",
   "metadata": {},
   "outputs": [],
   "source": [
    "def plot_3d(df_reduced, color_map):\n",
    "    fig = px.scatter_3d(df_reduced, x = 'dim1', y = 'dim2', z = 'dim3', color = 'label', text = 'word', hover_name = 'word', \n",
    "    color_discrete_map= color_map)\n",
    "    fig.show()"
   ]
  },
  {
   "cell_type": "code",
   "execution_count": 43,
   "id": "a13aa491-91af-40c5-a2f3-977acdd446f8",
   "metadata": {},
   "outputs": [],
   "source": [
    "def plot_2d(df_reduced, color_map):\n",
    "    fig = px.scatter(df_reduced, x = 'dim1', y = 'dim2', color = 'label', text = 'word', hover_name = 'word', \n",
    "           color_discrete_map= color_map)\n",
    "    fig.show()"
   ]
  },
  {
   "cell_type": "code",
   "execution_count": null,
   "id": "00d4444e-1d10-40ce-bb79-b06d9419a5bc",
   "metadata": {},
   "outputs": [],
   "source": [
    "embedding_matrix = [embeddings[key] for key in words]\n",
    "embedding_matrix = np.array(embedding_matrix)"
   ]
  },
  {
   "cell_type": "code",
   "execution_count": 85,
   "id": "74d79901-763f-48dd-a363-bb2bdc3db747",
   "metadata": {},
   "outputs": [
    {
     "data": {
      "application/vnd.plotly.v1+json": {
       "config": {
        "plotlyServerURL": "https://plot.ly"
       },
       "data": [
        {
         "hovertemplate": "<b>%{hovertext}</b><br><br>label=our_team<br>dim1=%{x}<br>dim2=%{y}<br>word=%{text}<extra></extra>",
         "hovertext": [
          "moon",
          "card",
          "eye",
          "berry",
          "battery",
          "embassy",
          "bridge",
          "cycle",
          "water"
         ],
         "legendgroup": "our_team",
         "marker": {
          "color": "deeppink",
          "symbol": "circle"
         },
         "mode": "markers+text",
         "name": "our_team",
         "orientation": "v",
         "showlegend": true,
         "text": [
          "moon",
          "card",
          "eye",
          "berry",
          "battery",
          "embassy",
          "bridge",
          "cycle",
          "water"
         ],
         "type": "scatter",
         "x": [
          0.14060963690280914,
          0.4228644073009491,
          -0.2682180106639862,
          -0.7902837991714478,
          4.891322612762451,
          -3.779362201690674,
          -0.45429542660713196,
          2.311519145965576,
          1.529792070388794
         ],
         "xaxis": "x",
         "y": [
          -1.3572412729263306,
          -1.2518525123596191,
          -1.7208400964736938,
          -2.33309268951416,
          3.532590389251709,
          3.2938613891601562,
          0.7567024230957031,
          1.0995527505874634,
          0.9314762353897095
         ],
         "yaxis": "y"
        },
        {
         "hovertemplate": "<b>%{hovertext}</b><br><br>label=their_team<br>dim1=%{x}<br>dim2=%{y}<br>word=%{text}<extra></extra>",
         "hovertext": [
          "dice",
          "change",
          "spell",
          "moscow",
          "rose",
          "penguin",
          "microscope",
          "bell"
         ],
         "legendgroup": "their_team",
         "marker": {
          "color": "cornflowerblue",
          "symbol": "circle"
         },
         "mode": "markers+text",
         "name": "their_team",
         "orientation": "v",
         "showlegend": true,
         "text": [
          "dice",
          "change",
          "spell",
          "moscow",
          "rose",
          "penguin",
          "microscope",
          "bell"
         ],
         "type": "scatter",
         "x": [
          0.5749372839927673,
          0.8818444013595581,
          0.25588884949684143,
          -3.2319328784942627,
          -1.3148092031478882,
          -0.1098276823759079,
          2.3197083473205566,
          0.22075597941875458
         ],
         "xaxis": "x",
         "y": [
          -2.0551371574401855,
          0.013963490724563599,
          -1.5181224346160889,
          2.47310471534729,
          -1.6911571025848389,
          -1.465073585510254,
          -0.024721333757042885,
          -0.48264870047569275
         ],
         "yaxis": "y"
        },
        {
         "hovertemplate": "<b>%{hovertext}</b><br><br>label=bomb<br>dim1=%{x}<br>dim2=%{y}<br>word=%{text}<extra></extra>",
         "hovertext": [
          "giant"
         ],
         "legendgroup": "bomb",
         "marker": {
          "color": "yellow",
          "symbol": "circle"
         },
         "mode": "markers+text",
         "name": "bomb",
         "orientation": "v",
         "showlegend": true,
         "text": [
          "giant"
         ],
         "type": "scatter",
         "x": [
          0.10574929416179657
         ],
         "xaxis": "x",
         "y": [
          -0.9848818778991699
         ],
         "yaxis": "y"
        },
        {
         "hovertemplate": "<b>%{hovertext}</b><br><br>label=neutral<br>dim1=%{x}<br>dim2=%{y}<br>word=%{text}<extra></extra>",
         "hovertext": [
          "phoenix",
          "police",
          "tag",
          "film",
          "doctor",
          "mercury",
          "beat"
         ],
         "legendgroup": "neutral",
         "marker": {
          "color": "grey",
          "symbol": "circle"
         },
         "mode": "markers+text",
         "name": "neutral",
         "orientation": "v",
         "showlegend": true,
         "text": [
          "phoenix",
          "police",
          "tag",
          "film",
          "doctor",
          "mercury",
          "beat"
         ],
         "type": "scatter",
         "x": [
          -1.2139180898666382,
          -2.86649751663208,
          0.12234032154083252,
          -0.6806631684303284,
          -0.6034946441650391,
          2.4328975677490234,
          -0.8969272971153259
         ],
         "xaxis": "x",
         "y": [
          0.3116232752799988,
          2.7581965923309326,
          -0.9957336187362671,
          0.15305501222610474,
          -0.6182696223258972,
          1.9781737327575684,
          -0.8035272359848022
         ],
         "yaxis": "y"
        }
       ],
       "layout": {
        "autosize": true,
        "legend": {
         "title": {
          "text": "label"
         },
         "tracegroupgap": 0
        },
        "margin": {
         "t": 60
        },
        "template": {
         "data": {
          "bar": [
           {
            "error_x": {
             "color": "#2a3f5f"
            },
            "error_y": {
             "color": "#2a3f5f"
            },
            "marker": {
             "line": {
              "color": "#E5ECF6",
              "width": 0.5
             },
             "pattern": {
              "fillmode": "overlay",
              "size": 10,
              "solidity": 0.2
             }
            },
            "type": "bar"
           }
          ],
          "barpolar": [
           {
            "marker": {
             "line": {
              "color": "#E5ECF6",
              "width": 0.5
             },
             "pattern": {
              "fillmode": "overlay",
              "size": 10,
              "solidity": 0.2
             }
            },
            "type": "barpolar"
           }
          ],
          "carpet": [
           {
            "aaxis": {
             "endlinecolor": "#2a3f5f",
             "gridcolor": "white",
             "linecolor": "white",
             "minorgridcolor": "white",
             "startlinecolor": "#2a3f5f"
            },
            "baxis": {
             "endlinecolor": "#2a3f5f",
             "gridcolor": "white",
             "linecolor": "white",
             "minorgridcolor": "white",
             "startlinecolor": "#2a3f5f"
            },
            "type": "carpet"
           }
          ],
          "choropleth": [
           {
            "colorbar": {
             "outlinewidth": 0,
             "ticks": ""
            },
            "type": "choropleth"
           }
          ],
          "contour": [
           {
            "colorbar": {
             "outlinewidth": 0,
             "ticks": ""
            },
            "colorscale": [
             [
              0,
              "#0d0887"
             ],
             [
              0.1111111111111111,
              "#46039f"
             ],
             [
              0.2222222222222222,
              "#7201a8"
             ],
             [
              0.3333333333333333,
              "#9c179e"
             ],
             [
              0.4444444444444444,
              "#bd3786"
             ],
             [
              0.5555555555555556,
              "#d8576b"
             ],
             [
              0.6666666666666666,
              "#ed7953"
             ],
             [
              0.7777777777777778,
              "#fb9f3a"
             ],
             [
              0.8888888888888888,
              "#fdca26"
             ],
             [
              1,
              "#f0f921"
             ]
            ],
            "type": "contour"
           }
          ],
          "contourcarpet": [
           {
            "colorbar": {
             "outlinewidth": 0,
             "ticks": ""
            },
            "type": "contourcarpet"
           }
          ],
          "heatmap": [
           {
            "colorbar": {
             "outlinewidth": 0,
             "ticks": ""
            },
            "colorscale": [
             [
              0,
              "#0d0887"
             ],
             [
              0.1111111111111111,
              "#46039f"
             ],
             [
              0.2222222222222222,
              "#7201a8"
             ],
             [
              0.3333333333333333,
              "#9c179e"
             ],
             [
              0.4444444444444444,
              "#bd3786"
             ],
             [
              0.5555555555555556,
              "#d8576b"
             ],
             [
              0.6666666666666666,
              "#ed7953"
             ],
             [
              0.7777777777777778,
              "#fb9f3a"
             ],
             [
              0.8888888888888888,
              "#fdca26"
             ],
             [
              1,
              "#f0f921"
             ]
            ],
            "type": "heatmap"
           }
          ],
          "heatmapgl": [
           {
            "colorbar": {
             "outlinewidth": 0,
             "ticks": ""
            },
            "colorscale": [
             [
              0,
              "#0d0887"
             ],
             [
              0.1111111111111111,
              "#46039f"
             ],
             [
              0.2222222222222222,
              "#7201a8"
             ],
             [
              0.3333333333333333,
              "#9c179e"
             ],
             [
              0.4444444444444444,
              "#bd3786"
             ],
             [
              0.5555555555555556,
              "#d8576b"
             ],
             [
              0.6666666666666666,
              "#ed7953"
             ],
             [
              0.7777777777777778,
              "#fb9f3a"
             ],
             [
              0.8888888888888888,
              "#fdca26"
             ],
             [
              1,
              "#f0f921"
             ]
            ],
            "type": "heatmapgl"
           }
          ],
          "histogram": [
           {
            "marker": {
             "pattern": {
              "fillmode": "overlay",
              "size": 10,
              "solidity": 0.2
             }
            },
            "type": "histogram"
           }
          ],
          "histogram2d": [
           {
            "colorbar": {
             "outlinewidth": 0,
             "ticks": ""
            },
            "colorscale": [
             [
              0,
              "#0d0887"
             ],
             [
              0.1111111111111111,
              "#46039f"
             ],
             [
              0.2222222222222222,
              "#7201a8"
             ],
             [
              0.3333333333333333,
              "#9c179e"
             ],
             [
              0.4444444444444444,
              "#bd3786"
             ],
             [
              0.5555555555555556,
              "#d8576b"
             ],
             [
              0.6666666666666666,
              "#ed7953"
             ],
             [
              0.7777777777777778,
              "#fb9f3a"
             ],
             [
              0.8888888888888888,
              "#fdca26"
             ],
             [
              1,
              "#f0f921"
             ]
            ],
            "type": "histogram2d"
           }
          ],
          "histogram2dcontour": [
           {
            "colorbar": {
             "outlinewidth": 0,
             "ticks": ""
            },
            "colorscale": [
             [
              0,
              "#0d0887"
             ],
             [
              0.1111111111111111,
              "#46039f"
             ],
             [
              0.2222222222222222,
              "#7201a8"
             ],
             [
              0.3333333333333333,
              "#9c179e"
             ],
             [
              0.4444444444444444,
              "#bd3786"
             ],
             [
              0.5555555555555556,
              "#d8576b"
             ],
             [
              0.6666666666666666,
              "#ed7953"
             ],
             [
              0.7777777777777778,
              "#fb9f3a"
             ],
             [
              0.8888888888888888,
              "#fdca26"
             ],
             [
              1,
              "#f0f921"
             ]
            ],
            "type": "histogram2dcontour"
           }
          ],
          "mesh3d": [
           {
            "colorbar": {
             "outlinewidth": 0,
             "ticks": ""
            },
            "type": "mesh3d"
           }
          ],
          "parcoords": [
           {
            "line": {
             "colorbar": {
              "outlinewidth": 0,
              "ticks": ""
             }
            },
            "type": "parcoords"
           }
          ],
          "pie": [
           {
            "automargin": true,
            "type": "pie"
           }
          ],
          "scatter": [
           {
            "fillpattern": {
             "fillmode": "overlay",
             "size": 10,
             "solidity": 0.2
            },
            "type": "scatter"
           }
          ],
          "scatter3d": [
           {
            "line": {
             "colorbar": {
              "outlinewidth": 0,
              "ticks": ""
             }
            },
            "marker": {
             "colorbar": {
              "outlinewidth": 0,
              "ticks": ""
             }
            },
            "type": "scatter3d"
           }
          ],
          "scattercarpet": [
           {
            "marker": {
             "colorbar": {
              "outlinewidth": 0,
              "ticks": ""
             }
            },
            "type": "scattercarpet"
           }
          ],
          "scattergeo": [
           {
            "marker": {
             "colorbar": {
              "outlinewidth": 0,
              "ticks": ""
             }
            },
            "type": "scattergeo"
           }
          ],
          "scattergl": [
           {
            "marker": {
             "colorbar": {
              "outlinewidth": 0,
              "ticks": ""
             }
            },
            "type": "scattergl"
           }
          ],
          "scattermapbox": [
           {
            "marker": {
             "colorbar": {
              "outlinewidth": 0,
              "ticks": ""
             }
            },
            "type": "scattermapbox"
           }
          ],
          "scatterpolar": [
           {
            "marker": {
             "colorbar": {
              "outlinewidth": 0,
              "ticks": ""
             }
            },
            "type": "scatterpolar"
           }
          ],
          "scatterpolargl": [
           {
            "marker": {
             "colorbar": {
              "outlinewidth": 0,
              "ticks": ""
             }
            },
            "type": "scatterpolargl"
           }
          ],
          "scatterternary": [
           {
            "marker": {
             "colorbar": {
              "outlinewidth": 0,
              "ticks": ""
             }
            },
            "type": "scatterternary"
           }
          ],
          "surface": [
           {
            "colorbar": {
             "outlinewidth": 0,
             "ticks": ""
            },
            "colorscale": [
             [
              0,
              "#0d0887"
             ],
             [
              0.1111111111111111,
              "#46039f"
             ],
             [
              0.2222222222222222,
              "#7201a8"
             ],
             [
              0.3333333333333333,
              "#9c179e"
             ],
             [
              0.4444444444444444,
              "#bd3786"
             ],
             [
              0.5555555555555556,
              "#d8576b"
             ],
             [
              0.6666666666666666,
              "#ed7953"
             ],
             [
              0.7777777777777778,
              "#fb9f3a"
             ],
             [
              0.8888888888888888,
              "#fdca26"
             ],
             [
              1,
              "#f0f921"
             ]
            ],
            "type": "surface"
           }
          ],
          "table": [
           {
            "cells": {
             "fill": {
              "color": "#EBF0F8"
             },
             "line": {
              "color": "white"
             }
            },
            "header": {
             "fill": {
              "color": "#C8D4E3"
             },
             "line": {
              "color": "white"
             }
            },
            "type": "table"
           }
          ]
         },
         "layout": {
          "annotationdefaults": {
           "arrowcolor": "#2a3f5f",
           "arrowhead": 0,
           "arrowwidth": 1
          },
          "autotypenumbers": "strict",
          "coloraxis": {
           "colorbar": {
            "outlinewidth": 0,
            "ticks": ""
           }
          },
          "colorscale": {
           "diverging": [
            [
             0,
             "#8e0152"
            ],
            [
             0.1,
             "#c51b7d"
            ],
            [
             0.2,
             "#de77ae"
            ],
            [
             0.3,
             "#f1b6da"
            ],
            [
             0.4,
             "#fde0ef"
            ],
            [
             0.5,
             "#f7f7f7"
            ],
            [
             0.6,
             "#e6f5d0"
            ],
            [
             0.7,
             "#b8e186"
            ],
            [
             0.8,
             "#7fbc41"
            ],
            [
             0.9,
             "#4d9221"
            ],
            [
             1,
             "#276419"
            ]
           ],
           "sequential": [
            [
             0,
             "#0d0887"
            ],
            [
             0.1111111111111111,
             "#46039f"
            ],
            [
             0.2222222222222222,
             "#7201a8"
            ],
            [
             0.3333333333333333,
             "#9c179e"
            ],
            [
             0.4444444444444444,
             "#bd3786"
            ],
            [
             0.5555555555555556,
             "#d8576b"
            ],
            [
             0.6666666666666666,
             "#ed7953"
            ],
            [
             0.7777777777777778,
             "#fb9f3a"
            ],
            [
             0.8888888888888888,
             "#fdca26"
            ],
            [
             1,
             "#f0f921"
            ]
           ],
           "sequentialminus": [
            [
             0,
             "#0d0887"
            ],
            [
             0.1111111111111111,
             "#46039f"
            ],
            [
             0.2222222222222222,
             "#7201a8"
            ],
            [
             0.3333333333333333,
             "#9c179e"
            ],
            [
             0.4444444444444444,
             "#bd3786"
            ],
            [
             0.5555555555555556,
             "#d8576b"
            ],
            [
             0.6666666666666666,
             "#ed7953"
            ],
            [
             0.7777777777777778,
             "#fb9f3a"
            ],
            [
             0.8888888888888888,
             "#fdca26"
            ],
            [
             1,
             "#f0f921"
            ]
           ]
          },
          "colorway": [
           "#636efa",
           "#EF553B",
           "#00cc96",
           "#ab63fa",
           "#FFA15A",
           "#19d3f3",
           "#FF6692",
           "#B6E880",
           "#FF97FF",
           "#FECB52"
          ],
          "font": {
           "color": "#2a3f5f"
          },
          "geo": {
           "bgcolor": "white",
           "lakecolor": "white",
           "landcolor": "#E5ECF6",
           "showlakes": true,
           "showland": true,
           "subunitcolor": "white"
          },
          "hoverlabel": {
           "align": "left"
          },
          "hovermode": "closest",
          "mapbox": {
           "style": "light"
          },
          "paper_bgcolor": "white",
          "plot_bgcolor": "#E5ECF6",
          "polar": {
           "angularaxis": {
            "gridcolor": "white",
            "linecolor": "white",
            "ticks": ""
           },
           "bgcolor": "#E5ECF6",
           "radialaxis": {
            "gridcolor": "white",
            "linecolor": "white",
            "ticks": ""
           }
          },
          "scene": {
           "xaxis": {
            "backgroundcolor": "#E5ECF6",
            "gridcolor": "white",
            "gridwidth": 2,
            "linecolor": "white",
            "showbackground": true,
            "ticks": "",
            "zerolinecolor": "white"
           },
           "yaxis": {
            "backgroundcolor": "#E5ECF6",
            "gridcolor": "white",
            "gridwidth": 2,
            "linecolor": "white",
            "showbackground": true,
            "ticks": "",
            "zerolinecolor": "white"
           },
           "zaxis": {
            "backgroundcolor": "#E5ECF6",
            "gridcolor": "white",
            "gridwidth": 2,
            "linecolor": "white",
            "showbackground": true,
            "ticks": "",
            "zerolinecolor": "white"
           }
          },
          "shapedefaults": {
           "line": {
            "color": "#2a3f5f"
           }
          },
          "ternary": {
           "aaxis": {
            "gridcolor": "white",
            "linecolor": "white",
            "ticks": ""
           },
           "baxis": {
            "gridcolor": "white",
            "linecolor": "white",
            "ticks": ""
           },
           "bgcolor": "#E5ECF6",
           "caxis": {
            "gridcolor": "white",
            "linecolor": "white",
            "ticks": ""
           }
          },
          "title": {
           "x": 0.05
          },
          "xaxis": {
           "automargin": true,
           "gridcolor": "white",
           "linecolor": "white",
           "ticks": "",
           "title": {
            "standoff": 15
           },
           "zerolinecolor": "white",
           "zerolinewidth": 2
          },
          "yaxis": {
           "automargin": true,
           "gridcolor": "white",
           "linecolor": "white",
           "ticks": "",
           "title": {
            "standoff": 15
           },
           "zerolinecolor": "white",
           "zerolinewidth": 2
          }
         }
        },
        "xaxis": {
         "anchor": "y",
         "autorange": true,
         "domain": [
          0,
          1
         ],
         "range": [
          -4.3223837048361595,
          5.434344115907937
         ],
         "title": {
          "text": "dim1"
         },
         "type": "linear"
        },
        "yaxis": {
         "anchor": "x",
         "autorange": true,
         "domain": [
          0,
          1
         ],
         "range": [
          -2.7872597520432763,
          3.986757451780825
         ],
         "title": {
          "text": "dim2"
         },
         "type": "linear"
        }
       }
      },
      "image/png": "[encoded data removed]",
      "text/html": [
       "<div>                            <div id=\"8e159b7f-5639-4654-a9b1-93e126157ecb\" class=\"plotly-graph-div\" style=\"height:525px; width:100%;\"></div>            <script type=\"text/javascript\">                require([\"plotly\"], function(Plotly) {                    window.PLOTLYENV=window.PLOTLYENV || {};                                    if (document.getElementById(\"8e159b7f-5639-4654-a9b1-93e126157ecb\")) {                    Plotly.newPlot(                        \"8e159b7f-5639-4654-a9b1-93e126157ecb\",                        [{\"hovertemplate\":\"<b>%{hovertext}</b><br><br>label=our_team<br>dim1=%{x}<br>dim2=%{y}<br>word=%{text}<extra></extra>\",\"hovertext\":[\"moon\",\"card\",\"eye\",\"berry\",\"battery\",\"embassy\",\"bridge\",\"cycle\",\"water\"],\"legendgroup\":\"our_team\",\"marker\":{\"color\":\"deeppink\",\"symbol\":\"circle\"},\"mode\":\"markers+text\",\"name\":\"our_team\",\"orientation\":\"v\",\"showlegend\":true,\"text\":[\"moon\",\"card\",\"eye\",\"berry\",\"battery\",\"embassy\",\"bridge\",\"cycle\",\"water\"],\"x\":[0.14060963690280914,0.4228644073009491,-0.2682180106639862,-0.7902837991714478,4.891322612762451,-3.779362201690674,-0.45429542660713196,2.311519145965576,1.529792070388794],\"xaxis\":\"x\",\"y\":[-1.3572412729263306,-1.2518525123596191,-1.7208400964736938,-2.33309268951416,3.532590389251709,3.2938613891601562,0.7567024230957031,1.0995527505874634,0.9314762353897095],\"yaxis\":\"y\",\"type\":\"scatter\"},{\"hovertemplate\":\"<b>%{hovertext}</b><br><br>label=their_team<br>dim1=%{x}<br>dim2=%{y}<br>word=%{text}<extra></extra>\",\"hovertext\":[\"dice\",\"change\",\"spell\",\"moscow\",\"rose\",\"penguin\",\"microscope\",\"bell\"],\"legendgroup\":\"their_team\",\"marker\":{\"color\":\"cornflowerblue\",\"symbol\":\"circle\"},\"mode\":\"markers+text\",\"name\":\"their_team\",\"orientation\":\"v\",\"showlegend\":true,\"text\":[\"dice\",\"change\",\"spell\",\"moscow\",\"rose\",\"penguin\",\"microscope\",\"bell\"],\"x\":[0.5749372839927673,0.8818444013595581,0.25588884949684143,-3.2319328784942627,-1.3148092031478882,-0.1098276823759079,2.3197083473205566,0.22075597941875458],\"xaxis\":\"x\",\"y\":[-2.0551371574401855,0.013963490724563599,-1.5181224346160889,2.47310471534729,-1.6911571025848389,-1.465073585510254,-0.024721333757042885,-0.48264870047569275],\"yaxis\":\"y\",\"type\":\"scatter\"},{\"hovertemplate\":\"<b>%{hovertext}</b><br><br>label=bomb<br>dim1=%{x}<br>dim2=%{y}<br>word=%{text}<extra></extra>\",\"hovertext\":[\"giant\"],\"legendgroup\":\"bomb\",\"marker\":{\"color\":\"yellow\",\"symbol\":\"circle\"},\"mode\":\"markers+text\",\"name\":\"bomb\",\"orientation\":\"v\",\"showlegend\":true,\"text\":[\"giant\"],\"x\":[0.10574929416179657],\"xaxis\":\"x\",\"y\":[-0.9848818778991699],\"yaxis\":\"y\",\"type\":\"scatter\"},{\"hovertemplate\":\"<b>%{hovertext}</b><br><br>label=neutral<br>dim1=%{x}<br>dim2=%{y}<br>word=%{text}<extra></extra>\",\"hovertext\":[\"phoenix\",\"police\",\"tag\",\"film\",\"doctor\",\"mercury\",\"beat\"],\"legendgroup\":\"neutral\",\"marker\":{\"color\":\"grey\",\"symbol\":\"circle\"},\"mode\":\"markers+text\",\"name\":\"neutral\",\"orientation\":\"v\",\"showlegend\":true,\"text\":[\"phoenix\",\"police\",\"tag\",\"film\",\"doctor\",\"mercury\",\"beat\"],\"x\":[-1.2139180898666382,-2.86649751663208,0.12234032154083252,-0.6806631684303284,-0.6034946441650391,2.4328975677490234,-0.8969272971153259],\"xaxis\":\"x\",\"y\":[0.3116232752799988,2.7581965923309326,-0.9957336187362671,0.15305501222610474,-0.6182696223258972,1.9781737327575684,-0.8035272359848022],\"yaxis\":\"y\",\"type\":\"scatter\"}],                        {\"template\":{\"data\":{\"histogram2dcontour\":[{\"type\":\"histogram2dcontour\",\"colorbar\":{\"outlinewidth\":0,\"ticks\":\"\"},\"colorscale\":[[0.0,\"#0d0887\"],[0.1111111111111111,\"#46039f\"],[0.2222222222222222,\"#7201a8\"],[0.3333333333333333,\"#9c179e\"],[0.4444444444444444,\"#bd3786\"],[0.5555555555555556,\"#d8576b\"],[0.6666666666666666,\"#ed7953\"],[0.7777777777777778,\"#fb9f3a\"],[0.8888888888888888,\"#fdca26\"],[1.0,\"#f0f921\"]]}],\"choropleth\":[{\"type\":\"choropleth\",\"colorbar\":{\"outlinewidth\":0,\"ticks\":\"\"}}],\"histogram2d\":[{\"type\":\"histogram2d\",\"colorbar\":{\"outlinewidth\":0,\"ticks\":\"\"},\"colorscale\":[[0.0,\"#0d0887\"],[0.1111111111111111,\"#46039f\"],[0.2222222222222222,\"#7201a8\"],[0.3333333333333333,\"#9c179e\"],[0.4444444444444444,\"#bd3786\"],[0.5555555555555556,\"#d8576b\"],[0.6666666666666666,\"#ed7953\"],[0.7777777777777778,\"#fb9f3a\"],[0.8888888888888888,\"#fdca26\"],[1.0,\"#f0f921\"]]}],\"heatmap\":[{\"type\":\"heatmap\",\"colorbar\":{\"outlinewidth\":0,\"ticks\":\"\"},\"colorscale\":[[0.0,\"#0d0887\"],[0.1111111111111111,\"#46039f\"],[0.2222222222222222,\"#7201a8\"],[0.3333333333333333,\"#9c179e\"],[0.4444444444444444,\"#bd3786\"],[0.5555555555555556,\"#d8576b\"],[0.6666666666666666,\"#ed7953\"],[0.7777777777777778,\"#fb9f3a\"],[0.8888888888888888,\"#fdca26\"],[1.0,\"#f0f921\"]]}],\"heatmapgl\":[{\"type\":\"heatmapgl\",\"colorbar\":{\"outlinewidth\":0,\"ticks\":\"\"},\"colorscale\":[[0.0,\"#0d0887\"],[0.1111111111111111,\"#46039f\"],[0.2222222222222222,\"#7201a8\"],[0.3333333333333333,\"#9c179e\"],[0.4444444444444444,\"#bd3786\"],[0.5555555555555556,\"#d8576b\"],[0.6666666666666666,\"#ed7953\"],[0.7777777777777778,\"#fb9f3a\"],[0.8888888888888888,\"#fdca26\"],[1.0,\"#f0f921\"]]}],\"contourcarpet\":[{\"type\":\"contourcarpet\",\"colorbar\":{\"outlinewidth\":0,\"ticks\":\"\"}}],\"contour\":[{\"type\":\"contour\",\"colorbar\":{\"outlinewidth\":0,\"ticks\":\"\"},\"colorscale\":[[0.0,\"#0d0887\"],[0.1111111111111111,\"#46039f\"],[0.2222222222222222,\"#7201a8\"],[0.3333333333333333,\"#9c179e\"],[0.4444444444444444,\"#bd3786\"],[0.5555555555555556,\"#d8576b\"],[0.6666666666666666,\"#ed7953\"],[0.7777777777777778,\"#fb9f3a\"],[0.8888888888888888,\"#fdca26\"],[1.0,\"#f0f921\"]]}],\"surface\":[{\"type\":\"surface\",\"colorbar\":{\"outlinewidth\":0,\"ticks\":\"\"},\"colorscale\":[[0.0,\"#0d0887\"],[0.1111111111111111,\"#46039f\"],[0.2222222222222222,\"#7201a8\"],[0.3333333333333333,\"#9c179e\"],[0.4444444444444444,\"#bd3786\"],[0.5555555555555556,\"#d8576b\"],[0.6666666666666666,\"#ed7953\"],[0.7777777777777778,\"#fb9f3a\"],[0.8888888888888888,\"#fdca26\"],[1.0,\"#f0f921\"]]}],\"mesh3d\":[{\"type\":\"mesh3d\",\"colorbar\":{\"outlinewidth\":0,\"ticks\":\"\"}}],\"scatter\":[{\"fillpattern\":{\"fillmode\":\"overlay\",\"size\":10,\"solidity\":0.2},\"type\":\"scatter\"}],\"parcoords\":[{\"type\":\"parcoords\",\"line\":{\"colorbar\":{\"outlinewidth\":0,\"ticks\":\"\"}}}],\"scatterpolargl\":[{\"type\":\"scatterpolargl\",\"marker\":{\"colorbar\":{\"outlinewidth\":0,\"ticks\":\"\"}}}],\"bar\":[{\"error_x\":{\"color\":\"#2a3f5f\"},\"error_y\":{\"color\":\"#2a3f5f\"},\"marker\":{\"line\":{\"color\":\"#E5ECF6\",\"width\":0.5},\"pattern\":{\"fillmode\":\"overlay\",\"size\":10,\"solidity\":0.2}},\"type\":\"bar\"}],\"scattergeo\":[{\"type\":\"scattergeo\",\"marker\":{\"colorbar\":{\"outlinewidth\":0,\"ticks\":\"\"}}}],\"scatterpolar\":[{\"type\":\"scatterpolar\",\"marker\":{\"colorbar\":{\"outlinewidth\":0,\"ticks\":\"\"}}}],\"histogram\":[{\"marker\":{\"pattern\":{\"fillmode\":\"overlay\",\"size\":10,\"solidity\":0.2}},\"type\":\"histogram\"}],\"scattergl\":[{\"type\":\"scattergl\",\"marker\":{\"colorbar\":{\"outlinewidth\":0,\"ticks\":\"\"}}}],\"scatter3d\":[{\"type\":\"scatter3d\",\"line\":{\"colorbar\":{\"outlinewidth\":0,\"ticks\":\"\"}},\"marker\":{\"colorbar\":{\"outlinewidth\":0,\"ticks\":\"\"}}}],\"scattermapbox\":[{\"type\":\"scattermapbox\",\"marker\":{\"colorbar\":{\"outlinewidth\":0,\"ticks\":\"\"}}}],\"scatterternary\":[{\"type\":\"scatterternary\",\"marker\":{\"colorbar\":{\"outlinewidth\":0,\"ticks\":\"\"}}}],\"scattercarpet\":[{\"type\":\"scattercarpet\",\"marker\":{\"colorbar\":{\"outlinewidth\":0,\"ticks\":\"\"}}}],\"carpet\":[{\"aaxis\":{\"endlinecolor\":\"#2a3f5f\",\"gridcolor\":\"white\",\"linecolor\":\"white\",\"minorgridcolor\":\"white\",\"startlinecolor\":\"#2a3f5f\"},\"baxis\":{\"endlinecolor\":\"#2a3f5f\",\"gridcolor\":\"white\",\"linecolor\":\"white\",\"minorgridcolor\":\"white\",\"startlinecolor\":\"#2a3f5f\"},\"type\":\"carpet\"}],\"table\":[{\"cells\":{\"fill\":{\"color\":\"#EBF0F8\"},\"line\":{\"color\":\"white\"}},\"header\":{\"fill\":{\"color\":\"#C8D4E3\"},\"line\":{\"color\":\"white\"}},\"type\":\"table\"}],\"barpolar\":[{\"marker\":{\"line\":{\"color\":\"#E5ECF6\",\"width\":0.5},\"pattern\":{\"fillmode\":\"overlay\",\"size\":10,\"solidity\":0.2}},\"type\":\"barpolar\"}],\"pie\":[{\"automargin\":true,\"type\":\"pie\"}]},\"layout\":{\"autotypenumbers\":\"strict\",\"colorway\":[\"#636efa\",\"#EF553B\",\"#00cc96\",\"#ab63fa\",\"#FFA15A\",\"#19d3f3\",\"#FF6692\",\"#B6E880\",\"#FF97FF\",\"#FECB52\"],\"font\":{\"color\":\"#2a3f5f\"},\"hovermode\":\"closest\",\"hoverlabel\":{\"align\":\"left\"},\"paper_bgcolor\":\"white\",\"plot_bgcolor\":\"#E5ECF6\",\"polar\":{\"bgcolor\":\"#E5ECF6\",\"angularaxis\":{\"gridcolor\":\"white\",\"linecolor\":\"white\",\"ticks\":\"\"},\"radialaxis\":{\"gridcolor\":\"white\",\"linecolor\":\"white\",\"ticks\":\"\"}},\"ternary\":{\"bgcolor\":\"#E5ECF6\",\"aaxis\":{\"gridcolor\":\"white\",\"linecolor\":\"white\",\"ticks\":\"\"},\"baxis\":{\"gridcolor\":\"white\",\"linecolor\":\"white\",\"ticks\":\"\"},\"caxis\":{\"gridcolor\":\"white\",\"linecolor\":\"white\",\"ticks\":\"\"}},\"coloraxis\":{\"colorbar\":{\"outlinewidth\":0,\"ticks\":\"\"}},\"colorscale\":{\"sequential\":[[0.0,\"#0d0887\"],[0.1111111111111111,\"#46039f\"],[0.2222222222222222,\"#7201a8\"],[0.3333333333333333,\"#9c179e\"],[0.4444444444444444,\"#bd3786\"],[0.5555555555555556,\"#d8576b\"],[0.6666666666666666,\"#ed7953\"],[0.7777777777777778,\"#fb9f3a\"],[0.8888888888888888,\"#fdca26\"],[1.0,\"#f0f921\"]],\"sequentialminus\":[[0.0,\"#0d0887\"],[0.1111111111111111,\"#46039f\"],[0.2222222222222222,\"#7201a8\"],[0.3333333333333333,\"#9c179e\"],[0.4444444444444444,\"#bd3786\"],[0.5555555555555556,\"#d8576b\"],[0.6666666666666666,\"#ed7953\"],[0.7777777777777778,\"#fb9f3a\"],[0.8888888888888888,\"#fdca26\"],[1.0,\"#f0f921\"]],\"diverging\":[[0,\"#8e0152\"],[0.1,\"#c51b7d\"],[0.2,\"#de77ae\"],[0.3,\"#f1b6da\"],[0.4,\"#fde0ef\"],[0.5,\"#f7f7f7\"],[0.6,\"#e6f5d0\"],[0.7,\"#b8e186\"],[0.8,\"#7fbc41\"],[0.9,\"#4d9221\"],[1,\"#276419\"]]},\"xaxis\":{\"gridcolor\":\"white\",\"linecolor\":\"white\",\"ticks\":\"\",\"title\":{\"standoff\":15},\"zerolinecolor\":\"white\",\"automargin\":true,\"zerolinewidth\":2},\"yaxis\":{\"gridcolor\":\"white\",\"linecolor\":\"white\",\"ticks\":\"\",\"title\":{\"standoff\":15},\"zerolinecolor\":\"white\",\"automargin\":true,\"zerolinewidth\":2},\"scene\":{\"xaxis\":{\"backgroundcolor\":\"#E5ECF6\",\"gridcolor\":\"white\",\"linecolor\":\"white\",\"showbackground\":true,\"ticks\":\"\",\"zerolinecolor\":\"white\",\"gridwidth\":2},\"yaxis\":{\"backgroundcolor\":\"#E5ECF6\",\"gridcolor\":\"white\",\"linecolor\":\"white\",\"showbackground\":true,\"ticks\":\"\",\"zerolinecolor\":\"white\",\"gridwidth\":2},\"zaxis\":{\"backgroundcolor\":\"#E5ECF6\",\"gridcolor\":\"white\",\"linecolor\":\"white\",\"showbackground\":true,\"ticks\":\"\",\"zerolinecolor\":\"white\",\"gridwidth\":2}},\"shapedefaults\":{\"line\":{\"color\":\"#2a3f5f\"}},\"annotationdefaults\":{\"arrowcolor\":\"#2a3f5f\",\"arrowhead\":0,\"arrowwidth\":1},\"geo\":{\"bgcolor\":\"white\",\"landcolor\":\"#E5ECF6\",\"subunitcolor\":\"white\",\"showland\":true,\"showlakes\":true,\"lakecolor\":\"white\"},\"title\":{\"x\":0.05},\"mapbox\":{\"style\":\"light\"}}},\"xaxis\":{\"anchor\":\"y\",\"domain\":[0.0,1.0],\"title\":{\"text\":\"dim1\"}},\"yaxis\":{\"anchor\":\"x\",\"domain\":[0.0,1.0],\"title\":{\"text\":\"dim2\"}},\"legend\":{\"title\":{\"text\":\"label\"},\"tracegroupgap\":0},\"margin\":{\"t\":60}},                        {\"responsive\": true}                    ).then(function(){\n",
       "                            \n",
       "var gd = document.getElementById('8e159b7f-5639-4654-a9b1-93e126157ecb');\n",
       "var x = new MutationObserver(function (mutations, observer) {{\n",
       "        var display = window.getComputedStyle(gd).display;\n",
       "        if (!display || display === 'none') {{\n",
       "            console.log([gd, 'removed!']);\n",
       "            Plotly.purge(gd);\n",
       "            observer.disconnect();\n",
       "        }}\n",
       "}});\n",
       "\n",
       "// Listen for the removal of the full notebook cells\n",
       "var notebookContainer = gd.closest('#notebook-container');\n",
       "if (notebookContainer) {{\n",
       "    x.observe(notebookContainer, {childList: true});\n",
       "}}\n",
       "\n",
       "// Listen for the clearing of the current output cell\n",
       "var outputEl = gd.closest('.output');\n",
       "if (outputEl) {{\n",
       "    x.observe(outputEl, {childList: true});\n",
       "}}\n",
       "\n",
       "                        })                };                });            </script>        </div>"
      ]
     },
     "metadata": {},
     "output_type": "display_data"
    }
   ],
   "source": [
    "X_embedded = PCA_fit(embedding_matrix, n_comp = 2)\n",
    "df_reduced = matrix_to_df(X_embedded, words, labels)\n",
    "plot_2d(df_reduced, color_map)\n"
   ]
  },
  {
   "cell_type": "markdown",
   "id": "6550efac-065d-4c51-bbbc-a7bec3825aea",
   "metadata": {},
   "source": [
    "## Plot the board in 3D space"
   ]
  },
  {
   "cell_type": "code",
   "execution_count": 86,
   "id": "aefcb0bb-8b4a-4639-994b-a5f58a864402",
   "metadata": {},
   "outputs": [
    {
     "data": {
      "application/vnd.plotly.v1+json": {
       "config": {
        "plotlyServerURL": "https://plot.ly"
       },
       "data": [
        {
         "hovertemplate": "<b>%{hovertext}</b><br><br>label=our_team<br>dim1=%{x}<br>dim2=%{y}<br>dim3=%{z}<br>word=%{text}<extra></extra>",
         "hovertext": [
          "moon",
          "card",
          "eye",
          "berry",
          "battery",
          "embassy",
          "bridge",
          "cycle",
          "water"
         ],
         "legendgroup": "our_team",
         "marker": {
          "color": "deeppink",
          "symbol": "circle"
         },
         "mode": "markers+text",
         "name": "our_team",
         "scene": "scene",
         "showlegend": true,
         "text": [
          "moon",
          "card",
          "eye",
          "berry",
          "battery",
          "embassy",
          "bridge",
          "cycle",
          "water"
         ],
         "type": "scatter3d",
         "x": [
          0.14060963690280914,
          0.4228644073009491,
          -0.2682180106639862,
          -0.7902837991714478,
          4.891322612762451,
          -3.779362201690674,
          -0.45429542660713196,
          2.311519145965576,
          1.529792070388794
         ],
         "y": [
          -1.3572412729263306,
          -1.2518525123596191,
          -1.7208400964736938,
          -2.33309268951416,
          3.532590389251709,
          3.2938613891601562,
          0.7567024230957031,
          1.0995527505874634,
          0.9314762353897095
         ],
         "z": [
          2.550689697265625,
          -3.416266679763794,
          0.765453577041626,
          -0.4678167402744293,
          -3.466970682144165,
          -0.41740936040878296,
          0.06829114258289337,
          -0.07171357423067093,
          1.2805757522583008
         ]
        },
        {
         "hovertemplate": "<b>%{hovertext}</b><br><br>label=their_team<br>dim1=%{x}<br>dim2=%{y}<br>dim3=%{z}<br>word=%{text}<extra></extra>",
         "hovertext": [
          "dice",
          "change",
          "spell",
          "moscow",
          "rose",
          "penguin",
          "microscope",
          "bell"
         ],
         "legendgroup": "their_team",
         "marker": {
          "color": "cornflowerblue",
          "symbol": "circle"
         },
         "mode": "markers+text",
         "name": "their_team",
         "scene": "scene",
         "showlegend": true,
         "text": [
          "dice",
          "change",
          "spell",
          "moscow",
          "rose",
          "penguin",
          "microscope",
          "bell"
         ],
         "type": "scatter3d",
         "x": [
          0.5749372839927673,
          0.8818444013595581,
          0.25588884949684143,
          -3.2319328784942627,
          -1.3148092031478882,
          -0.1098276823759079,
          2.3197083473205566,
          0.22075597941875458
         ],
         "y": [
          -2.0551371574401855,
          0.013963490724563599,
          -1.5181224346160889,
          2.47310471534729,
          -1.6911571025848389,
          -1.465073585510254,
          -0.024721333757042885,
          -0.48264870047569275
         ],
         "z": [
          -0.8723269701004028,
          -0.24907860159873962,
          -0.399905264377594,
          0.913191556930542,
          0.5805703997612,
          -0.09275348484516144,
          0.9028457403182983,
          -0.2889883518218994
         ]
        },
        {
         "hovertemplate": "<b>%{hovertext}</b><br><br>label=bomb<br>dim1=%{x}<br>dim2=%{y}<br>dim3=%{z}<br>word=%{text}<extra></extra>",
         "hovertext": [
          "giant"
         ],
         "legendgroup": "bomb",
         "marker": {
          "color": "yellow",
          "symbol": "circle"
         },
         "mode": "markers+text",
         "name": "bomb",
         "scene": "scene",
         "showlegend": true,
         "text": [
          "giant"
         ],
         "type": "scatter3d",
         "x": [
          0.10574929416179657
         ],
         "y": [
          -0.9848818778991699
         ],
         "z": [
          0.38589712977409363
         ]
        },
        {
         "hovertemplate": "<b>%{hovertext}</b><br><br>label=neutral<br>dim1=%{x}<br>dim2=%{y}<br>dim3=%{z}<br>word=%{text}<extra></extra>",
         "hovertext": [
          "phoenix",
          "police",
          "tag",
          "film",
          "doctor",
          "mercury",
          "beat"
         ],
         "legendgroup": "neutral",
         "marker": {
          "color": "grey",
          "symbol": "circle"
         },
         "mode": "markers+text",
         "name": "neutral",
         "scene": "scene",
         "showlegend": true,
         "text": [
          "phoenix",
          "police",
          "tag",
          "film",
          "doctor",
          "mercury",
          "beat"
         ],
         "type": "scatter3d",
         "x": [
          -1.2139180898666382,
          -2.86649751663208,
          0.12234032154083252,
          -0.6806631684303284,
          -0.6034946441650391,
          2.4328975677490234,
          -0.8969272971153259
         ],
         "y": [
          0.3116232752799988,
          2.7581965923309326,
          -0.9957336187362671,
          0.15305501222610474,
          -0.6182696223258972,
          1.9781737327575684,
          -0.8035272359848022
         ],
         "z": [
          0.5670526027679443,
          -1.603842854499817,
          -1.3452682495117188,
          0.5116342902183533,
          -0.2547853887081146,
          5.229048728942871,
          -0.8081244230270386
         ]
        }
       ],
       "layout": {
        "autosize": true,
        "legend": {
         "title": {
          "text": "label"
         },
         "tracegroupgap": 0
        },
        "margin": {
         "t": 60
        },
        "scene": {
         "aspectmode": "auto",
         "aspectratio": {
          "x": 1.1380357403183512,
          "y": 0.7698765585261522,
          "z": 1.141360930548756
         },
         "camera": {
          "center": {
           "x": 0,
           "y": 0,
           "z": 0
          },
          "eye": {
           "x": -0.093212458772191,
           "y": 1.6953710049433515,
           "z": -1.5461955946276271
          },
          "projection": {
           "type": "perspective"
          },
          "up": {
           "x": 0,
           "y": 0,
           "z": 1
          }
         },
         "domain": {
          "x": [
           0,
           1
          ],
          "y": [
           0,
           1
          ]
         },
         "xaxis": {
          "title": {
           "text": "dim1"
          },
          "type": "linear"
         },
         "yaxis": {
          "title": {
           "text": "dim2"
          },
          "type": "linear"
         },
         "zaxis": {
          "title": {
           "text": "dim3"
          },
          "type": "linear"
         }
        },
        "template": {
         "data": {
          "bar": [
           {
            "error_x": {
             "color": "#2a3f5f"
            },
            "error_y": {
             "color": "#2a3f5f"
            },
            "marker": {
             "line": {
              "color": "#E5ECF6",
              "width": 0.5
             },
             "pattern": {
              "fillmode": "overlay",
              "size": 10,
              "solidity": 0.2
             }
            },
            "type": "bar"
           }
          ],
          "barpolar": [
           {
            "marker": {
             "line": {
              "color": "#E5ECF6",
              "width": 0.5
             },
             "pattern": {
              "fillmode": "overlay",
              "size": 10,
              "solidity": 0.2
             }
            },
            "type": "barpolar"
           }
          ],
          "carpet": [
           {
            "aaxis": {
             "endlinecolor": "#2a3f5f",
             "gridcolor": "white",
             "linecolor": "white",
             "minorgridcolor": "white",
             "startlinecolor": "#2a3f5f"
            },
            "baxis": {
             "endlinecolor": "#2a3f5f",
             "gridcolor": "white",
             "linecolor": "white",
             "minorgridcolor": "white",
             "startlinecolor": "#2a3f5f"
            },
            "type": "carpet"
           }
          ],
          "choropleth": [
           {
            "colorbar": {
             "outlinewidth": 0,
             "ticks": ""
            },
            "type": "choropleth"
           }
          ],
          "contour": [
           {
            "colorbar": {
             "outlinewidth": 0,
             "ticks": ""
            },
            "colorscale": [
             [
              0,
              "#0d0887"
             ],
             [
              0.1111111111111111,
              "#46039f"
             ],
             [
              0.2222222222222222,
              "#7201a8"
             ],
             [
              0.3333333333333333,
              "#9c179e"
             ],
             [
              0.4444444444444444,
              "#bd3786"
             ],
             [
              0.5555555555555556,
              "#d8576b"
             ],
             [
              0.6666666666666666,
              "#ed7953"
             ],
             [
              0.7777777777777778,
              "#fb9f3a"
             ],
             [
              0.8888888888888888,
              "#fdca26"
             ],
             [
              1,
              "#f0f921"
             ]
            ],
            "type": "contour"
           }
          ],
          "contourcarpet": [
           {
            "colorbar": {
             "outlinewidth": 0,
             "ticks": ""
            },
            "type": "contourcarpet"
           }
          ],
          "heatmap": [
           {
            "colorbar": {
             "outlinewidth": 0,
             "ticks": ""
            },
            "colorscale": [
             [
              0,
              "#0d0887"
             ],
             [
              0.1111111111111111,
              "#46039f"
             ],
             [
              0.2222222222222222,
              "#7201a8"
             ],
             [
              0.3333333333333333,
              "#9c179e"
             ],
             [
              0.4444444444444444,
              "#bd3786"
             ],
             [
              0.5555555555555556,
              "#d8576b"
             ],
             [
              0.6666666666666666,
              "#ed7953"
             ],
             [
              0.7777777777777778,
              "#fb9f3a"
             ],
             [
              0.8888888888888888,
              "#fdca26"
             ],
             [
              1,
              "#f0f921"
             ]
            ],
            "type": "heatmap"
           }
          ],
          "heatmapgl": [
           {
            "colorbar": {
             "outlinewidth": 0,
             "ticks": ""
            },
            "colorscale": [
             [
              0,
              "#0d0887"
             ],
             [
              0.1111111111111111,
              "#46039f"
             ],
             [
              0.2222222222222222,
              "#7201a8"
             ],
             [
              0.3333333333333333,
              "#9c179e"
             ],
             [
              0.4444444444444444,
              "#bd3786"
             ],
             [
              0.5555555555555556,
              "#d8576b"
             ],
             [
              0.6666666666666666,
              "#ed7953"
             ],
             [
              0.7777777777777778,
              "#fb9f3a"
             ],
             [
              0.8888888888888888,
              "#fdca26"
             ],
             [
              1,
              "#f0f921"
             ]
            ],
            "type": "heatmapgl"
           }
          ],
          "histogram": [
           {
            "marker": {
             "pattern": {
              "fillmode": "overlay",
              "size": 10,
              "solidity": 0.2
             }
            },
            "type": "histogram"
           }
          ],
          "histogram2d": [
           {
            "colorbar": {
             "outlinewidth": 0,
             "ticks": ""
            },
            "colorscale": [
             [
              0,
              "#0d0887"
             ],
             [
              0.1111111111111111,
              "#46039f"
             ],
             [
              0.2222222222222222,
              "#7201a8"
             ],
             [
              0.3333333333333333,
              "#9c179e"
             ],
             [
              0.4444444444444444,
              "#bd3786"
             ],
             [
              0.5555555555555556,
              "#d8576b"
             ],
             [
              0.6666666666666666,
              "#ed7953"
             ],
             [
              0.7777777777777778,
              "#fb9f3a"
             ],
             [
              0.8888888888888888,
              "#fdca26"
             ],
             [
              1,
              "#f0f921"
             ]
            ],
            "type": "histogram2d"
           }
          ],
          "histogram2dcontour": [
           {
            "colorbar": {
             "outlinewidth": 0,
             "ticks": ""
            },
            "colorscale": [
             [
              0,
              "#0d0887"
             ],
             [
              0.1111111111111111,
              "#46039f"
             ],
             [
              0.2222222222222222,
              "#7201a8"
             ],
             [
              0.3333333333333333,
              "#9c179e"
             ],
             [
              0.4444444444444444,
              "#bd3786"
             ],
             [
              0.5555555555555556,
              "#d8576b"
             ],
             [
              0.6666666666666666,
              "#ed7953"
             ],
             [
              0.7777777777777778,
              "#fb9f3a"
             ],
             [
              0.8888888888888888,
              "#fdca26"
             ],
             [
              1,
              "#f0f921"
             ]
            ],
            "type": "histogram2dcontour"
           }
          ],
          "mesh3d": [
           {
            "colorbar": {
             "outlinewidth": 0,
             "ticks": ""
            },
            "type": "mesh3d"
           }
          ],
          "parcoords": [
           {
            "line": {
             "colorbar": {
              "outlinewidth": 0,
              "ticks": ""
             }
            },
            "type": "parcoords"
           }
          ],
          "pie": [
           {
            "automargin": true,
            "type": "pie"
           }
          ],
          "scatter": [
           {
            "fillpattern": {
             "fillmode": "overlay",
             "size": 10,
             "solidity": 0.2
            },
            "type": "scatter"
           }
          ],
          "scatter3d": [
           {
            "line": {
             "colorbar": {
              "outlinewidth": 0,
              "ticks": ""
             }
            },
            "marker": {
             "colorbar": {
              "outlinewidth": 0,
              "ticks": ""
             }
            },
            "type": "scatter3d"
           }
          ],
          "scattercarpet": [
           {
            "marker": {
             "colorbar": {
              "outlinewidth": 0,
              "ticks": ""
             }
            },
            "type": "scattercarpet"
           }
          ],
          "scattergeo": [
           {
            "marker": {
             "colorbar": {
              "outlinewidth": 0,
              "ticks": ""
             }
            },
            "type": "scattergeo"
           }
          ],
          "scattergl": [
           {
            "marker": {
             "colorbar": {
              "outlinewidth": 0,
              "ticks": ""
             }
            },
            "type": "scattergl"
           }
          ],
          "scattermapbox": [
           {
            "marker": {
             "colorbar": {
              "outlinewidth": 0,
              "ticks": ""
             }
            },
            "type": "scattermapbox"
           }
          ],
          "scatterpolar": [
           {
            "marker": {
             "colorbar": {
              "outlinewidth": 0,
              "ticks": ""
             }
            },
            "type": "scatterpolar"
           }
          ],
          "scatterpolargl": [
           {
            "marker": {
             "colorbar": {
              "outlinewidth": 0,
              "ticks": ""
             }
            },
            "type": "scatterpolargl"
           }
          ],
          "scatterternary": [
           {
            "marker": {
             "colorbar": {
              "outlinewidth": 0,
              "ticks": ""
             }
            },
            "type": "scatterternary"
           }
          ],
          "surface": [
           {
            "colorbar": {
             "outlinewidth": 0,
             "ticks": ""
            },
            "colorscale": [
             [
              0,
              "#0d0887"
             ],
             [
              0.1111111111111111,
              "#46039f"
             ],
             [
              0.2222222222222222,
              "#7201a8"
             ],
             [
              0.3333333333333333,
              "#9c179e"
             ],
             [
              0.4444444444444444,
              "#bd3786"
             ],
             [
              0.5555555555555556,
              "#d8576b"
             ],
             [
              0.6666666666666666,
              "#ed7953"
             ],
             [
              0.7777777777777778,
              "#fb9f3a"
             ],
             [
              0.8888888888888888,
              "#fdca26"
             ],
             [
              1,
              "#f0f921"
             ]
            ],
            "type": "surface"
           }
          ],
          "table": [
           {
            "cells": {
             "fill": {
              "color": "#EBF0F8"
             },
             "line": {
              "color": "white"
             }
            },
            "header": {
             "fill": {
              "color": "#C8D4E3"
             },
             "line": {
              "color": "white"
             }
            },
            "type": "table"
           }
          ]
         },
         "layout": {
          "annotationdefaults": {
           "arrowcolor": "#2a3f5f",
           "arrowhead": 0,
           "arrowwidth": 1
          },
          "autotypenumbers": "strict",
          "coloraxis": {
           "colorbar": {
            "outlinewidth": 0,
            "ticks": ""
           }
          },
          "colorscale": {
           "diverging": [
            [
             0,
             "#8e0152"
            ],
            [
             0.1,
             "#c51b7d"
            ],
            [
             0.2,
             "#de77ae"
            ],
            [
             0.3,
             "#f1b6da"
            ],
            [
             0.4,
             "#fde0ef"
            ],
            [
             0.5,
             "#f7f7f7"
            ],
            [
             0.6,
             "#e6f5d0"
            ],
            [
             0.7,
             "#b8e186"
            ],
            [
             0.8,
             "#7fbc41"
            ],
            [
             0.9,
             "#4d9221"
            ],
            [
             1,
             "#276419"
            ]
           ],
           "sequential": [
            [
             0,
             "#0d0887"
            ],
            [
             0.1111111111111111,
             "#46039f"
            ],
            [
             0.2222222222222222,
             "#7201a8"
            ],
            [
             0.3333333333333333,
             "#9c179e"
            ],
            [
             0.4444444444444444,
             "#bd3786"
            ],
            [
             0.5555555555555556,
             "#d8576b"
            ],
            [
             0.6666666666666666,
             "#ed7953"
            ],
            [
             0.7777777777777778,
             "#fb9f3a"
            ],
            [
             0.8888888888888888,
             "#fdca26"
            ],
            [
             1,
             "#f0f921"
            ]
           ],
           "sequentialminus": [
            [
             0,
             "#0d0887"
            ],
            [
             0.1111111111111111,
             "#46039f"
            ],
            [
             0.2222222222222222,
             "#7201a8"
            ],
            [
             0.3333333333333333,
             "#9c179e"
            ],
            [
             0.4444444444444444,
             "#bd3786"
            ],
            [
             0.5555555555555556,
             "#d8576b"
            ],
            [
             0.6666666666666666,
             "#ed7953"
            ],
            [
             0.7777777777777778,
             "#fb9f3a"
            ],
            [
             0.8888888888888888,
             "#fdca26"
            ],
            [
             1,
             "#f0f921"
            ]
           ]
          },
          "colorway": [
           "#636efa",
           "#EF553B",
           "#00cc96",
           "#ab63fa",
           "#FFA15A",
           "#19d3f3",
           "#FF6692",
           "#B6E880",
           "#FF97FF",
           "#FECB52"
          ],
          "font": {
           "color": "#2a3f5f"
          },
          "geo": {
           "bgcolor": "white",
           "lakecolor": "white",
           "landcolor": "#E5ECF6",
           "showlakes": true,
           "showland": true,
           "subunitcolor": "white"
          },
          "hoverlabel": {
           "align": "left"
          },
          "hovermode": "closest",
          "mapbox": {
           "style": "light"
          },
          "paper_bgcolor": "white",
          "plot_bgcolor": "#E5ECF6",
          "polar": {
           "angularaxis": {
            "gridcolor": "white",
            "linecolor": "white",
            "ticks": ""
           },
           "bgcolor": "#E5ECF6",
           "radialaxis": {
            "gridcolor": "white",
            "linecolor": "white",
            "ticks": ""
           }
          },
          "scene": {
           "xaxis": {
            "backgroundcolor": "#E5ECF6",
            "gridcolor": "white",
            "gridwidth": 2,
            "linecolor": "white",
            "showbackground": true,
            "ticks": "",
            "zerolinecolor": "white"
           },
           "yaxis": {
            "backgroundcolor": "#E5ECF6",
            "gridcolor": "white",
            "gridwidth": 2,
            "linecolor": "white",
            "showbackground": true,
            "ticks": "",
            "zerolinecolor": "white"
           },
           "zaxis": {
            "backgroundcolor": "#E5ECF6",
            "gridcolor": "white",
            "gridwidth": 2,
            "linecolor": "white",
            "showbackground": true,
            "ticks": "",
            "zerolinecolor": "white"
           }
          },
          "shapedefaults": {
           "line": {
            "color": "#2a3f5f"
           }
          },
          "ternary": {
           "aaxis": {
            "gridcolor": "white",
            "linecolor": "white",
            "ticks": ""
           },
           "baxis": {
            "gridcolor": "white",
            "linecolor": "white",
            "ticks": ""
           },
           "bgcolor": "#E5ECF6",
           "caxis": {
            "gridcolor": "white",
            "linecolor": "white",
            "ticks": ""
           }
          },
          "title": {
           "x": 0.05
          },
          "xaxis": {
           "automargin": true,
           "gridcolor": "white",
           "linecolor": "white",
           "ticks": "",
           "title": {
            "standoff": 15
           },
           "zerolinecolor": "white",
           "zerolinewidth": 2
          },
          "yaxis": {
           "automargin": true,
           "gridcolor": "white",
           "linecolor": "white",
           "ticks": "",
           "title": {
            "standoff": 15
           },
           "zerolinecolor": "white",
           "zerolinewidth": 2
          }
         }
        }
       }
      },
      "image/png": "[encoded data removed]",
      "text/html": [
       "<div>                            <div id=\"6be5defe-039f-4ea0-a78a-510aa71d4334\" class=\"plotly-graph-div\" style=\"height:525px; width:100%;\"></div>            <script type=\"text/javascript\">                require([\"plotly\"], function(Plotly) {                    window.PLOTLYENV=window.PLOTLYENV || {};                                    if (document.getElementById(\"6be5defe-039f-4ea0-a78a-510aa71d4334\")) {                    Plotly.newPlot(                        \"6be5defe-039f-4ea0-a78a-510aa71d4334\",                        [{\"hovertemplate\":\"<b>%{hovertext}</b><br><br>label=our_team<br>dim1=%{x}<br>dim2=%{y}<br>dim3=%{z}<br>word=%{text}<extra></extra>\",\"hovertext\":[\"moon\",\"card\",\"eye\",\"berry\",\"battery\",\"embassy\",\"bridge\",\"cycle\",\"water\"],\"legendgroup\":\"our_team\",\"marker\":{\"color\":\"deeppink\",\"symbol\":\"circle\"},\"mode\":\"markers+text\",\"name\":\"our_team\",\"scene\":\"scene\",\"showlegend\":true,\"text\":[\"moon\",\"card\",\"eye\",\"berry\",\"battery\",\"embassy\",\"bridge\",\"cycle\",\"water\"],\"x\":[0.14060963690280914,0.4228644073009491,-0.2682180106639862,-0.7902837991714478,4.891322612762451,-3.779362201690674,-0.45429542660713196,2.311519145965576,1.529792070388794],\"y\":[-1.3572412729263306,-1.2518525123596191,-1.7208400964736938,-2.33309268951416,3.532590389251709,3.2938613891601562,0.7567024230957031,1.0995527505874634,0.9314762353897095],\"z\":[2.550689697265625,-3.416266679763794,0.765453577041626,-0.4678167402744293,-3.466970682144165,-0.41740936040878296,0.06829114258289337,-0.07171357423067093,1.2805757522583008],\"type\":\"scatter3d\"},{\"hovertemplate\":\"<b>%{hovertext}</b><br><br>label=their_team<br>dim1=%{x}<br>dim2=%{y}<br>dim3=%{z}<br>word=%{text}<extra></extra>\",\"hovertext\":[\"dice\",\"change\",\"spell\",\"moscow\",\"rose\",\"penguin\",\"microscope\",\"bell\"],\"legendgroup\":\"their_team\",\"marker\":{\"color\":\"cornflowerblue\",\"symbol\":\"circle\"},\"mode\":\"markers+text\",\"name\":\"their_team\",\"scene\":\"scene\",\"showlegend\":true,\"text\":[\"dice\",\"change\",\"spell\",\"moscow\",\"rose\",\"penguin\",\"microscope\",\"bell\"],\"x\":[0.5749372839927673,0.8818444013595581,0.25588884949684143,-3.2319328784942627,-1.3148092031478882,-0.1098276823759079,2.3197083473205566,0.22075597941875458],\"y\":[-2.0551371574401855,0.013963490724563599,-1.5181224346160889,2.47310471534729,-1.6911571025848389,-1.465073585510254,-0.024721333757042885,-0.48264870047569275],\"z\":[-0.8723269701004028,-0.24907860159873962,-0.399905264377594,0.913191556930542,0.5805703997612,-0.09275348484516144,0.9028457403182983,-0.2889883518218994],\"type\":\"scatter3d\"},{\"hovertemplate\":\"<b>%{hovertext}</b><br><br>label=bomb<br>dim1=%{x}<br>dim2=%{y}<br>dim3=%{z}<br>word=%{text}<extra></extra>\",\"hovertext\":[\"giant\"],\"legendgroup\":\"bomb\",\"marker\":{\"color\":\"yellow\",\"symbol\":\"circle\"},\"mode\":\"markers+text\",\"name\":\"bomb\",\"scene\":\"scene\",\"showlegend\":true,\"text\":[\"giant\"],\"x\":[0.10574929416179657],\"y\":[-0.9848818778991699],\"z\":[0.38589712977409363],\"type\":\"scatter3d\"},{\"hovertemplate\":\"<b>%{hovertext}</b><br><br>label=neutral<br>dim1=%{x}<br>dim2=%{y}<br>dim3=%{z}<br>word=%{text}<extra></extra>\",\"hovertext\":[\"phoenix\",\"police\",\"tag\",\"film\",\"doctor\",\"mercury\",\"beat\"],\"legendgroup\":\"neutral\",\"marker\":{\"color\":\"grey\",\"symbol\":\"circle\"},\"mode\":\"markers+text\",\"name\":\"neutral\",\"scene\":\"scene\",\"showlegend\":true,\"text\":[\"phoenix\",\"police\",\"tag\",\"film\",\"doctor\",\"mercury\",\"beat\"],\"x\":[-1.2139180898666382,-2.86649751663208,0.12234032154083252,-0.6806631684303284,-0.6034946441650391,2.4328975677490234,-0.8969272971153259],\"y\":[0.3116232752799988,2.7581965923309326,-0.9957336187362671,0.15305501222610474,-0.6182696223258972,1.9781737327575684,-0.8035272359848022],\"z\":[0.5670526027679443,-1.603842854499817,-1.3452682495117188,0.5116342902183533,-0.2547853887081146,5.229048728942871,-0.8081244230270386],\"type\":\"scatter3d\"}],                        {\"template\":{\"data\":{\"histogram2dcontour\":[{\"type\":\"histogram2dcontour\",\"colorbar\":{\"outlinewidth\":0,\"ticks\":\"\"},\"colorscale\":[[0.0,\"#0d0887\"],[0.1111111111111111,\"#46039f\"],[0.2222222222222222,\"#7201a8\"],[0.3333333333333333,\"#9c179e\"],[0.4444444444444444,\"#bd3786\"],[0.5555555555555556,\"#d8576b\"],[0.6666666666666666,\"#ed7953\"],[0.7777777777777778,\"#fb9f3a\"],[0.8888888888888888,\"#fdca26\"],[1.0,\"#f0f921\"]]}],\"choropleth\":[{\"type\":\"choropleth\",\"colorbar\":{\"outlinewidth\":0,\"ticks\":\"\"}}],\"histogram2d\":[{\"type\":\"histogram2d\",\"colorbar\":{\"outlinewidth\":0,\"ticks\":\"\"},\"colorscale\":[[0.0,\"#0d0887\"],[0.1111111111111111,\"#46039f\"],[0.2222222222222222,\"#7201a8\"],[0.3333333333333333,\"#9c179e\"],[0.4444444444444444,\"#bd3786\"],[0.5555555555555556,\"#d8576b\"],[0.6666666666666666,\"#ed7953\"],[0.7777777777777778,\"#fb9f3a\"],[0.8888888888888888,\"#fdca26\"],[1.0,\"#f0f921\"]]}],\"heatmap\":[{\"type\":\"heatmap\",\"colorbar\":{\"outlinewidth\":0,\"ticks\":\"\"},\"colorscale\":[[0.0,\"#0d0887\"],[0.1111111111111111,\"#46039f\"],[0.2222222222222222,\"#7201a8\"],[0.3333333333333333,\"#9c179e\"],[0.4444444444444444,\"#bd3786\"],[0.5555555555555556,\"#d8576b\"],[0.6666666666666666,\"#ed7953\"],[0.7777777777777778,\"#fb9f3a\"],[0.8888888888888888,\"#fdca26\"],[1.0,\"#f0f921\"]]}],\"heatmapgl\":[{\"type\":\"heatmapgl\",\"colorbar\":{\"outlinewidth\":0,\"ticks\":\"\"},\"colorscale\":[[0.0,\"#0d0887\"],[0.1111111111111111,\"#46039f\"],[0.2222222222222222,\"#7201a8\"],[0.3333333333333333,\"#9c179e\"],[0.4444444444444444,\"#bd3786\"],[0.5555555555555556,\"#d8576b\"],[0.6666666666666666,\"#ed7953\"],[0.7777777777777778,\"#fb9f3a\"],[0.8888888888888888,\"#fdca26\"],[1.0,\"#f0f921\"]]}],\"contourcarpet\":[{\"type\":\"contourcarpet\",\"colorbar\":{\"outlinewidth\":0,\"ticks\":\"\"}}],\"contour\":[{\"type\":\"contour\",\"colorbar\":{\"outlinewidth\":0,\"ticks\":\"\"},\"colorscale\":[[0.0,\"#0d0887\"],[0.1111111111111111,\"#46039f\"],[0.2222222222222222,\"#7201a8\"],[0.3333333333333333,\"#9c179e\"],[0.4444444444444444,\"#bd3786\"],[0.5555555555555556,\"#d8576b\"],[0.6666666666666666,\"#ed7953\"],[0.7777777777777778,\"#fb9f3a\"],[0.8888888888888888,\"#fdca26\"],[1.0,\"#f0f921\"]]}],\"surface\":[{\"type\":\"surface\",\"colorbar\":{\"outlinewidth\":0,\"ticks\":\"\"},\"colorscale\":[[0.0,\"#0d0887\"],[0.1111111111111111,\"#46039f\"],[0.2222222222222222,\"#7201a8\"],[0.3333333333333333,\"#9c179e\"],[0.4444444444444444,\"#bd3786\"],[0.5555555555555556,\"#d8576b\"],[0.6666666666666666,\"#ed7953\"],[0.7777777777777778,\"#fb9f3a\"],[0.8888888888888888,\"#fdca26\"],[1.0,\"#f0f921\"]]}],\"mesh3d\":[{\"type\":\"mesh3d\",\"colorbar\":{\"outlinewidth\":0,\"ticks\":\"\"}}],\"scatter\":[{\"fillpattern\":{\"fillmode\":\"overlay\",\"size\":10,\"solidity\":0.2},\"type\":\"scatter\"}],\"parcoords\":[{\"type\":\"parcoords\",\"line\":{\"colorbar\":{\"outlinewidth\":0,\"ticks\":\"\"}}}],\"scatterpolargl\":[{\"type\":\"scatterpolargl\",\"marker\":{\"colorbar\":{\"outlinewidth\":0,\"ticks\":\"\"}}}],\"bar\":[{\"error_x\":{\"color\":\"#2a3f5f\"},\"error_y\":{\"color\":\"#2a3f5f\"},\"marker\":{\"line\":{\"color\":\"#E5ECF6\",\"width\":0.5},\"pattern\":{\"fillmode\":\"overlay\",\"size\":10,\"solidity\":0.2}},\"type\":\"bar\"}],\"scattergeo\":[{\"type\":\"scattergeo\",\"marker\":{\"colorbar\":{\"outlinewidth\":0,\"ticks\":\"\"}}}],\"scatterpolar\":[{\"type\":\"scatterpolar\",\"marker\":{\"colorbar\":{\"outlinewidth\":0,\"ticks\":\"\"}}}],\"histogram\":[{\"marker\":{\"pattern\":{\"fillmode\":\"overlay\",\"size\":10,\"solidity\":0.2}},\"type\":\"histogram\"}],\"scattergl\":[{\"type\":\"scattergl\",\"marker\":{\"colorbar\":{\"outlinewidth\":0,\"ticks\":\"\"}}}],\"scatter3d\":[{\"type\":\"scatter3d\",\"line\":{\"colorbar\":{\"outlinewidth\":0,\"ticks\":\"\"}},\"marker\":{\"colorbar\":{\"outlinewidth\":0,\"ticks\":\"\"}}}],\"scattermapbox\":[{\"type\":\"scattermapbox\",\"marker\":{\"colorbar\":{\"outlinewidth\":0,\"ticks\":\"\"}}}],\"scatterternary\":[{\"type\":\"scatterternary\",\"marker\":{\"colorbar\":{\"outlinewidth\":0,\"ticks\":\"\"}}}],\"scattercarpet\":[{\"type\":\"scattercarpet\",\"marker\":{\"colorbar\":{\"outlinewidth\":0,\"ticks\":\"\"}}}],\"carpet\":[{\"aaxis\":{\"endlinecolor\":\"#2a3f5f\",\"gridcolor\":\"white\",\"linecolor\":\"white\",\"minorgridcolor\":\"white\",\"startlinecolor\":\"#2a3f5f\"},\"baxis\":{\"endlinecolor\":\"#2a3f5f\",\"gridcolor\":\"white\",\"linecolor\":\"white\",\"minorgridcolor\":\"white\",\"startlinecolor\":\"#2a3f5f\"},\"type\":\"carpet\"}],\"table\":[{\"cells\":{\"fill\":{\"color\":\"#EBF0F8\"},\"line\":{\"color\":\"white\"}},\"header\":{\"fill\":{\"color\":\"#C8D4E3\"},\"line\":{\"color\":\"white\"}},\"type\":\"table\"}],\"barpolar\":[{\"marker\":{\"line\":{\"color\":\"#E5ECF6\",\"width\":0.5},\"pattern\":{\"fillmode\":\"overlay\",\"size\":10,\"solidity\":0.2}},\"type\":\"barpolar\"}],\"pie\":[{\"automargin\":true,\"type\":\"pie\"}]},\"layout\":{\"autotypenumbers\":\"strict\",\"colorway\":[\"#636efa\",\"#EF553B\",\"#00cc96\",\"#ab63fa\",\"#FFA15A\",\"#19d3f3\",\"#FF6692\",\"#B6E880\",\"#FF97FF\",\"#FECB52\"],\"font\":{\"color\":\"#2a3f5f\"},\"hovermode\":\"closest\",\"hoverlabel\":{\"align\":\"left\"},\"paper_bgcolor\":\"white\",\"plot_bgcolor\":\"#E5ECF6\",\"polar\":{\"bgcolor\":\"#E5ECF6\",\"angularaxis\":{\"gridcolor\":\"white\",\"linecolor\":\"white\",\"ticks\":\"\"},\"radialaxis\":{\"gridcolor\":\"white\",\"linecolor\":\"white\",\"ticks\":\"\"}},\"ternary\":{\"bgcolor\":\"#E5ECF6\",\"aaxis\":{\"gridcolor\":\"white\",\"linecolor\":\"white\",\"ticks\":\"\"},\"baxis\":{\"gridcolor\":\"white\",\"linecolor\":\"white\",\"ticks\":\"\"},\"caxis\":{\"gridcolor\":\"white\",\"linecolor\":\"white\",\"ticks\":\"\"}},\"coloraxis\":{\"colorbar\":{\"outlinewidth\":0,\"ticks\":\"\"}},\"colorscale\":{\"sequential\":[[0.0,\"#0d0887\"],[0.1111111111111111,\"#46039f\"],[0.2222222222222222,\"#7201a8\"],[0.3333333333333333,\"#9c179e\"],[0.4444444444444444,\"#bd3786\"],[0.5555555555555556,\"#d8576b\"],[0.6666666666666666,\"#ed7953\"],[0.7777777777777778,\"#fb9f3a\"],[0.8888888888888888,\"#fdca26\"],[1.0,\"#f0f921\"]],\"sequentialminus\":[[0.0,\"#0d0887\"],[0.1111111111111111,\"#46039f\"],[0.2222222222222222,\"#7201a8\"],[0.3333333333333333,\"#9c179e\"],[0.4444444444444444,\"#bd3786\"],[0.5555555555555556,\"#d8576b\"],[0.6666666666666666,\"#ed7953\"],[0.7777777777777778,\"#fb9f3a\"],[0.8888888888888888,\"#fdca26\"],[1.0,\"#f0f921\"]],\"diverging\":[[0,\"#8e0152\"],[0.1,\"#c51b7d\"],[0.2,\"#de77ae\"],[0.3,\"#f1b6da\"],[0.4,\"#fde0ef\"],[0.5,\"#f7f7f7\"],[0.6,\"#e6f5d0\"],[0.7,\"#b8e186\"],[0.8,\"#7fbc41\"],[0.9,\"#4d9221\"],[1,\"#276419\"]]},\"xaxis\":{\"gridcolor\":\"white\",\"linecolor\":\"white\",\"ticks\":\"\",\"title\":{\"standoff\":15},\"zerolinecolor\":\"white\",\"automargin\":true,\"zerolinewidth\":2},\"yaxis\":{\"gridcolor\":\"white\",\"linecolor\":\"white\",\"ticks\":\"\",\"title\":{\"standoff\":15},\"zerolinecolor\":\"white\",\"automargin\":true,\"zerolinewidth\":2},\"scene\":{\"xaxis\":{\"backgroundcolor\":\"#E5ECF6\",\"gridcolor\":\"white\",\"linecolor\":\"white\",\"showbackground\":true,\"ticks\":\"\",\"zerolinecolor\":\"white\",\"gridwidth\":2},\"yaxis\":{\"backgroundcolor\":\"#E5ECF6\",\"gridcolor\":\"white\",\"linecolor\":\"white\",\"showbackground\":true,\"ticks\":\"\",\"zerolinecolor\":\"white\",\"gridwidth\":2},\"zaxis\":{\"backgroundcolor\":\"#E5ECF6\",\"gridcolor\":\"white\",\"linecolor\":\"white\",\"showbackground\":true,\"ticks\":\"\",\"zerolinecolor\":\"white\",\"gridwidth\":2}},\"shapedefaults\":{\"line\":{\"color\":\"#2a3f5f\"}},\"annotationdefaults\":{\"arrowcolor\":\"#2a3f5f\",\"arrowhead\":0,\"arrowwidth\":1},\"geo\":{\"bgcolor\":\"white\",\"landcolor\":\"#E5ECF6\",\"subunitcolor\":\"white\",\"showland\":true,\"showlakes\":true,\"lakecolor\":\"white\"},\"title\":{\"x\":0.05},\"mapbox\":{\"style\":\"light\"}}},\"scene\":{\"domain\":{\"x\":[0.0,1.0],\"y\":[0.0,1.0]},\"xaxis\":{\"title\":{\"text\":\"dim1\"}},\"yaxis\":{\"title\":{\"text\":\"dim2\"}},\"zaxis\":{\"title\":{\"text\":\"dim3\"}}},\"legend\":{\"title\":{\"text\":\"label\"},\"tracegroupgap\":0},\"margin\":{\"t\":60}},                        {\"responsive\": true}                    ).then(function(){\n",
       "                            \n",
       "var gd = document.getElementById('6be5defe-039f-4ea0-a78a-510aa71d4334');\n",
       "var x = new MutationObserver(function (mutations, observer) {{\n",
       "        var display = window.getComputedStyle(gd).display;\n",
       "        if (!display || display === 'none') {{\n",
       "            console.log([gd, 'removed!']);\n",
       "            Plotly.purge(gd);\n",
       "            observer.disconnect();\n",
       "        }}\n",
       "}});\n",
       "\n",
       "// Listen for the removal of the full notebook cells\n",
       "var notebookContainer = gd.closest('#notebook-container');\n",
       "if (notebookContainer) {{\n",
       "    x.observe(notebookContainer, {childList: true});\n",
       "}}\n",
       "\n",
       "// Listen for the clearing of the current output cell\n",
       "var outputEl = gd.closest('.output');\n",
       "if (outputEl) {{\n",
       "    x.observe(outputEl, {childList: true});\n",
       "}}\n",
       "\n",
       "                        })                };                });            </script>        </div>"
      ]
     },
     "metadata": {},
     "output_type": "display_data"
    }
   ],
   "source": [
    "X_embedded = PCA_fit(embedding_matrix, n_comp = 3)\n",
    "df_reduced = matrix_to_df(X_embedded, words, labels)\n",
    "plot_3d(df_reduced, color_map)"
   ]
  },
  {
   "cell_type": "code",
   "execution_count": 54,
   "id": "987cce86-f726-4857-8519-0c645e183aa8",
   "metadata": {},
   "outputs": [
    {
     "name": "stdout",
     "output_type": "stream",
     "text": [
      "\u001b[31mOUR TEAM: \n",
      "moon, card, eye, berry, battery, embassy, bridge, cycle, water\u001b[0m\n",
      "\u001b[34mTHEIR TEAM: \n",
      "dice, change, spell, moscow, rose, penguin, microscope, bell\u001b[0m\n",
      "\u001b[33mBOMB: \n",
      "giant\u001b[0m\n",
      "\u001b[30mNEUTRAL: \n",
      "phoenix, police, tag, film, doctor, mercury, beat\u001b[0m\n"
     ]
    }
   ],
   "source": [
    "def word_list_str(group):\n",
    "    return(', '.join(w for w in group))\n",
    "\n",
    "print(colored('OUR TEAM: \\n' + word_list_str(our_team), 'red'))\n",
    "print(colored('THEIR TEAM: \\n' + word_list_str(their_team), 'blue'))\n",
    "print(colored('BOMB: \\n' + word_list_str(bomb), 'yellow'))\n",
    "print(colored('NEUTRAL: \\n' + word_list_str(neutral), 'grey'))\n",
    "\n"
   ]
  },
  {
   "cell_type": "markdown",
   "id": "b929ed59-e01d-4b9f-9fe7-e9c754e2c2f5",
   "metadata": {},
   "source": [
    "# Once words are decided, find best clue"
   ]
  },
  {
   "cell_type": "code",
   "execution_count": 55,
   "id": "bd226955-5111-4080-b2d7-7fffca05f20e",
   "metadata": {},
   "outputs": [],
   "source": [
    "################### MAKE A CHOICE OF WHICH OF YOUR WORDS TO CLUE\n",
    "\n",
    "sub_list_our_words = ['cycle', 'water', 'bridge']\n",
    "others = their_team + bomb + neutral"
   ]
  },
  {
   "cell_type": "code",
   "execution_count": null,
   "id": "2101a9d4-bd29-4296-ba2f-59cc88544b3c",
   "metadata": {},
   "outputs": [],
   "source": [
    "# Algorithm from https://jsomers.net/glove-codenames/, pick words \n",
    "# that maximize distance to other words and minimize distance to our words"
   ]
  },
  {
   "cell_type": "code",
   "execution_count": 63,
   "id": "017ec33b-54f7-4042-aeaa-5e0b190c727d",
   "metadata": {},
   "outputs": [],
   "source": [
    "multiplier = 4.0\n",
    "\n",
    "def goodness(word, answers, bad):\n",
    "    if word in answers + bad: return -999\n",
    "    return sum([distance(word, b) for b in bad]) - multiplier * sum([distance(word, a) for a in answers])\n",
    "\n",
    "def minimax(word, answers, bad):\n",
    "    if word in answers + bad: return -999\n",
    "    return min([distance(word, b) for b in bad]) - max([distance(word, a) for a in answers])\n",
    "\n",
    "def candidates(answers, bad, size=100):\n",
    "    best = sorted(embeddings.keys(), key=lambda w: -1 * goodness(w, answers, bad))\n",
    "    res = [(str(i + 1), \"{0:.2f}\".format(minimax(w, answers, bad)), w) for i, w in enumerate(sorted(best[:250], key=lambda w: -1 * minimax(w, answers, bad))[:size])]\n",
    "    return [(\". \".join([c[0], c[2]]) + \" (\" + c[1] + \")\") for c in res]"
   ]
  },
  {
   "cell_type": "code",
   "execution_count": 64,
   "id": "25a41bc1-34b7-4cc8-bdaa-4037a65e396f",
   "metadata": {},
   "outputs": [],
   "source": [
    "temp = candidates(sub_list_our_words, others, size=100)"
   ]
  },
  {
   "cell_type": "markdown",
   "id": "960bfca0-40bb-4e2c-8ad2-dda50b5755b5",
   "metadata": {},
   "source": [
    "# Plot the chosen word in the board space"
   ]
  },
  {
   "cell_type": "code",
   "execution_count": 68,
   "id": "451756a0-ea39-4e4c-ac96-ed353fbf6bf3",
   "metadata": {},
   "outputs": [],
   "source": [
    "potential_clues_list = temp[:10]"
   ]
  },
  {
   "cell_type": "code",
   "execution_count": 74,
   "id": "5a4a0cf7-d83f-4736-aa07-e52ff24780a7",
   "metadata": {},
   "outputs": [],
   "source": [
    "clue_words = [potential_clues_list[i].split(' ')[1] for i, r in enumerate(potential_clues_list)]\n",
    "clue_matrix = [embeddings[word] for word in clue_words]\n",
    "embedding_matrix_with_clue = np.vstack((embedding_matrix, clue_matrix))\n",
    "words_b = words + clue_words\n",
    "\n",
    "labels_b = labels + ['clue']* len(clue_words)\n",
    "color_map['clue'] = 'lightgreen'"
   ]
  },
  {
   "cell_type": "code",
   "execution_count": 75,
   "id": "7fe2ea74-5ee8-49db-9b72-6d136bebbda6",
   "metadata": {},
   "outputs": [
    {
     "data": {
      "application/vnd.plotly.v1+json": {
       "config": {
        "plotlyServerURL": "https://plot.ly"
       },
       "data": [
        {
         "hovertemplate": "<b>%{hovertext}</b><br><br>label=our_team<br>dim1=%{x}<br>dim2=%{y}<br>dim3=%{z}<br>word=%{text}<extra></extra>",
         "hovertext": [
          "moon",
          "card",
          "eye",
          "berry",
          "battery",
          "embassy",
          "bridge",
          "cycle",
          "water"
         ],
         "legendgroup": "our_team",
         "marker": {
          "color": "deeppink",
          "symbol": "circle"
         },
         "mode": "markers+text",
         "name": "our_team",
         "scene": "scene",
         "showlegend": true,
         "text": [
          "moon",
          "card",
          "eye",
          "berry",
          "battery",
          "embassy",
          "bridge",
          "cycle",
          "water"
         ],
         "type": "scatter3d",
         "x": [
          -1.172070026397705,
          -2.5759117603302,
          -1.8176651000976562,
          -1.0822646617889404,
          -1.606563687324524,
          -0.5127291679382324,
          0.8963571190834045,
          0.24577437341213226,
          -0.08527518808841705
         ],
         "y": [
          -1.2168554067611694,
          -0.11019246280193329,
          -1.1667340993881226,
          -1.0609863996505737,
          5.5561323165893555,
          -2.089780807495117,
          -0.03444443270564079,
          2.0032169818878174,
          1.877374529838562
         ],
         "z": [
          -1.627792239189148,
          -0.021590761840343475,
          -1.1055943965911865,
          -0.7646538615226746,
          1.2463300228118896,
          3.5736865997314453,
          1.3150360584259033,
          -0.3653722107410431,
          -0.7145280241966248
         ]
        },
        {
         "hovertemplate": "<b>%{hovertext}</b><br><br>label=their_team<br>dim1=%{x}<br>dim2=%{y}<br>dim3=%{z}<br>word=%{text}<extra></extra>",
         "hovertext": [
          "dice",
          "change",
          "spell",
          "moscow",
          "rose",
          "penguin",
          "microscope",
          "bell"
         ],
         "legendgroup": "their_team",
         "marker": {
          "color": "cornflowerblue",
          "symbol": "circle"
         },
         "mode": "markers+text",
         "name": "their_team",
         "scene": "scene",
         "showlegend": true,
         "text": [
          "dice",
          "change",
          "spell",
          "moscow",
          "rose",
          "penguin",
          "microscope",
          "bell"
         ],
         "type": "scatter3d",
         "x": [
          -1.1907401084899902,
          -1.5361065864562988,
          -1.3428043127059937,
          -0.48476549983024597,
          -1.3931281566619873,
          -0.30640989542007446,
          -1.192156195640564,
          -1.3157744407653809
         ],
         "y": [
          -0.30501747131347656,
          0.37781113386154175,
          -0.29554763436317444,
          -2.0021402835845947,
          -1.4887504577636719,
          -0.783632218837738,
          1.2154438495635986,
          0.17867496609687805
         ],
         "z": [
          -1.7062153816223145,
          -0.16053920984268188,
          -0.7186563014984131,
          2.2921154499053955,
          -0.05815788730978966,
          -1.5376733541488647,
          -2.010648727416992,
          0.15989942848682404
         ]
        },
        {
         "hovertemplate": "<b>%{hovertext}</b><br><br>label=bomb<br>dim1=%{x}<br>dim2=%{y}<br>dim3=%{z}<br>word=%{text}<extra></extra>",
         "hovertext": [
          "giant"
         ],
         "legendgroup": "bomb",
         "marker": {
          "color": "yellow",
          "symbol": "circle"
         },
         "mode": "markers+text",
         "name": "bomb",
         "scene": "scene",
         "showlegend": true,
         "text": [
          "giant"
         ],
         "type": "scatter3d",
         "x": [
          -0.9914030432701111
         ],
         "y": [
          -0.5753219723701477
         ],
         "z": [
          -0.9928843379020691
         ]
        },
        {
         "hovertemplate": "<b>%{hovertext}</b><br><br>label=neutral<br>dim1=%{x}<br>dim2=%{y}<br>dim3=%{z}<br>word=%{text}<extra></extra>",
         "hovertext": [
          "phoenix",
          "police",
          "tag",
          "film",
          "doctor",
          "mercury",
          "beat"
         ],
         "legendgroup": "neutral",
         "marker": {
          "color": "grey",
          "symbol": "circle"
         },
         "mode": "markers+text",
         "name": "neutral",
         "scene": "scene",
         "showlegend": true,
         "text": [
          "phoenix",
          "police",
          "tag",
          "film",
          "doctor",
          "mercury",
          "beat"
         ],
         "type": "scatter3d",
         "x": [
          -1.2800955772399902,
          -1.7400808334350586,
          -1.3087313175201416,
          -2.351219415664673,
          -1.8353362083435059,
          -1.8727623224258423,
          -1.4190306663513184
         ],
         "y": [
          -1.1097521781921387,
          -1.4607678651809692,
          -0.5054882168769836,
          -1.2619205713272095,
          -0.7664946913719177,
          1.647439956665039,
          -0.995121419429779
         ],
         "z": [
          0.6554526090621948,
          3.7805230617523193,
          -0.1472136676311493,
          -0.009069239720702171,
          0.1370021253824234,
          -1.8310469388961792,
          -0.005241988692432642
         ]
        },
        {
         "hovertemplate": "<b>%{hovertext}</b><br><br>label=clue<br>dim1=%{x}<br>dim2=%{y}<br>dim3=%{z}<br>word=%{text}<extra></extra>",
         "hovertext": [
          "rowing",
          "meandering",
          "meander",
          "canoeing",
          "mains",
          "trailhead",
          "ramp",
          "footpath",
          "steelhead",
          "boiler"
         ],
         "legendgroup": "clue",
         "marker": {
          "color": "lightgreen",
          "symbol": "circle"
         },
         "mode": "markers+text",
         "name": "clue",
         "scene": "scene",
         "showlegend": true,
         "text": [
          "rowing",
          "meandering",
          "meander",
          "canoeing",
          "mains",
          "trailhead",
          "ramp",
          "footpath",
          "steelhead",
          "boiler"
         ],
         "type": "scatter3d",
         "x": [
          2.7430641651153564,
          3.94262957572937,
          3.906322717666626,
          4.297395706176758,
          1.0455663204193115,
          4.026256561279297,
          1.9035663604736328,
          3.945002317428589,
          3.273056983947754,
          0.18803106248378754
         ],
         "y": [
          -0.7963125705718994,
          -0.5832244157791138,
          -0.30763739347457886,
          -1.1287875175476074,
          4.356883525848389,
          -0.37090811133384705,
          0.24838681519031525,
          0.175191730260849,
          -0.42568883299827576,
          3.2049524784088135
         ],
         "z": [
          -1.942885160446167,
          -0.051157157868146896,
          -0.02084137313067913,
          -2.0734708309173584,
          1.0332170724868774,
          1.6138101816177368,
          1.586044192314148,
          1.7658754587173462,
          -2.187955379486084,
          0.8941947221755981
         ]
        }
       ],
       "layout": {
        "autosize": true,
        "legend": {
         "title": {
          "text": "label"
         },
         "tracegroupgap": 0
        },
        "margin": {
         "t": 60
        },
        "scene": {
         "aspectmode": "auto",
         "aspectratio": {
          "x": 1.0116093894688925,
          "y": 1.125321040136457,
          "z": 0.8784371805598632
         },
         "camera": {
          "center": {
           "x": 0,
           "y": 0,
           "z": 0
          },
          "eye": {
           "x": 1.222842394685949,
           "y": 1.3712736677505106,
           "z": 1.1453231010910399
          },
          "projection": {
           "type": "perspective"
          },
          "up": {
           "x": 0,
           "y": 0,
           "z": 1
          }
         },
         "domain": {
          "x": [
           0,
           1
          ],
          "y": [
           0,
           1
          ]
         },
         "xaxis": {
          "title": {
           "text": "dim1"
          },
          "type": "linear"
         },
         "yaxis": {
          "title": {
           "text": "dim2"
          },
          "type": "linear"
         },
         "zaxis": {
          "title": {
           "text": "dim3"
          },
          "type": "linear"
         }
        },
        "template": {
         "data": {
          "bar": [
           {
            "error_x": {
             "color": "#2a3f5f"
            },
            "error_y": {
             "color": "#2a3f5f"
            },
            "marker": {
             "line": {
              "color": "#E5ECF6",
              "width": 0.5
             },
             "pattern": {
              "fillmode": "overlay",
              "size": 10,
              "solidity": 0.2
             }
            },
            "type": "bar"
           }
          ],
          "barpolar": [
           {
            "marker": {
             "line": {
              "color": "#E5ECF6",
              "width": 0.5
             },
             "pattern": {
              "fillmode": "overlay",
              "size": 10,
              "solidity": 0.2
             }
            },
            "type": "barpolar"
           }
          ],
          "carpet": [
           {
            "aaxis": {
             "endlinecolor": "#2a3f5f",
             "gridcolor": "white",
             "linecolor": "white",
             "minorgridcolor": "white",
             "startlinecolor": "#2a3f5f"
            },
            "baxis": {
             "endlinecolor": "#2a3f5f",
             "gridcolor": "white",
             "linecolor": "white",
             "minorgridcolor": "white",
             "startlinecolor": "#2a3f5f"
            },
            "type": "carpet"
           }
          ],
          "choropleth": [
           {
            "colorbar": {
             "outlinewidth": 0,
             "ticks": ""
            },
            "type": "choropleth"
           }
          ],
          "contour": [
           {
            "colorbar": {
             "outlinewidth": 0,
             "ticks": ""
            },
            "colorscale": [
             [
              0,
              "#0d0887"
             ],
             [
              0.1111111111111111,
              "#46039f"
             ],
             [
              0.2222222222222222,
              "#7201a8"
             ],
             [
              0.3333333333333333,
              "#9c179e"
             ],
             [
              0.4444444444444444,
              "#bd3786"
             ],
             [
              0.5555555555555556,
              "#d8576b"
             ],
             [
              0.6666666666666666,
              "#ed7953"
             ],
             [
              0.7777777777777778,
              "#fb9f3a"
             ],
             [
              0.8888888888888888,
              "#fdca26"
             ],
             [
              1,
              "#f0f921"
             ]
            ],
            "type": "contour"
           }
          ],
          "contourcarpet": [
           {
            "colorbar": {
             "outlinewidth": 0,
             "ticks": ""
            },
            "type": "contourcarpet"
           }
          ],
          "heatmap": [
           {
            "colorbar": {
             "outlinewidth": 0,
             "ticks": ""
            },
            "colorscale": [
             [
              0,
              "#0d0887"
             ],
             [
              0.1111111111111111,
              "#46039f"
             ],
             [
              0.2222222222222222,
              "#7201a8"
             ],
             [
              0.3333333333333333,
              "#9c179e"
             ],
             [
              0.4444444444444444,
              "#bd3786"
             ],
             [
              0.5555555555555556,
              "#d8576b"
             ],
             [
              0.6666666666666666,
              "#ed7953"
             ],
             [
              0.7777777777777778,
              "#fb9f3a"
             ],
             [
              0.8888888888888888,
              "#fdca26"
             ],
             [
              1,
              "#f0f921"
             ]
            ],
            "type": "heatmap"
           }
          ],
          "heatmapgl": [
           {
            "colorbar": {
             "outlinewidth": 0,
             "ticks": ""
            },
            "colorscale": [
             [
              0,
              "#0d0887"
             ],
             [
              0.1111111111111111,
              "#46039f"
             ],
             [
              0.2222222222222222,
              "#7201a8"
             ],
             [
              0.3333333333333333,
              "#9c179e"
             ],
             [
              0.4444444444444444,
              "#bd3786"
             ],
             [
              0.5555555555555556,
              "#d8576b"
             ],
             [
              0.6666666666666666,
              "#ed7953"
             ],
             [
              0.7777777777777778,
              "#fb9f3a"
             ],
             [
              0.8888888888888888,
              "#fdca26"
             ],
             [
              1,
              "#f0f921"
             ]
            ],
            "type": "heatmapgl"
           }
          ],
          "histogram": [
           {
            "marker": {
             "pattern": {
              "fillmode": "overlay",
              "size": 10,
              "solidity": 0.2
             }
            },
            "type": "histogram"
           }
          ],
          "histogram2d": [
           {
            "colorbar": {
             "outlinewidth": 0,
             "ticks": ""
            },
            "colorscale": [
             [
              0,
              "#0d0887"
             ],
             [
              0.1111111111111111,
              "#46039f"
             ],
             [
              0.2222222222222222,
              "#7201a8"
             ],
             [
              0.3333333333333333,
              "#9c179e"
             ],
             [
              0.4444444444444444,
              "#bd3786"
             ],
             [
              0.5555555555555556,
              "#d8576b"
             ],
             [
              0.6666666666666666,
              "#ed7953"
             ],
             [
              0.7777777777777778,
              "#fb9f3a"
             ],
             [
              0.8888888888888888,
              "#fdca26"
             ],
             [
              1,
              "#f0f921"
             ]
            ],
            "type": "histogram2d"
           }
          ],
          "histogram2dcontour": [
           {
            "colorbar": {
             "outlinewidth": 0,
             "ticks": ""
            },
            "colorscale": [
             [
              0,
              "#0d0887"
             ],
             [
              0.1111111111111111,
              "#46039f"
             ],
             [
              0.2222222222222222,
              "#7201a8"
             ],
             [
              0.3333333333333333,
              "#9c179e"
             ],
             [
              0.4444444444444444,
              "#bd3786"
             ],
             [
              0.5555555555555556,
              "#d8576b"
             ],
             [
              0.6666666666666666,
              "#ed7953"
             ],
             [
              0.7777777777777778,
              "#fb9f3a"
             ],
             [
              0.8888888888888888,
              "#fdca26"
             ],
             [
              1,
              "#f0f921"
             ]
            ],
            "type": "histogram2dcontour"
           }
          ],
          "mesh3d": [
           {
            "colorbar": {
             "outlinewidth": 0,
             "ticks": ""
            },
            "type": "mesh3d"
           }
          ],
          "parcoords": [
           {
            "line": {
             "colorbar": {
              "outlinewidth": 0,
              "ticks": ""
             }
            },
            "type": "parcoords"
           }
          ],
          "pie": [
           {
            "automargin": true,
            "type": "pie"
           }
          ],
          "scatter": [
           {
            "fillpattern": {
             "fillmode": "overlay",
             "size": 10,
             "solidity": 0.2
            },
            "type": "scatter"
           }
          ],
          "scatter3d": [
           {
            "line": {
             "colorbar": {
              "outlinewidth": 0,
              "ticks": ""
             }
            },
            "marker": {
             "colorbar": {
              "outlinewidth": 0,
              "ticks": ""
             }
            },
            "type": "scatter3d"
           }
          ],
          "scattercarpet": [
           {
            "marker": {
             "colorbar": {
              "outlinewidth": 0,
              "ticks": ""
             }
            },
            "type": "scattercarpet"
           }
          ],
          "scattergeo": [
           {
            "marker": {
             "colorbar": {
              "outlinewidth": 0,
              "ticks": ""
             }
            },
            "type": "scattergeo"
           }
          ],
          "scattergl": [
           {
            "marker": {
             "colorbar": {
              "outlinewidth": 0,
              "ticks": ""
             }
            },
            "type": "scattergl"
           }
          ],
          "scattermapbox": [
           {
            "marker": {
             "colorbar": {
              "outlinewidth": 0,
              "ticks": ""
             }
            },
            "type": "scattermapbox"
           }
          ],
          "scatterpolar": [
           {
            "marker": {
             "colorbar": {
              "outlinewidth": 0,
              "ticks": ""
             }
            },
            "type": "scatterpolar"
           }
          ],
          "scatterpolargl": [
           {
            "marker": {
             "colorbar": {
              "outlinewidth": 0,
              "ticks": ""
             }
            },
            "type": "scatterpolargl"
           }
          ],
          "scatterternary": [
           {
            "marker": {
             "colorbar": {
              "outlinewidth": 0,
              "ticks": ""
             }
            },
            "type": "scatterternary"
           }
          ],
          "surface": [
           {
            "colorbar": {
             "outlinewidth": 0,
             "ticks": ""
            },
            "colorscale": [
             [
              0,
              "#0d0887"
             ],
             [
              0.1111111111111111,
              "#46039f"
             ],
             [
              0.2222222222222222,
              "#7201a8"
             ],
             [
              0.3333333333333333,
              "#9c179e"
             ],
             [
              0.4444444444444444,
              "#bd3786"
             ],
             [
              0.5555555555555556,
              "#d8576b"
             ],
             [
              0.6666666666666666,
              "#ed7953"
             ],
             [
              0.7777777777777778,
              "#fb9f3a"
             ],
             [
              0.8888888888888888,
              "#fdca26"
             ],
             [
              1,
              "#f0f921"
             ]
            ],
            "type": "surface"
           }
          ],
          "table": [
           {
            "cells": {
             "fill": {
              "color": "#EBF0F8"
             },
             "line": {
              "color": "white"
             }
            },
            "header": {
             "fill": {
              "color": "#C8D4E3"
             },
             "line": {
              "color": "white"
             }
            },
            "type": "table"
           }
          ]
         },
         "layout": {
          "annotationdefaults": {
           "arrowcolor": "#2a3f5f",
           "arrowhead": 0,
           "arrowwidth": 1
          },
          "autotypenumbers": "strict",
          "coloraxis": {
           "colorbar": {
            "outlinewidth": 0,
            "ticks": ""
           }
          },
          "colorscale": {
           "diverging": [
            [
             0,
             "#8e0152"
            ],
            [
             0.1,
             "#c51b7d"
            ],
            [
             0.2,
             "#de77ae"
            ],
            [
             0.3,
             "#f1b6da"
            ],
            [
             0.4,
             "#fde0ef"
            ],
            [
             0.5,
             "#f7f7f7"
            ],
            [
             0.6,
             "#e6f5d0"
            ],
            [
             0.7,
             "#b8e186"
            ],
            [
             0.8,
             "#7fbc41"
            ],
            [
             0.9,
             "#4d9221"
            ],
            [
             1,
             "#276419"
            ]
           ],
           "sequential": [
            [
             0,
             "#0d0887"
            ],
            [
             0.1111111111111111,
             "#46039f"
            ],
            [
             0.2222222222222222,
             "#7201a8"
            ],
            [
             0.3333333333333333,
             "#9c179e"
            ],
            [
             0.4444444444444444,
             "#bd3786"
            ],
            [
             0.5555555555555556,
             "#d8576b"
            ],
            [
             0.6666666666666666,
             "#ed7953"
            ],
            [
             0.7777777777777778,
             "#fb9f3a"
            ],
            [
             0.8888888888888888,
             "#fdca26"
            ],
            [
             1,
             "#f0f921"
            ]
           ],
           "sequentialminus": [
            [
             0,
             "#0d0887"
            ],
            [
             0.1111111111111111,
             "#46039f"
            ],
            [
             0.2222222222222222,
             "#7201a8"
            ],
            [
             0.3333333333333333,
             "#9c179e"
            ],
            [
             0.4444444444444444,
             "#bd3786"
            ],
            [
             0.5555555555555556,
             "#d8576b"
            ],
            [
             0.6666666666666666,
             "#ed7953"
            ],
            [
             0.7777777777777778,
             "#fb9f3a"
            ],
            [
             0.8888888888888888,
             "#fdca26"
            ],
            [
             1,
             "#f0f921"
            ]
           ]
          },
          "colorway": [
           "#636efa",
           "#EF553B",
           "#00cc96",
           "#ab63fa",
           "#FFA15A",
           "#19d3f3",
           "#FF6692",
           "#B6E880",
           "#FF97FF",
           "#FECB52"
          ],
          "font": {
           "color": "#2a3f5f"
          },
          "geo": {
           "bgcolor": "white",
           "lakecolor": "white",
           "landcolor": "#E5ECF6",
           "showlakes": true,
           "showland": true,
           "subunitcolor": "white"
          },
          "hoverlabel": {
           "align": "left"
          },
          "hovermode": "closest",
          "mapbox": {
           "style": "light"
          },
          "paper_bgcolor": "white",
          "plot_bgcolor": "#E5ECF6",
          "polar": {
           "angularaxis": {
            "gridcolor": "white",
            "linecolor": "white",
            "ticks": ""
           },
           "bgcolor": "#E5ECF6",
           "radialaxis": {
            "gridcolor": "white",
            "linecolor": "white",
            "ticks": ""
           }
          },
          "scene": {
           "xaxis": {
            "backgroundcolor": "#E5ECF6",
            "gridcolor": "white",
            "gridwidth": 2,
            "linecolor": "white",
            "showbackground": true,
            "ticks": "",
            "zerolinecolor": "white"
           },
           "yaxis": {
            "backgroundcolor": "#E5ECF6",
            "gridcolor": "white",
            "gridwidth": 2,
            "linecolor": "white",
            "showbackground": true,
            "ticks": "",
            "zerolinecolor": "white"
           },
           "zaxis": {
            "backgroundcolor": "#E5ECF6",
            "gridcolor": "white",
            "gridwidth": 2,
            "linecolor": "white",
            "showbackground": true,
            "ticks": "",
            "zerolinecolor": "white"
           }
          },
          "shapedefaults": {
           "line": {
            "color": "#2a3f5f"
           }
          },
          "ternary": {
           "aaxis": {
            "gridcolor": "white",
            "linecolor": "white",
            "ticks": ""
           },
           "baxis": {
            "gridcolor": "white",
            "linecolor": "white",
            "ticks": ""
           },
           "bgcolor": "#E5ECF6",
           "caxis": {
            "gridcolor": "white",
            "linecolor": "white",
            "ticks": ""
           }
          },
          "title": {
           "x": 0.05
          },
          "xaxis": {
           "automargin": true,
           "gridcolor": "white",
           "linecolor": "white",
           "ticks": "",
           "title": {
            "standoff": 15
           },
           "zerolinecolor": "white",
           "zerolinewidth": 2
          },
          "yaxis": {
           "automargin": true,
           "gridcolor": "white",
           "linecolor": "white",
           "ticks": "",
           "title": {
            "standoff": 15
           },
           "zerolinecolor": "white",
           "zerolinewidth": 2
          }
         }
        }
       }
      },
      "image/png": "[encoded data removed]",
      "text/html": [
       "<div>                            <div id=\"0d9bed9c-dc8d-45ee-bd30-b334fa66b9c9\" class=\"plotly-graph-div\" style=\"height:525px; width:100%;\"></div>            <script type=\"text/javascript\">                require([\"plotly\"], function(Plotly) {                    window.PLOTLYENV=window.PLOTLYENV || {};                                    if (document.getElementById(\"0d9bed9c-dc8d-45ee-bd30-b334fa66b9c9\")) {                    Plotly.newPlot(                        \"0d9bed9c-dc8d-45ee-bd30-b334fa66b9c9\",                        [{\"hovertemplate\":\"<b>%{hovertext}</b><br><br>label=our_team<br>dim1=%{x}<br>dim2=%{y}<br>dim3=%{z}<br>word=%{text}<extra></extra>\",\"hovertext\":[\"moon\",\"card\",\"eye\",\"berry\",\"battery\",\"embassy\",\"bridge\",\"cycle\",\"water\"],\"legendgroup\":\"our_team\",\"marker\":{\"color\":\"deeppink\",\"symbol\":\"circle\"},\"mode\":\"markers+text\",\"name\":\"our_team\",\"scene\":\"scene\",\"showlegend\":true,\"text\":[\"moon\",\"card\",\"eye\",\"berry\",\"battery\",\"embassy\",\"bridge\",\"cycle\",\"water\"],\"x\":[-1.172070026397705,-2.5759117603302,-1.8176651000976562,-1.0822646617889404,-1.606563687324524,-0.5127291679382324,0.8963571190834045,0.24577437341213226,-0.08527518808841705],\"y\":[-1.2168554067611694,-0.11019246280193329,-1.1667340993881226,-1.0609863996505737,5.5561323165893555,-2.089780807495117,-0.03444443270564079,2.0032169818878174,1.877374529838562],\"z\":[-1.627792239189148,-0.021590761840343475,-1.1055943965911865,-0.7646538615226746,1.2463300228118896,3.5736865997314453,1.3150360584259033,-0.3653722107410431,-0.7145280241966248],\"type\":\"scatter3d\"},{\"hovertemplate\":\"<b>%{hovertext}</b><br><br>label=their_team<br>dim1=%{x}<br>dim2=%{y}<br>dim3=%{z}<br>word=%{text}<extra></extra>\",\"hovertext\":[\"dice\",\"change\",\"spell\",\"moscow\",\"rose\",\"penguin\",\"microscope\",\"bell\"],\"legendgroup\":\"their_team\",\"marker\":{\"color\":\"cornflowerblue\",\"symbol\":\"circle\"},\"mode\":\"markers+text\",\"name\":\"their_team\",\"scene\":\"scene\",\"showlegend\":true,\"text\":[\"dice\",\"change\",\"spell\",\"moscow\",\"rose\",\"penguin\",\"microscope\",\"bell\"],\"x\":[-1.1907401084899902,-1.5361065864562988,-1.3428043127059937,-0.48476549983024597,-1.3931281566619873,-0.30640989542007446,-1.192156195640564,-1.3157744407653809],\"y\":[-0.30501747131347656,0.37781113386154175,-0.29554763436317444,-2.0021402835845947,-1.4887504577636719,-0.783632218837738,1.2154438495635986,0.17867496609687805],\"z\":[-1.7062153816223145,-0.16053920984268188,-0.7186563014984131,2.2921154499053955,-0.05815788730978966,-1.5376733541488647,-2.010648727416992,0.15989942848682404],\"type\":\"scatter3d\"},{\"hovertemplate\":\"<b>%{hovertext}</b><br><br>label=bomb<br>dim1=%{x}<br>dim2=%{y}<br>dim3=%{z}<br>word=%{text}<extra></extra>\",\"hovertext\":[\"giant\"],\"legendgroup\":\"bomb\",\"marker\":{\"color\":\"yellow\",\"symbol\":\"circle\"},\"mode\":\"markers+text\",\"name\":\"bomb\",\"scene\":\"scene\",\"showlegend\":true,\"text\":[\"giant\"],\"x\":[-0.9914030432701111],\"y\":[-0.5753219723701477],\"z\":[-0.9928843379020691],\"type\":\"scatter3d\"},{\"hovertemplate\":\"<b>%{hovertext}</b><br><br>label=neutral<br>dim1=%{x}<br>dim2=%{y}<br>dim3=%{z}<br>word=%{text}<extra></extra>\",\"hovertext\":[\"phoenix\",\"police\",\"tag\",\"film\",\"doctor\",\"mercury\",\"beat\"],\"legendgroup\":\"neutral\",\"marker\":{\"color\":\"grey\",\"symbol\":\"circle\"},\"mode\":\"markers+text\",\"name\":\"neutral\",\"scene\":\"scene\",\"showlegend\":true,\"text\":[\"phoenix\",\"police\",\"tag\",\"film\",\"doctor\",\"mercury\",\"beat\"],\"x\":[-1.2800955772399902,-1.7400808334350586,-1.3087313175201416,-2.351219415664673,-1.8353362083435059,-1.8727623224258423,-1.4190306663513184],\"y\":[-1.1097521781921387,-1.4607678651809692,-0.5054882168769836,-1.2619205713272095,-0.7664946913719177,1.647439956665039,-0.995121419429779],\"z\":[0.6554526090621948,3.7805230617523193,-0.1472136676311493,-0.009069239720702171,0.1370021253824234,-1.8310469388961792,-0.005241988692432642],\"type\":\"scatter3d\"},{\"hovertemplate\":\"<b>%{hovertext}</b><br><br>label=clue<br>dim1=%{x}<br>dim2=%{y}<br>dim3=%{z}<br>word=%{text}<extra></extra>\",\"hovertext\":[\"rowing\",\"meandering\",\"meander\",\"canoeing\",\"mains\",\"trailhead\",\"ramp\",\"footpath\",\"steelhead\",\"boiler\"],\"legendgroup\":\"clue\",\"marker\":{\"color\":\"lightgreen\",\"symbol\":\"circle\"},\"mode\":\"markers+text\",\"name\":\"clue\",\"scene\":\"scene\",\"showlegend\":true,\"text\":[\"rowing\",\"meandering\",\"meander\",\"canoeing\",\"mains\",\"trailhead\",\"ramp\",\"footpath\",\"steelhead\",\"boiler\"],\"x\":[2.7430641651153564,3.94262957572937,3.906322717666626,4.297395706176758,1.0455663204193115,4.026256561279297,1.9035663604736328,3.945002317428589,3.273056983947754,0.18803106248378754],\"y\":[-0.7963125705718994,-0.5832244157791138,-0.30763739347457886,-1.1287875175476074,4.356883525848389,-0.37090811133384705,0.24838681519031525,0.175191730260849,-0.42568883299827576,3.2049524784088135],\"z\":[-1.942885160446167,-0.051157157868146896,-0.02084137313067913,-2.0734708309173584,1.0332170724868774,1.6138101816177368,1.586044192314148,1.7658754587173462,-2.187955379486084,0.8941947221755981],\"type\":\"scatter3d\"}],                        {\"template\":{\"data\":{\"histogram2dcontour\":[{\"type\":\"histogram2dcontour\",\"colorbar\":{\"outlinewidth\":0,\"ticks\":\"\"},\"colorscale\":[[0.0,\"#0d0887\"],[0.1111111111111111,\"#46039f\"],[0.2222222222222222,\"#7201a8\"],[0.3333333333333333,\"#9c179e\"],[0.4444444444444444,\"#bd3786\"],[0.5555555555555556,\"#d8576b\"],[0.6666666666666666,\"#ed7953\"],[0.7777777777777778,\"#fb9f3a\"],[0.8888888888888888,\"#fdca26\"],[1.0,\"#f0f921\"]]}],\"choropleth\":[{\"type\":\"choropleth\",\"colorbar\":{\"outlinewidth\":0,\"ticks\":\"\"}}],\"histogram2d\":[{\"type\":\"histogram2d\",\"colorbar\":{\"outlinewidth\":0,\"ticks\":\"\"},\"colorscale\":[[0.0,\"#0d0887\"],[0.1111111111111111,\"#46039f\"],[0.2222222222222222,\"#7201a8\"],[0.3333333333333333,\"#9c179e\"],[0.4444444444444444,\"#bd3786\"],[0.5555555555555556,\"#d8576b\"],[0.6666666666666666,\"#ed7953\"],[0.7777777777777778,\"#fb9f3a\"],[0.8888888888888888,\"#fdca26\"],[1.0,\"#f0f921\"]]}],\"heatmap\":[{\"type\":\"heatmap\",\"colorbar\":{\"outlinewidth\":0,\"ticks\":\"\"},\"colorscale\":[[0.0,\"#0d0887\"],[0.1111111111111111,\"#46039f\"],[0.2222222222222222,\"#7201a8\"],[0.3333333333333333,\"#9c179e\"],[0.4444444444444444,\"#bd3786\"],[0.5555555555555556,\"#d8576b\"],[0.6666666666666666,\"#ed7953\"],[0.7777777777777778,\"#fb9f3a\"],[0.8888888888888888,\"#fdca26\"],[1.0,\"#f0f921\"]]}],\"heatmapgl\":[{\"type\":\"heatmapgl\",\"colorbar\":{\"outlinewidth\":0,\"ticks\":\"\"},\"colorscale\":[[0.0,\"#0d0887\"],[0.1111111111111111,\"#46039f\"],[0.2222222222222222,\"#7201a8\"],[0.3333333333333333,\"#9c179e\"],[0.4444444444444444,\"#bd3786\"],[0.5555555555555556,\"#d8576b\"],[0.6666666666666666,\"#ed7953\"],[0.7777777777777778,\"#fb9f3a\"],[0.8888888888888888,\"#fdca26\"],[1.0,\"#f0f921\"]]}],\"contourcarpet\":[{\"type\":\"contourcarpet\",\"colorbar\":{\"outlinewidth\":0,\"ticks\":\"\"}}],\"contour\":[{\"type\":\"contour\",\"colorbar\":{\"outlinewidth\":0,\"ticks\":\"\"},\"colorscale\":[[0.0,\"#0d0887\"],[0.1111111111111111,\"#46039f\"],[0.2222222222222222,\"#7201a8\"],[0.3333333333333333,\"#9c179e\"],[0.4444444444444444,\"#bd3786\"],[0.5555555555555556,\"#d8576b\"],[0.6666666666666666,\"#ed7953\"],[0.7777777777777778,\"#fb9f3a\"],[0.8888888888888888,\"#fdca26\"],[1.0,\"#f0f921\"]]}],\"surface\":[{\"type\":\"surface\",\"colorbar\":{\"outlinewidth\":0,\"ticks\":\"\"},\"colorscale\":[[0.0,\"#0d0887\"],[0.1111111111111111,\"#46039f\"],[0.2222222222222222,\"#7201a8\"],[0.3333333333333333,\"#9c179e\"],[0.4444444444444444,\"#bd3786\"],[0.5555555555555556,\"#d8576b\"],[0.6666666666666666,\"#ed7953\"],[0.7777777777777778,\"#fb9f3a\"],[0.8888888888888888,\"#fdca26\"],[1.0,\"#f0f921\"]]}],\"mesh3d\":[{\"type\":\"mesh3d\",\"colorbar\":{\"outlinewidth\":0,\"ticks\":\"\"}}],\"scatter\":[{\"fillpattern\":{\"fillmode\":\"overlay\",\"size\":10,\"solidity\":0.2},\"type\":\"scatter\"}],\"parcoords\":[{\"type\":\"parcoords\",\"line\":{\"colorbar\":{\"outlinewidth\":0,\"ticks\":\"\"}}}],\"scatterpolargl\":[{\"type\":\"scatterpolargl\",\"marker\":{\"colorbar\":{\"outlinewidth\":0,\"ticks\":\"\"}}}],\"bar\":[{\"error_x\":{\"color\":\"#2a3f5f\"},\"error_y\":{\"color\":\"#2a3f5f\"},\"marker\":{\"line\":{\"color\":\"#E5ECF6\",\"width\":0.5},\"pattern\":{\"fillmode\":\"overlay\",\"size\":10,\"solidity\":0.2}},\"type\":\"bar\"}],\"scattergeo\":[{\"type\":\"scattergeo\",\"marker\":{\"colorbar\":{\"outlinewidth\":0,\"ticks\":\"\"}}}],\"scatterpolar\":[{\"type\":\"scatterpolar\",\"marker\":{\"colorbar\":{\"outlinewidth\":0,\"ticks\":\"\"}}}],\"histogram\":[{\"marker\":{\"pattern\":{\"fillmode\":\"overlay\",\"size\":10,\"solidity\":0.2}},\"type\":\"histogram\"}],\"scattergl\":[{\"type\":\"scattergl\",\"marker\":{\"colorbar\":{\"outlinewidth\":0,\"ticks\":\"\"}}}],\"scatter3d\":[{\"type\":\"scatter3d\",\"line\":{\"colorbar\":{\"outlinewidth\":0,\"ticks\":\"\"}},\"marker\":{\"colorbar\":{\"outlinewidth\":0,\"ticks\":\"\"}}}],\"scattermapbox\":[{\"type\":\"scattermapbox\",\"marker\":{\"colorbar\":{\"outlinewidth\":0,\"ticks\":\"\"}}}],\"scatterternary\":[{\"type\":\"scatterternary\",\"marker\":{\"colorbar\":{\"outlinewidth\":0,\"ticks\":\"\"}}}],\"scattercarpet\":[{\"type\":\"scattercarpet\",\"marker\":{\"colorbar\":{\"outlinewidth\":0,\"ticks\":\"\"}}}],\"carpet\":[{\"aaxis\":{\"endlinecolor\":\"#2a3f5f\",\"gridcolor\":\"white\",\"linecolor\":\"white\",\"minorgridcolor\":\"white\",\"startlinecolor\":\"#2a3f5f\"},\"baxis\":{\"endlinecolor\":\"#2a3f5f\",\"gridcolor\":\"white\",\"linecolor\":\"white\",\"minorgridcolor\":\"white\",\"startlinecolor\":\"#2a3f5f\"},\"type\":\"carpet\"}],\"table\":[{\"cells\":{\"fill\":{\"color\":\"#EBF0F8\"},\"line\":{\"color\":\"white\"}},\"header\":{\"fill\":{\"color\":\"#C8D4E3\"},\"line\":{\"color\":\"white\"}},\"type\":\"table\"}],\"barpolar\":[{\"marker\":{\"line\":{\"color\":\"#E5ECF6\",\"width\":0.5},\"pattern\":{\"fillmode\":\"overlay\",\"size\":10,\"solidity\":0.2}},\"type\":\"barpolar\"}],\"pie\":[{\"automargin\":true,\"type\":\"pie\"}]},\"layout\":{\"autotypenumbers\":\"strict\",\"colorway\":[\"#636efa\",\"#EF553B\",\"#00cc96\",\"#ab63fa\",\"#FFA15A\",\"#19d3f3\",\"#FF6692\",\"#B6E880\",\"#FF97FF\",\"#FECB52\"],\"font\":{\"color\":\"#2a3f5f\"},\"hovermode\":\"closest\",\"hoverlabel\":{\"align\":\"left\"},\"paper_bgcolor\":\"white\",\"plot_bgcolor\":\"#E5ECF6\",\"polar\":{\"bgcolor\":\"#E5ECF6\",\"angularaxis\":{\"gridcolor\":\"white\",\"linecolor\":\"white\",\"ticks\":\"\"},\"radialaxis\":{\"gridcolor\":\"white\",\"linecolor\":\"white\",\"ticks\":\"\"}},\"ternary\":{\"bgcolor\":\"#E5ECF6\",\"aaxis\":{\"gridcolor\":\"white\",\"linecolor\":\"white\",\"ticks\":\"\"},\"baxis\":{\"gridcolor\":\"white\",\"linecolor\":\"white\",\"ticks\":\"\"},\"caxis\":{\"gridcolor\":\"white\",\"linecolor\":\"white\",\"ticks\":\"\"}},\"coloraxis\":{\"colorbar\":{\"outlinewidth\":0,\"ticks\":\"\"}},\"colorscale\":{\"sequential\":[[0.0,\"#0d0887\"],[0.1111111111111111,\"#46039f\"],[0.2222222222222222,\"#7201a8\"],[0.3333333333333333,\"#9c179e\"],[0.4444444444444444,\"#bd3786\"],[0.5555555555555556,\"#d8576b\"],[0.6666666666666666,\"#ed7953\"],[0.7777777777777778,\"#fb9f3a\"],[0.8888888888888888,\"#fdca26\"],[1.0,\"#f0f921\"]],\"sequentialminus\":[[0.0,\"#0d0887\"],[0.1111111111111111,\"#46039f\"],[0.2222222222222222,\"#7201a8\"],[0.3333333333333333,\"#9c179e\"],[0.4444444444444444,\"#bd3786\"],[0.5555555555555556,\"#d8576b\"],[0.6666666666666666,\"#ed7953\"],[0.7777777777777778,\"#fb9f3a\"],[0.8888888888888888,\"#fdca26\"],[1.0,\"#f0f921\"]],\"diverging\":[[0,\"#8e0152\"],[0.1,\"#c51b7d\"],[0.2,\"#de77ae\"],[0.3,\"#f1b6da\"],[0.4,\"#fde0ef\"],[0.5,\"#f7f7f7\"],[0.6,\"#e6f5d0\"],[0.7,\"#b8e186\"],[0.8,\"#7fbc41\"],[0.9,\"#4d9221\"],[1,\"#276419\"]]},\"xaxis\":{\"gridcolor\":\"white\",\"linecolor\":\"white\",\"ticks\":\"\",\"title\":{\"standoff\":15},\"zerolinecolor\":\"white\",\"automargin\":true,\"zerolinewidth\":2},\"yaxis\":{\"gridcolor\":\"white\",\"linecolor\":\"white\",\"ticks\":\"\",\"title\":{\"standoff\":15},\"zerolinecolor\":\"white\",\"automargin\":true,\"zerolinewidth\":2},\"scene\":{\"xaxis\":{\"backgroundcolor\":\"#E5ECF6\",\"gridcolor\":\"white\",\"linecolor\":\"white\",\"showbackground\":true,\"ticks\":\"\",\"zerolinecolor\":\"white\",\"gridwidth\":2},\"yaxis\":{\"backgroundcolor\":\"#E5ECF6\",\"gridcolor\":\"white\",\"linecolor\":\"white\",\"showbackground\":true,\"ticks\":\"\",\"zerolinecolor\":\"white\",\"gridwidth\":2},\"zaxis\":{\"backgroundcolor\":\"#E5ECF6\",\"gridcolor\":\"white\",\"linecolor\":\"white\",\"showbackground\":true,\"ticks\":\"\",\"zerolinecolor\":\"white\",\"gridwidth\":2}},\"shapedefaults\":{\"line\":{\"color\":\"#2a3f5f\"}},\"annotationdefaults\":{\"arrowcolor\":\"#2a3f5f\",\"arrowhead\":0,\"arrowwidth\":1},\"geo\":{\"bgcolor\":\"white\",\"landcolor\":\"#E5ECF6\",\"subunitcolor\":\"white\",\"showland\":true,\"showlakes\":true,\"lakecolor\":\"white\"},\"title\":{\"x\":0.05},\"mapbox\":{\"style\":\"light\"}}},\"scene\":{\"domain\":{\"x\":[0.0,1.0],\"y\":[0.0,1.0]},\"xaxis\":{\"title\":{\"text\":\"dim1\"}},\"yaxis\":{\"title\":{\"text\":\"dim2\"}},\"zaxis\":{\"title\":{\"text\":\"dim3\"}}},\"legend\":{\"title\":{\"text\":\"label\"},\"tracegroupgap\":0},\"margin\":{\"t\":60}},                        {\"responsive\": true}                    ).then(function(){\n",
       "                            \n",
       "var gd = document.getElementById('0d9bed9c-dc8d-45ee-bd30-b334fa66b9c9');\n",
       "var x = new MutationObserver(function (mutations, observer) {{\n",
       "        var display = window.getComputedStyle(gd).display;\n",
       "        if (!display || display === 'none') {{\n",
       "            console.log([gd, 'removed!']);\n",
       "            Plotly.purge(gd);\n",
       "            observer.disconnect();\n",
       "        }}\n",
       "}});\n",
       "\n",
       "// Listen for the removal of the full notebook cells\n",
       "var notebookContainer = gd.closest('#notebook-container');\n",
       "if (notebookContainer) {{\n",
       "    x.observe(notebookContainer, {childList: true});\n",
       "}}\n",
       "\n",
       "// Listen for the clearing of the current output cell\n",
       "var outputEl = gd.closest('.output');\n",
       "if (outputEl) {{\n",
       "    x.observe(outputEl, {childList: true});\n",
       "}}\n",
       "\n",
       "                        })                };                });            </script>        </div>"
      ]
     },
     "metadata": {},
     "output_type": "display_data"
    }
   ],
   "source": [
    "X_embedded = PCA_fit(embedding_matrix_with_clue, n_comp = 3)\n",
    "df_reduced = matrix_to_df(X_embedded, words_b, labels_b)\n",
    "plot_3d(df_reduced, color_map)"
   ]
  }
 ],
 "metadata": {
  "kernelspec": {
   "display_name": "Python 3 (ipykernel)",
   "language": "python",
   "name": "python3"
  },
  "language_info": {
   "codemirror_mode": {
    "name": "ipython",
    "version": 3
   },
   "file_extension": ".py",
   "mimetype": "text/x-python",
   "name": "python",
   "nbconvert_exporter": "python",
   "pygments_lexer": "ipython3",
   "version": "3.8.10"
  }
 },
 "nbformat": 4,
 "nbformat_minor": 5
}
